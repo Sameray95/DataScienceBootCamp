{
  "nbformat": 4,
  "nbformat_minor": 0,
  "metadata": {
    "colab": {
      "provenance": [],
      "authorship_tag": "ABX9TyN0cgypmsURDq2rK0/MxFZ5",
      "include_colab_link": true
    },
    "kernelspec": {
      "name": "python3",
      "display_name": "Python 3"
    },
    "language_info": {
      "name": "python"
    }
  },
  "cells": [
    {
      "cell_type": "markdown",
      "metadata": {
        "id": "view-in-github",
        "colab_type": "text"
      },
      "source": [
        "<a href=\"https://colab.research.google.com/github/Sameray95/DataScienceBootCamp/blob/main/LetterT.ipynb\" target=\"_parent\"><img src=\"https://colab.research.google.com/assets/colab-badge.svg\" alt=\"Open In Colab\"/></a>"
      ]
    },
    {
      "cell_type": "code",
      "source": [
        "print('Implementing letter T using Python')  # Title of the program\n",
        "\n",
        "while True:\n",
        "    user_choice = input('Enter any character you want to print as T: ')  # asking input from the user\n",
        "\n",
        "    user_select = input('Do you want to continue with ' + user_choice + '? Press Y for Yes and N for No: ')\n",
        "\n",
        "    if user_select.lower() == 'y':\n",
        "        print('Implementing Letter T using ' + user_choice)\n",
        "\n",
        "        while True:\n",
        "            n = int(input('Enter the size of T: '))\n",
        "\n",
        "            if n == 0:\n",
        "                print(\"Please enter a valid size\")\n",
        "            else:\n",
        "                break\n",
        "\n",
        "        for row in range(n):\n",
        "            for col in range(n):\n",
        "                if row == 0 or col == n // 2:  #taking quotient as a whole number\n",
        "                    print(user_choice, end=\" \")\n",
        "                else:\n",
        "                    print(\" \", end=\" \")\n",
        "            print()\n",
        "\n",
        "        break\n",
        "\n",
        "    elif user_select.lower() == 'n':\n",
        "        print('Thank you for your response, will not proceed further')\n",
        "        break\n",
        "    else:\n",
        "        print('Invalid response. Please enter Y or N.')\n"
      ],
      "metadata": {
        "colab": {
          "base_uri": "https://localhost:8080/"
        },
        "id": "ZDBpQxS4xy0u",
        "outputId": "789c6b39-f9f1-4bda-8af8-5b4b04f26f26"
      },
      "execution_count": null,
      "outputs": [
        {
          "output_type": "stream",
          "name": "stdout",
          "text": [
            "Implementing letter T using Python\n",
            "Enter any character you want to print as T: 7\n",
            "Do you want to continue with 7? Press Y for Yes and N for No: y\n",
            "Implementing Letter T using 7\n",
            "Enter the size of T: 7\n",
            "7 7 7 7 7 7 7 \n",
            "      7       \n",
            "      7       \n",
            "      7       \n",
            "      7       \n",
            "      7       \n",
            "      7       \n"
          ]
        }
      ]
    },
    {
      "cell_type": "code",
      "source": [],
      "metadata": {
        "id": "-JcQYHzPRglq"
      },
      "execution_count": null,
      "outputs": []
    }
  ]
}