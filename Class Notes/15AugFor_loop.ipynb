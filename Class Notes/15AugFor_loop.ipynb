{
  "nbformat": 4,
  "nbformat_minor": 0,
  "metadata": {
    "colab": {
      "provenance": []
    },
    "kernelspec": {
      "name": "python3",
      "display_name": "Python 3"
    },
    "language_info": {
      "name": "python"
    }
  },
  "cells": [
    {
      "cell_type": "code",
      "execution_count": null,
      "metadata": {
        "id": "NdZgNUYqp71C"
      },
      "outputs": [],
      "source": [
        "lst1=[12,21,34,54,23,65,87,54]\n",
        "for i in lst1:\n",
        "  print('value of i', i)"
      ]
    },
    {
      "cell_type": "code",
      "source": [],
      "metadata": {
        "id": "IsTxa9P6vlMQ"
      },
      "execution_count": null,
      "outputs": []
    },
    {
      "cell_type": "code",
      "source": [
        "tup1=('apple','banana','cherries','dates','fig')\n",
        "\n",
        "for i in tup1:\n",
        "  print('Value of i', i)"
      ],
      "metadata": {
        "id": "v1h_9TKnqSD5",
        "colab": {
          "base_uri": "https://localhost:8080/"
        },
        "outputId": "c053cc27-24cc-46c6-b1a8-0f6024bf7d77"
      },
      "execution_count": null,
      "outputs": [
        {
          "output_type": "stream",
          "name": "stdout",
          "text": [
            "Value of i apple\n",
            "Value of i banana\n",
            "Value of i cherries\n",
            "Value of i dates\n",
            "Value of i fig\n"
          ]
        }
      ]
    },
    {
      "cell_type": "code",
      "source": [
        "set1={'apple','banana','cherries','dates','fig',12,21,34,54,23,65,87,54}\n",
        "for i in set1:\n",
        "  print('Value of i', i)"
      ],
      "metadata": {
        "colab": {
          "base_uri": "https://localhost:8080/"
        },
        "id": "MU4rcPNLqlWJ",
        "outputId": "5d67652f-d69b-4ef2-b6be-1769db707285"
      },
      "execution_count": null,
      "outputs": [
        {
          "output_type": "stream",
          "name": "stdout",
          "text": [
            "Value of i banana\n",
            "Value of i 65\n",
            "Value of i 34\n",
            "Value of i dates\n",
            "Value of i 12\n",
            "Value of i fig\n",
            "Value of i apple\n",
            "Value of i cherries\n",
            "Value of i 21\n",
            "Value of i 54\n",
            "Value of i 23\n",
            "Value of i 87\n"
          ]
        }
      ]
    },
    {
      "cell_type": "code",
      "source": [
        "str1='peppa prefer python programming'\n",
        "\n",
        "print(len(str1))\n",
        "for i in str1:\n",
        "  print('value of i', i)"
      ],
      "metadata": {
        "colab": {
          "base_uri": "https://localhost:8080/"
        },
        "id": "mLH58R1Lq76o",
        "outputId": "a3dfd6a6-92cc-474c-845e-f942a0020713"
      },
      "execution_count": null,
      "outputs": [
        {
          "output_type": "stream",
          "name": "stdout",
          "text": [
            "31\n",
            "value of i p\n",
            "value of i e\n",
            "value of i p\n",
            "value of i p\n",
            "value of i a\n",
            "value of i  \n",
            "value of i p\n",
            "value of i r\n",
            "value of i e\n",
            "value of i f\n",
            "value of i e\n",
            "value of i r\n",
            "value of i  \n",
            "value of i p\n",
            "value of i y\n",
            "value of i t\n",
            "value of i h\n",
            "value of i o\n",
            "value of i n\n",
            "value of i  \n",
            "value of i p\n",
            "value of i r\n",
            "value of i o\n",
            "value of i g\n",
            "value of i r\n",
            "value of i a\n",
            "value of i m\n",
            "value of i m\n",
            "value of i i\n",
            "value of i n\n",
            "value of i g\n"
          ]
        }
      ]
    },
    {
      "cell_type": "code",
      "source": [
        "dict1={'a':'apple','b':'ball','c':'cat','d':'dog'}\n",
        "for i in dict1:\n",
        "  print('value of i', i )"
      ],
      "metadata": {
        "colab": {
          "base_uri": "https://localhost:8080/"
        },
        "id": "Pa5hPBZZrWG5",
        "outputId": "4ef87bcb-e297-44e8-f5b3-3e9a160a4dd4"
      },
      "execution_count": null,
      "outputs": [
        {
          "output_type": "stream",
          "name": "stdout",
          "text": [
            "value of i a\n",
            "value of i b\n",
            "value of i c\n",
            "value of i d\n"
          ]
        }
      ]
    },
    {
      "cell_type": "code",
      "source": [
        "for i in range(10): #index always starts from 0\n",
        "  print('value of i',i)"
      ],
      "metadata": {
        "id": "UEtGmcmvru-Y",
        "colab": {
          "base_uri": "https://localhost:8080/"
        },
        "outputId": "f1c8aeee-2301-44d3-f39d-0ff1f64896b4"
      },
      "execution_count": null,
      "outputs": [
        {
          "output_type": "stream",
          "name": "stdout",
          "text": [
            "value of i 0\n",
            "value of i 1\n",
            "value of i 2\n",
            "value of i 3\n",
            "value of i 4\n",
            "value of i 5\n",
            "value of i 6\n",
            "value of i 7\n",
            "value of i 8\n",
            "value of i 9\n"
          ]
        }
      ]
    },
    {
      "cell_type": "code",
      "source": [
        "for i in range(0, 10, 2): #(start value: end value: steps)\n",
        "  print('value of i',i)"
      ],
      "metadata": {
        "colab": {
          "base_uri": "https://localhost:8080/"
        },
        "id": "shYNo-x1r8kw",
        "outputId": "41765059-ea4e-4cbe-d42e-e95d6df94ea5"
      },
      "execution_count": null,
      "outputs": [
        {
          "output_type": "stream",
          "name": "stdout",
          "text": [
            "value of i 0\n",
            "value of i 2\n",
            "value of i 4\n",
            "value of i 6\n",
            "value of i 8\n"
          ]
        }
      ]
    },
    {
      "cell_type": "code",
      "source": [
        "for i in range (10):\n",
        "  for j in range (10):\n",
        "    print('*', end=' ')\n",
        "  print('\\r')\n"
      ],
      "metadata": {
        "colab": {
          "base_uri": "https://localhost:8080/"
        },
        "id": "NJtM59YOvmum",
        "outputId": "75b40a1f-2685-4cb2-e13c-1864e03d7ad8"
      },
      "execution_count": null,
      "outputs": [
        {
          "output_type": "stream",
          "name": "stdout",
          "text": [
            "* * * * * * * * * * \r\n",
            "* * * * * * * * * * \r\n",
            "* * * * * * * * * * \r\n",
            "* * * * * * * * * * \r\n",
            "* * * * * * * * * * \r\n",
            "* * * * * * * * * * \r\n",
            "* * * * * * * * * * \r\n",
            "* * * * * * * * * * \r\n",
            "* * * * * * * * * * \r\n",
            "* * * * * * * * * * \r\n"
          ]
        }
      ]
    },
    {
      "cell_type": "code",
      "source": [
        "k=0\n",
        "for i in range(10):\n",
        "  for j in range (10):\n",
        "    k+=1\n",
        "    print(k, end= ' ')\n",
        "  print('\\r')"
      ],
      "metadata": {
        "colab": {
          "base_uri": "https://localhost:8080/"
        },
        "id": "ZtmbaXo7xFEh",
        "outputId": "4aed6e24-77ba-459d-f931-6ef0d135738d"
      },
      "execution_count": null,
      "outputs": [
        {
          "output_type": "stream",
          "name": "stdout",
          "text": [
            "1 2 3 4 5 6 7 8 9 10 \r\n",
            "11 12 13 14 15 16 17 18 19 20 \r\n",
            "21 22 23 24 25 26 27 28 29 30 \r\n",
            "31 32 33 34 35 36 37 38 39 40 \r\n",
            "41 42 43 44 45 46 47 48 49 50 \r\n",
            "51 52 53 54 55 56 57 58 59 60 \r\n",
            "61 62 63 64 65 66 67 68 69 70 \r\n",
            "71 72 73 74 75 76 77 78 79 80 \r\n",
            "81 82 83 84 85 86 87 88 89 90 \r\n",
            "91 92 93 94 95 96 97 98 99 100 \r\n"
          ]
        }
      ]
    },
    {
      "cell_type": "code",
      "source": [
        "for i in range(10):\n",
        "  for j in range(0,i):\n",
        "    print('', end=' ')\n",
        "  for k in range(10,i,-1):\n",
        "    print('*', end =' ')\n",
        "  print('\\r')"
      ],
      "metadata": {
        "colab": {
          "base_uri": "https://localhost:8080/"
        },
        "id": "iy5wn5NOzdxQ",
        "outputId": "75eba0f3-4e75-4e1c-aa87-ef734e4dfb18"
      },
      "execution_count": null,
      "outputs": [
        {
          "output_type": "stream",
          "name": "stdout",
          "text": [
            "* * * * * * * * * * \r\n",
            " * * * * * * * * * \r\n",
            "  * * * * * * * * \r\n",
            "   * * * * * * * \r\n",
            "    * * * * * * \r\n",
            "     * * * * * \r\n",
            "      * * * * \r\n",
            "       * * * \r\n",
            "        * * \r\n",
            "         * \r\n"
          ]
        }
      ]
    },
    {
      "cell_type": "code",
      "source": [
        "for i in range(10):\n",
        "  for j in range(0,10-i):\n",
        "    print(' ', end=' ')\n",
        "  for k in range(0,i+1):\n",
        "    print('*', end =' ')\n",
        "  print('\\r')"
      ],
      "metadata": {
        "colab": {
          "base_uri": "https://localhost:8080/"
        },
        "id": "WjUksJ0YzZbp",
        "outputId": "4dc89be5-a51c-4296-9091-323b8ee84fc3"
      },
      "execution_count": null,
      "outputs": [
        {
          "output_type": "stream",
          "name": "stdout",
          "text": [
            "                    * \r\n",
            "                  * * \r\n",
            "                * * * \r\n",
            "              * * * * \r\n",
            "            * * * * * \r\n",
            "          * * * * * * \r\n",
            "        * * * * * * * \r\n",
            "      * * * * * * * * \r\n",
            "    * * * * * * * * * \r\n",
            "  * * * * * * * * * * \r\n"
          ]
        }
      ]
    },
    {
      "cell_type": "code",
      "source": [
        "\n",
        "\n",
        "for i in range (10):   # draw 10 rows\n",
        "  for i in range (0,10-i): #draws 10 columns decreasing from 10\n",
        "      print(\"\", end=\"\")    # print spaces\n",
        "  for k in range (0,i+1):  # starting from 1 to 10\n",
        "      print('*', end= \" \")  #print *\n",
        "  print('\\r')"
      ],
      "metadata": {
        "colab": {
          "base_uri": "https://localhost:8080/"
        },
        "id": "Rm_LGqgM0v-g",
        "outputId": "62bb75cf-afc8-4ee2-a364-9856efa3d933"
      },
      "execution_count": null,
      "outputs": [
        {
          "output_type": "stream",
          "name": "stdout",
          "text": [
            "* * * * * * * * * * \r\n",
            "* * * * * * * * * \r\n",
            "* * * * * * * * \r\n",
            "* * * * * * * \r\n",
            "* * * * * * \r\n",
            "* * * * * \r\n",
            "* * * * \r\n",
            "* * * \r\n",
            "* * \r\n",
            "* \r\n"
          ]
        }
      ]
    },
    {
      "cell_type": "code",
      "source": [
        "for i in range (10):\n",
        "  for i in range (0,1+i):\n",
        "    print(\" \", end=\"\")\n",
        "  for k in range (0,10-i):\n",
        "      print('*', end= \" \")\n",
        "  print('\\r')\n",
        "for i in range(1,10):\n",
        "  for j in range(0,10-i):\n",
        "    print('', end=' ')\n",
        "  for k in range(0,i+1):\n",
        "    print('*', end =' ')\n",
        "  print('\\r')\n",
        "\n"
      ],
      "metadata": {
        "colab": {
          "base_uri": "https://localhost:8080/"
        },
        "id": "2nMwUPkz86oe",
        "outputId": "f81d3cd6-ff97-45b2-8509-3f8bad5b8fd2"
      },
      "execution_count": null,
      "outputs": [
        {
          "output_type": "stream",
          "name": "stdout",
          "text": [
            " * * * * * * * * * * \r\n",
            "  * * * * * * * * * \r\n",
            "   * * * * * * * * \r\n",
            "    * * * * * * * \r\n",
            "     * * * * * * \r\n",
            "      * * * * * \r\n",
            "       * * * * \r\n",
            "        * * * \r\n",
            "         * * \r\n",
            "          * \r\n",
            "         * * \r\n",
            "        * * * \r\n",
            "       * * * * \r\n",
            "      * * * * * \r\n",
            "     * * * * * * \r\n",
            "    * * * * * * * \r\n",
            "   * * * * * * * * \r\n",
            "  * * * * * * * * * \r\n",
            " * * * * * * * * * * \r\n"
          ]
        }
      ]
    },
    {
      "cell_type": "code",
      "source": [
        "\n",
        "for i in range (10):\n",
        "  for j in range(10):\n",
        "    if (i==0 or i==10) or (j==0 or j ==10):\n",
        "      print('*')\n",
        "    else:\n",
        "      print(' ')\n"
      ],
      "metadata": {
        "id": "4LJpS0Zv_0R2"
      },
      "execution_count": null,
      "outputs": []
    },
    {
      "cell_type": "code",
      "source": [
        "#Question 1) Remove all repeated elements from the list Given below using for loop.\n",
        "# a=[1,2,3,4,5,11,1,2,6,1,8]\n",
        "\n",
        "a = [1, 2, 3, 4, 5, 11, 1, 2, 6, 1, 8]\n",
        "b = []\n",
        "\n",
        "for i in a:\n",
        "    if i not in b:\n",
        "        b.append(i)\n",
        "\n",
        "print(b)\n",
        "\n"
      ],
      "metadata": {
        "colab": {
          "base_uri": "https://localhost:8080/"
        },
        "id": "fE7F1Zx1b3sU",
        "outputId": "a52de9cf-f2c8-4582-a35b-672195b6aa97"
      },
      "execution_count": null,
      "outputs": [
        {
          "output_type": "stream",
          "name": "stdout",
          "text": [
            "[1, 2, 3, 4, 5, 11, 6, 8]\n"
          ]
        }
      ]
    },
    {
      "cell_type": "code",
      "source": [
        "# Question 2) Print all prime numbers below 100\n",
        "\n",
        "\n",
        "\n"
      ],
      "metadata": {
        "id": "3-AZoRk1cj2N"
      },
      "execution_count": null,
      "outputs": []
    }
  ]
}