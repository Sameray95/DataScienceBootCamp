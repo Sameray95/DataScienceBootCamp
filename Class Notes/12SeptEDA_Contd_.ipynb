{
  "nbformat": 4,
  "nbformat_minor": 0,
  "metadata": {
    "colab": {
      "provenance": []
    },
    "kernelspec": {
      "name": "python3",
      "display_name": "Python 3"
    },
    "language_info": {
      "name": "python"
    }
  },
  "cells": [
    {
      "cell_type": "code",
      "execution_count": null,
      "metadata": {
        "id": "4bVt95eK22cI"
      },
      "outputs": [],
      "source": [
        "#Lambda continue"
      ]
    },
    {
      "cell_type": "code",
      "source": [
        "x= 5\n",
        "y =8\n",
        "if x < y :\n",
        "  print(x, 'is smaller than' , y)\n",
        "elif x > y:\n",
        "  print(x, 'is greater than' , y)\n",
        "else:\n",
        "  print(x, 'is equal to ', y )\n",
        "\n",
        "#lambda Equivalent\n",
        "\n",
        "result = lambda x,y: f\"{x} is smaller than {y}\" if x < y else f\"{x} is greater than {y}\" if x > y else f\"{x} is equal ton {y}\"\n"
      ],
      "metadata": {
        "colab": {
          "base_uri": "https://localhost:8080/"
        },
        "id": "eHaQ3ehh29hJ",
        "outputId": "07695fb5-2be8-4970-911a-b11af258a3b4"
      },
      "execution_count": null,
      "outputs": [
        {
          "output_type": "stream",
          "name": "stdout",
          "text": [
            "5 is smaller than 8\n"
          ]
        }
      ]
    },
    {
      "cell_type": "code",
      "source": [
        "result = lambda x,y : f\"{x} is smaller than {y}\" \\\n",
        "if x < y else (f\"{x} is greater than {y}\" if x > y \\\n",
        "               else f\"{x} is equal to {y}\")"
      ],
      "metadata": {
        "id": "KXihei9B7syZ"
      },
      "execution_count": null,
      "outputs": []
    },
    {
      "cell_type": "code",
      "source": [
        "percentage= 70\n",
        "if (percentage >= 80):\n",
        "  print('Pass with first div')\n",
        "elif (percentage >= 60):\n",
        "  print('Pass with first class ')\n",
        "elif (percentage >=40):\n",
        "  print('pass with second class')\n",
        "elif(percentage >= 32):\n",
        "  print('pass with third class')\n",
        "\n",
        "else:\n",
        "  print('Better Luck Next time')"
      ],
      "metadata": {
        "colab": {
          "base_uri": "https://localhost:8080/"
        },
        "id": "CnO3iDLO4Oih",
        "outputId": "524846e0-dc63-435e-cce4-8322bb382f27"
      },
      "execution_count": null,
      "outputs": [
        {
          "output_type": "stream",
          "name": "stdout",
          "text": [
            "Pass with first class \n"
          ]
        }
      ]
    },
    {
      "cell_type": "code",
      "source": [
        "result = lambda percentage: f\"{percentage} Pass with first div\" if (percentage >= 80) else (\\\n",
        "                            f\"{percentage} Pass with first class\" if (percentage >= 60) else (\\\n",
        "                            f\"{percentage} pass with second class\" if percentage >=40 else (\\\n",
        "                            f\"{percentage} pass with third class\" if percentage >= 32 else (\\\n",
        "                            f\"{percentage} Better Luck Next time\" ))))\n",
        "\n"
      ],
      "metadata": {
        "id": "TNEfvOOg41fa"
      },
      "execution_count": null,
      "outputs": []
    },
    {
      "cell_type": "code",
      "source": [
        "result(90), result(83), result(78), result(67), result(50), result(43), result(33), result(23)"
      ],
      "metadata": {
        "colab": {
          "base_uri": "https://localhost:8080/"
        },
        "id": "LRs93Pm88KZZ",
        "outputId": "7ddebebc-e815-4fa2-8b6c-e4c1ac2f0d44"
      },
      "execution_count": null,
      "outputs": [
        {
          "output_type": "execute_result",
          "data": {
            "text/plain": [
              "('90 Pass with first div',\n",
              " '83 Pass with first div',\n",
              " '78 Pass with first class',\n",
              " '67 Pass with first class',\n",
              " '50pass with second class',\n",
              " '43pass with second class',\n",
              " '33 pass with third class',\n",
              " '23Better Luck Next time')"
            ]
          },
          "metadata": {},
          "execution_count": 17
        }
      ]
    },
    {
      "cell_type": "code",
      "source": [
        "comment = lambda percentage: 'Pass with first div' if (percentage >= 80) else 'Pass with first class ' if (percentage >= 60) else 'pass with second class' if percentage >=40 else 'pass with third class' if percentage >= 32 else 'Better Luck Next time'"
      ],
      "metadata": {
        "id": "ClfgIhLU6GzB"
      },
      "execution_count": null,
      "outputs": []
    },
    {
      "cell_type": "code",
      "source": [
        "comment (56), comment (80)"
      ],
      "metadata": {
        "colab": {
          "base_uri": "https://localhost:8080/"
        },
        "id": "nUezjBxK7wRQ",
        "outputId": "e27faeb8-20c4-493c-ba42-ae3a4250b6a3"
      },
      "execution_count": null,
      "outputs": [
        {
          "output_type": "execute_result",
          "data": {
            "text/plain": [
              "('pass with second class', 'Pass with first div')"
            ]
          },
          "metadata": {},
          "execution_count": 24
        }
      ]
    },
    {
      "cell_type": "code",
      "source": [
        "def func_sum(a,b):\n",
        "  return a + b\n"
      ],
      "metadata": {
        "id": "VGbMXWAT93LZ"
      },
      "execution_count": null,
      "outputs": []
    },
    {
      "cell_type": "code",
      "source": [
        "def func_sum(a,b,c,d):\n",
        "  return a + b + c + d"
      ],
      "metadata": {
        "id": "kIuDaVn8_3Y6"
      },
      "execution_count": null,
      "outputs": []
    },
    {
      "cell_type": "code",
      "source": [
        "def func_sum(a,b,c,d,e,f,g,h):\n",
        "  return a + b + c + d + e + f + g + h"
      ],
      "metadata": {
        "id": "e19SBhvS_9wo"
      },
      "execution_count": null,
      "outputs": []
    },
    {
      "cell_type": "code",
      "source": [
        "# if variable keeps changing either deacreasing or increasing, solution is arguments ,, *args\n",
        "\n",
        "\n",
        "def func_sum(*args):    #args= non keyboard arguments\n",
        "  return sum(args)\n"
      ],
      "metadata": {
        "id": "q3nttyl4AsiA"
      },
      "execution_count": null,
      "outputs": []
    },
    {
      "cell_type": "code",
      "source": [
        "def func_sum(*sameer):\n",
        "  return sum(sameer)\n",
        "func_sum1= func_sum(1,2,34,5,67,7,77,7,7,)\n",
        "print(func_sum1)"
      ],
      "metadata": {
        "colab": {
          "base_uri": "https://localhost:8080/"
        },
        "id": "vvX8ez0YBZZn",
        "outputId": "5c1d4583-b600-4856-aeaa-092d4d2979e4"
      },
      "execution_count": null,
      "outputs": [
        {
          "output_type": "stream",
          "name": "stdout",
          "text": [
            "207\n"
          ]
        }
      ]
    },
    {
      "cell_type": "code",
      "source": [
        "def func_sum(*args,a,b,c):\n",
        "  return a+b+c +(sum(args))"
      ],
      "metadata": {
        "id": "7RRhMG_vCgCF"
      },
      "execution_count": null,
      "outputs": []
    },
    {
      "cell_type": "code",
      "source": [
        "func_sum(12,32,43,34,54,65,76,34343,545454,656)  # error because *args took all the values"
      ],
      "metadata": {
        "colab": {
          "base_uri": "https://localhost:8080/",
          "height": 180
        },
        "id": "cGGOfLSCFv4R",
        "outputId": "abbd3837-41d4-43eb-8ada-b8e0069501b7"
      },
      "execution_count": null,
      "outputs": [
        {
          "output_type": "error",
          "ename": "TypeError",
          "evalue": "ignored",
          "traceback": [
            "\u001b[0;31m---------------------------------------------------------------------------\u001b[0m",
            "\u001b[0;31mTypeError\u001b[0m                                 Traceback (most recent call last)",
            "\u001b[0;32m<ipython-input-45-475583598e50>\u001b[0m in \u001b[0;36m<cell line: 1>\u001b[0;34m()\u001b[0m\n\u001b[0;32m----> 1\u001b[0;31m \u001b[0mfunc_sum\u001b[0m\u001b[0;34m(\u001b[0m\u001b[0;36m12\u001b[0m\u001b[0;34m,\u001b[0m\u001b[0;36m32\u001b[0m\u001b[0;34m,\u001b[0m\u001b[0;36m43\u001b[0m\u001b[0;34m,\u001b[0m\u001b[0;36m34\u001b[0m\u001b[0;34m,\u001b[0m\u001b[0;36m54\u001b[0m\u001b[0;34m,\u001b[0m\u001b[0;36m65\u001b[0m\u001b[0;34m,\u001b[0m\u001b[0;36m76\u001b[0m\u001b[0;34m,\u001b[0m\u001b[0;36m34343\u001b[0m\u001b[0;34m,\u001b[0m\u001b[0;36m545454\u001b[0m\u001b[0;34m,\u001b[0m\u001b[0;36m656\u001b[0m\u001b[0;34m)\u001b[0m\u001b[0;34m\u001b[0m\u001b[0;34m\u001b[0m\u001b[0m\n\u001b[0m",
            "\u001b[0;31mTypeError\u001b[0m: func_sum() missing 3 required keyword-only arguments: 'a', 'b', and 'c'"
          ]
        }
      ]
    },
    {
      "cell_type": "code",
      "source": [
        "def func_sum(a,b,c,d,e,*args):\n",
        "  return a+b+c+d+e +(sum(args))\n",
        "func_sum(1,2,3,4,5,6,7,8,9)"
      ],
      "metadata": {
        "colab": {
          "base_uri": "https://localhost:8080/"
        },
        "id": "PFQCoDvvIKzs",
        "outputId": "c51008b2-f5cc-4be7-b4b1-95cb2daf6837"
      },
      "execution_count": null,
      "outputs": [
        {
          "output_type": "execute_result",
          "data": {
            "text/plain": [
              "45"
            ]
          },
          "metadata": {},
          "execution_count": 55
        }
      ]
    },
    {
      "cell_type": "code",
      "source": [
        "def func_sum(*args,a,b,c,d,e):\n",
        "  return (*args,a,b,c,d,e)\n",
        "func_sum({'a':12,'b':23,'c':34,'d':45,'e':56},67,78,89,90,101)"
      ],
      "metadata": {
        "colab": {
          "base_uri": "https://localhost:8080/",
          "height": 216
        },
        "id": "K6DdKvGmJWzq",
        "outputId": "4e214aa4-e498-47e5-ff93-8082dbb4a2e4"
      },
      "execution_count": null,
      "outputs": [
        {
          "output_type": "error",
          "ename": "TypeError",
          "evalue": "ignored",
          "traceback": [
            "\u001b[0;31m---------------------------------------------------------------------------\u001b[0m",
            "\u001b[0;31mTypeError\u001b[0m                                 Traceback (most recent call last)",
            "\u001b[0;32m<ipython-input-58-2672a8e0ccc9>\u001b[0m in \u001b[0;36m<cell line: 3>\u001b[0;34m()\u001b[0m\n\u001b[1;32m      1\u001b[0m \u001b[0;32mdef\u001b[0m \u001b[0mfunc_sum\u001b[0m\u001b[0;34m(\u001b[0m\u001b[0;34m*\u001b[0m\u001b[0margs\u001b[0m\u001b[0;34m,\u001b[0m\u001b[0ma\u001b[0m\u001b[0;34m,\u001b[0m\u001b[0mb\u001b[0m\u001b[0;34m,\u001b[0m\u001b[0mc\u001b[0m\u001b[0;34m,\u001b[0m\u001b[0md\u001b[0m\u001b[0;34m,\u001b[0m\u001b[0me\u001b[0m\u001b[0;34m)\u001b[0m\u001b[0;34m:\u001b[0m\u001b[0;34m\u001b[0m\u001b[0;34m\u001b[0m\u001b[0m\n\u001b[1;32m      2\u001b[0m   \u001b[0;32mreturn\u001b[0m \u001b[0;34m(\u001b[0m\u001b[0;34m*\u001b[0m\u001b[0margs\u001b[0m\u001b[0;34m,\u001b[0m\u001b[0ma\u001b[0m\u001b[0;34m,\u001b[0m\u001b[0mb\u001b[0m\u001b[0;34m,\u001b[0m\u001b[0mc\u001b[0m\u001b[0;34m,\u001b[0m\u001b[0md\u001b[0m\u001b[0;34m,\u001b[0m\u001b[0me\u001b[0m\u001b[0;34m)\u001b[0m\u001b[0;34m\u001b[0m\u001b[0;34m\u001b[0m\u001b[0m\n\u001b[0;32m----> 3\u001b[0;31m \u001b[0mfunc_sum\u001b[0m\u001b[0;34m(\u001b[0m\u001b[0;34m{\u001b[0m\u001b[0;34m'a'\u001b[0m\u001b[0;34m:\u001b[0m\u001b[0;36m12\u001b[0m\u001b[0;34m,\u001b[0m\u001b[0;34m'b'\u001b[0m\u001b[0;34m:\u001b[0m\u001b[0;36m23\u001b[0m\u001b[0;34m,\u001b[0m\u001b[0;34m'c'\u001b[0m\u001b[0;34m:\u001b[0m\u001b[0;36m34\u001b[0m\u001b[0;34m,\u001b[0m\u001b[0;34m'd'\u001b[0m\u001b[0;34m:\u001b[0m\u001b[0;36m45\u001b[0m\u001b[0;34m,\u001b[0m\u001b[0;34m'e'\u001b[0m\u001b[0;34m:\u001b[0m\u001b[0;36m56\u001b[0m\u001b[0;34m}\u001b[0m\u001b[0;34m,\u001b[0m\u001b[0;36m67\u001b[0m\u001b[0;34m,\u001b[0m\u001b[0;36m78\u001b[0m\u001b[0;34m,\u001b[0m\u001b[0;36m89\u001b[0m\u001b[0;34m,\u001b[0m\u001b[0;36m90\u001b[0m\u001b[0;34m,\u001b[0m\u001b[0;36m101\u001b[0m\u001b[0;34m)\u001b[0m\u001b[0;34m\u001b[0m\u001b[0;34m\u001b[0m\u001b[0m\n\u001b[0m",
            "\u001b[0;31mTypeError\u001b[0m: func_sum() missing 5 required keyword-only arguments: 'a', 'b', 'c', 'd', and 'e'"
          ]
        }
      ]
    },
    {
      "cell_type": "code",
      "source": [
        "def func_sum(**kwargs):\n",
        "  return kwargs"
      ],
      "metadata": {
        "id": "yPmvclS6J_yY"
      },
      "execution_count": null,
      "outputs": []
    },
    {
      "cell_type": "code",
      "source": [
        "func_sum(fname='sameer', mname='prasad', lname='neupane')"
      ],
      "metadata": {
        "colab": {
          "base_uri": "https://localhost:8080/"
        },
        "id": "XLQA4d0FKnFi",
        "outputId": "e2766d24-6da4-476d-f01f-13a70b376ed2"
      },
      "execution_count": null,
      "outputs": [
        {
          "output_type": "execute_result",
          "data": {
            "text/plain": [
              "{'fname': 'sameer', 'mname': 'prasad', 'lname': 'neupane'}"
            ]
          },
          "metadata": {},
          "execution_count": 63
        }
      ]
    },
    {
      "cell_type": "code",
      "source": [
        "def func_max(**kwargs):\n",
        "    return max(kwargs.values())\n",
        "\n",
        "result = func_max(a=12, b=32,c=43, d=546, e=642, f=4343, g=65, h=53, i=564, j=3543)\n",
        "print(result)\n"
      ],
      "metadata": {
        "colab": {
          "base_uri": "https://localhost:8080/"
        },
        "id": "TK163qoTLLyI",
        "outputId": "c8d0d63b-d488-46d9-fc57-0f98049eaefc"
      },
      "execution_count": null,
      "outputs": [
        {
          "output_type": "stream",
          "name": "stdout",
          "text": [
            "4343\n"
          ]
        }
      ]
    },
    {
      "cell_type": "code",
      "source": [
        "def func_abc(*args, **kwargs):\n",
        "    return (args, kwargs)\n",
        "\n",
        "result = func_abc(1, 2, 3, 4, 45, 4, 5, 4, a='apple', b='ball', c='cat')\n",
        "print(result)\n"
      ],
      "metadata": {
        "colab": {
          "base_uri": "https://localhost:8080/"
        },
        "id": "9DPa_NeULjr5",
        "outputId": "87c36579-36e0-4043-ca30-9f737c77bd8a"
      },
      "execution_count": null,
      "outputs": [
        {
          "output_type": "stream",
          "name": "stdout",
          "text": [
            "((1, 2, 3, 4, 45, 4, 5, 4), {'a': 'apple', 'b': 'ball', 'c': 'cat'})\n"
          ]
        }
      ]
    },
    {
      "cell_type": "code",
      "source": [
        "def func_abc(**kwargs, *args):\n",
        "    return (args, kwargs)\n",
        "\n",
        "result = func_abc(1, 2, 3, 4, 45, 4, 5, 4, a='apple', b='ball', c='cat')\n",
        "print(result)\n"
      ],
      "metadata": {
        "colab": {
          "base_uri": "https://localhost:8080/",
          "height": 143
        },
        "id": "w2zcFr7_PSBx",
        "outputId": "562d32e2-c93b-474b-921a-bae909c6782a"
      },
      "execution_count": null,
      "outputs": [
        {
          "output_type": "error",
          "ename": "SyntaxError",
          "evalue": "ignored",
          "traceback": [
            "\u001b[0;36m  File \u001b[0;32m\"<ipython-input-75-273f32c61e87>\"\u001b[0;36m, line \u001b[0;32m1\u001b[0m\n\u001b[0;31m    def func_abc(**kwargs, *args):\u001b[0m\n\u001b[0m                           ^\u001b[0m\n\u001b[0;31mSyntaxError\u001b[0m\u001b[0;31m:\u001b[0m invalid syntax\n"
          ]
        }
      ]
    },
    {
      "cell_type": "code",
      "source": [
        "def func_abc(*args, **kwargs, a,b,c):\n",
        "    return (args, kwargs,a,b,c)\n",
        "\n",
        "result = func_abc(1, 2, 3, 4, 45, 4, 5, 4, a='apple', b='ball', c='cat')\n",
        "print(result)\n",
        "\n"
      ],
      "metadata": {
        "colab": {
          "base_uri": "https://localhost:8080/",
          "height": 143
        },
        "id": "TsbsfYVwP0VI",
        "outputId": "f19cfbce-1b99-4c3b-9f74-4f1570e96f07"
      },
      "execution_count": null,
      "outputs": [
        {
          "output_type": "error",
          "ename": "SyntaxError",
          "evalue": "ignored",
          "traceback": [
            "\u001b[0;36m  File \u001b[0;32m\"<ipython-input-83-dbac3cf9ef02>\"\u001b[0;36m, line \u001b[0;32m1\u001b[0m\n\u001b[0;31m    def func_abc(*args, **kwargs, a,b,c):\u001b[0m\n\u001b[0m                                  ^\u001b[0m\n\u001b[0;31mSyntaxError\u001b[0m\u001b[0;31m:\u001b[0m invalid syntax\n"
          ]
        }
      ]
    },
    {
      "cell_type": "code",
      "source": [
        "def func_abc(a,b,c, *args, **kwargs):\n",
        "    return (a,b,c, args, kwargs)\n",
        "\n",
        "result = func_abc(1, 2, 3, 14, 45, 46, 5, 4, a1='apple', b2='ball', c3='cat')\n",
        "print(result)\n"
      ],
      "metadata": {
        "colab": {
          "base_uri": "https://localhost:8080/"
        },
        "id": "MNuTcY_8P8iw",
        "outputId": "24d65024-0014-4fb7-d5aa-a3d3be18a1d6"
      },
      "execution_count": null,
      "outputs": [
        {
          "output_type": "stream",
          "name": "stdout",
          "text": [
            "(1, 2, 3, (14, 45, 46, 5, 4), {'a1': 'apple', 'b2': 'ball', 'c3': 'cat'})\n"
          ]
        }
      ]
    }
  ]
}