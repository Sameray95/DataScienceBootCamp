{
  "nbformat": 4,
  "nbformat_minor": 0,
  "metadata": {
    "colab": {
      "provenance": []
    },
    "kernelspec": {
      "name": "python3",
      "display_name": "Python 3"
    },
    "language_info": {
      "name": "python"
    }
  },
  "cells": [
    {
      "cell_type": "code",
      "execution_count": null,
      "metadata": {
        "id": "gV67y7GViXY5"
      },
      "outputs": [],
      "source": []
    },
    {
      "cell_type": "code",
      "source": [
        "# Nested If\n",
        "\n",
        "a = 125\n",
        "\n",
        "if (a < 200):\n",
        "  print('if (a < 200):')\n",
        "  if (a < 175):\n",
        "    print('if (a < 175):')\n",
        "    if (a < 150):\n",
        "      print('if (a < 150):')\n",
        "      if (a < 125):\n",
        "        print('if (a < 125):')\n",
        "        if (a < 100):\n",
        "          print('if (a < 100):')\n",
        "          if (a < 75):\n",
        "            print('if (a < 75):')\n",
        "          else:\n",
        "            print('else if (a < 75):')\n",
        "        else:\n",
        "          print('else if (a < 100):')\n",
        "      else:\n",
        "        print('else if (a < 125):')\n",
        "    else:\n",
        "      print('else if (a < 150):')\n",
        "  else:\n",
        "    print('else if (a < 175):')\n",
        "else:\n",
        "  print('else if (a < 200):')"
      ],
      "metadata": {
        "id": "yLGlwjgaepfC"
      },
      "execution_count": null,
      "outputs": []
    },
    {
      "cell_type": "code",
      "source": [
        "#while loop\n",
        "\n",
        "a=100\n",
        "while(a>10):\n",
        "  print(a, 'is greater than 10')\n",
        "  a-=1"
      ],
      "metadata": {
        "id": "gR_VVPVGjWf6"
      },
      "execution_count": null,
      "outputs": []
    },
    {
      "cell_type": "code",
      "source": [
        "a=10\n",
        "while a<100:\n",
        "  print(a, 'is less than 100')\n",
        "  a+=10"
      ],
      "metadata": {
        "colab": {
          "base_uri": "https://localhost:8080/"
        },
        "id": "jCLpV3selZR5",
        "outputId": "0abcc063-4c97-4930-f8dd-e6cd06ec7921"
      },
      "execution_count": null,
      "outputs": [
        {
          "output_type": "stream",
          "name": "stdout",
          "text": [
            "10 is less than 100\n",
            "20 is less than 100\n",
            "30 is less than 100\n",
            "40 is less than 100\n",
            "50 is less than 100\n",
            "60 is less than 100\n",
            "70 is less than 100\n",
            "80 is less than 100\n",
            "90 is less than 100\n"
          ]
        }
      ]
    },
    {
      "cell_type": "code",
      "source": [
        "i=10\n",
        "while i <200:\n",
        "  print(i, 'is less than 200')\n",
        "  i+=20"
      ],
      "metadata": {
        "id": "fNh4Ceg-mCl4"
      },
      "execution_count": null,
      "outputs": []
    },
    {
      "cell_type": "code",
      "source": [
        "i=350\n",
        "while i >200:\n",
        "  print(i, 'is greater than 200')\n",
        "  i-=20\n"
      ],
      "metadata": {
        "id": "HAP_Z-Nkkp1J"
      },
      "execution_count": null,
      "outputs": []
    },
    {
      "cell_type": "code",
      "source": [],
      "metadata": {
        "id": "UVaDII2ZozaB"
      },
      "execution_count": null,
      "outputs": []
    },
    {
      "cell_type": "code",
      "source": [
        "#Break continue pass\n",
        "\n",
        "a=10\n",
        "while(a<100):\n",
        "  print(a, 'is greater than 10')\n",
        "  a+=10"
      ],
      "metadata": {
        "colab": {
          "base_uri": "https://localhost:8080/"
        },
        "id": "uNLLN1TVo79J",
        "outputId": "0bff8578-9199-4766-98f7-0e1edcd989f9"
      },
      "execution_count": null,
      "outputs": [
        {
          "output_type": "stream",
          "name": "stdout",
          "text": [
            "10 is greater than 10\n",
            "20 is greater than 10\n",
            "30 is greater than 10\n",
            "40 is greater than 10\n",
            "50 is greater than 10\n",
            "60 is greater than 10\n",
            "70 is greater than 10\n",
            "80 is greater than 10\n",
            "90 is greater than 10\n"
          ]
        }
      ]
    },
    {
      "cell_type": "code",
      "source": [
        "a = 10\n",
        "\n",
        "while a < 100: # True/False\n",
        "  if a == 50:\n",
        "    break\n",
        "  print(a, 'is less than 100')\n",
        "  a += 10"
      ],
      "metadata": {
        "id": "Y5GRipAWpTwg"
      },
      "execution_count": null,
      "outputs": []
    },
    {
      "cell_type": "code",
      "source": [
        "a = 10\n",
        "\n",
        "while a < 100: # True/False\n",
        "  if a == 50:\n",
        "    continue\n",
        "  print(a, 'is less than 100')\n",
        "  a += 10"
      ],
      "metadata": {
        "id": "ZASiNEm1pSuI"
      },
      "execution_count": null,
      "outputs": []
    },
    {
      "cell_type": "code",
      "source": [
        "#pass -- helps to execute any program\n",
        "\n",
        "a=200\n",
        "while (a<500):\n",
        "  pass"
      ],
      "metadata": {
        "id": "NTbsG1lartfn"
      },
      "execution_count": null,
      "outputs": []
    },
    {
      "cell_type": "code",
      "source": [
        "#WAP starts from 0 and go up to 100 and find odd and even numbers using while loop\n",
        "\n",
        "a=-1\n",
        "b=100\n",
        "\n",
        "while(a<b):\n",
        "  a+=1\n",
        "  if(a%2==0):\n",
        "    print( a, 'is even')\n",
        "  else:\n",
        "    print(a, 'is odd')"
      ],
      "metadata": {
        "id": "uOpay17WsGzH"
      },
      "execution_count": null,
      "outputs": []
    },
    {
      "cell_type": "code",
      "source": [
        "total=0\n",
        "\n",
        "num= int(input(\"Enter a number \"))\n",
        "\n",
        "while num!=0:\n",
        "  total+= num\n",
        "  num=int(input(\"Enter a number \"))\n",
        "print(total)\n"
      ],
      "metadata": {
        "colab": {
          "base_uri": "https://localhost:8080/"
        },
        "id": "7tunQNlgw3oN",
        "outputId": "097b49d0-697e-4d5c-f8c2-082ed5906e48"
      },
      "execution_count": null,
      "outputs": [
        {
          "output_type": "stream",
          "name": "stdout",
          "text": [
            "Enter a number 6\n",
            "Enter a number 7\n",
            "Enter a number 7\n",
            "Enter a number 0\n",
            "20\n"
          ]
        }
      ]
    },
    {
      "cell_type": "code",
      "source": [
        "#WAP count all people whose age is  greater than 18 and terminate if low age is entered\n",
        "\n",
        "total=0\n",
        "age=int(input(\"Enter your age: \"))\n",
        "\n",
        "while age>=18:\n",
        "  total+=1\n",
        "  age=int(input(\"Enter your age: \"))\n",
        "  if age <18:\n",
        "    print(\"Total number of people above 18 years of age are \", total)\n",
        "\n"
      ],
      "metadata": {
        "colab": {
          "base_uri": "https://localhost:8080/"
        },
        "id": "QLka9vnAyJS-",
        "outputId": "81cecc6f-b2a1-4182-a3fa-365ddc2043d6"
      },
      "execution_count": null,
      "outputs": [
        {
          "output_type": "stream",
          "name": "stdout",
          "text": [
            "Enter your age: 67\n",
            "Enter your age: 98\n",
            "Enter your age: 8\n",
            "Total number of people above 18 years of age are  2\n"
          ]
        }
      ]
    },
    {
      "cell_type": "code",
      "source": [
        "#wap to print the below list\n",
        "\n",
        "lst1 = [1,2,3,4,5,6,7,8,9,10,11,22,33,44,55,66,77,88,99,110,12,23,34,45,56,67,78,89,90]\n",
        "\n",
        "while lst1:\n",
        "\n",
        "  print(lst1.pop())\n"
      ],
      "metadata": {
        "id": "6N3TJQKr1zpF"
      },
      "execution_count": null,
      "outputs": []
    },
    {
      "cell_type": "code",
      "source": [
        "#WAP to check where a number is divisible by 5 and 7\n",
        "\n",
        "num1=int(input(\"Enter a number \"))\n",
        "while (num1%5==0) and (num1%7==0):\n",
        "  print(num1 , \"is divisible by 5 and 7\")\n",
        "  break\n",
        "else:\n",
        "  print(num1 , \"is not divisible by 5 and 7\")\n"
      ],
      "metadata": {
        "colab": {
          "base_uri": "https://localhost:8080/"
        },
        "id": "EFJ6MOXE58XT",
        "outputId": "e92379c8-4332-4403-f43f-f93cb2af9b88"
      },
      "execution_count": null,
      "outputs": [
        {
          "output_type": "stream",
          "name": "stdout",
          "text": [
            "Enter a number 67\n",
            "67 is not divisible by 5 and 7\n"
          ]
        }
      ]
    },
    {
      "cell_type": "code",
      "source": [],
      "metadata": {
        "id": "9yH-61Je5y4N"
      },
      "execution_count": null,
      "outputs": []
    }
  ]
}