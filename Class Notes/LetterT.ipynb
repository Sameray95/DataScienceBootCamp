{
  "nbformat": 4,
  "nbformat_minor": 0,
  "metadata": {
    "colab": {
      "provenance": []
    },
    "kernelspec": {
      "name": "python3",
      "display_name": "Python 3"
    },
    "language_info": {
      "name": "python"
    }
  },
  "cells": [
    {
      "cell_type": "code",
      "source": [
        "print('Implementing letter T using Python')  # Title of the program\n",
        "\n",
        "while True:\n",
        "    user_choice = input('Enter any character you want to print as T: ')  # asking input from the user\n",
        "\n",
        "    user_select = input('Do you want to continue with ' + user_choice + '? Press Y for Yes and N for No: ')\n",
        "\n",
        "    if user_select.lower() == 'y':\n",
        "        print('Implementing Letter T using ' + user_choice)\n",
        "\n",
        "        while True:\n",
        "            n = int(input('Enter the size of T: '))\n",
        "\n",
        "            if n == 0:\n",
        "                print(\"Please enter a valid size\")\n",
        "            else:\n",
        "                break\n",
        "\n",
        "        for row in range(n):\n",
        "            for col in range(n):\n",
        "                if row == 0 or col == n // 2:\n",
        "                    print(user_choice, end=\" \")\n",
        "                else:\n",
        "                    print(\" \", end=\" \")\n",
        "            print()\n",
        "\n",
        "        print('T printed successfully. Exiting the program.')\n",
        "        break\n",
        "\n",
        "    elif user_select.lower() == 'n':\n",
        "        print('Thank you for your response, will not proceed further')\n",
        "        break  # Exit the loop\n",
        "    else:\n",
        "        print('Invalid response. Please enter Y or N.')\n"
      ],
      "metadata": {
        "colab": {
          "base_uri": "https://localhost:8080/"
        },
        "id": "ZDBpQxS4xy0u",
        "outputId": "4b3eee52-7812-4143-e89c-f9392c998a0d"
      },
      "execution_count": 32,
      "outputs": [
        {
          "output_type": "stream",
          "name": "stdout",
          "text": [
            "Implementing letter T using Python\n",
            "Enter any character you want to print as T: t\n",
            "Do you want to continue with t? Press Y for Yes and N for No: y\n",
            "Implementing Letter T using t\n",
            "Enter the size of T: 0\n",
            "Please enter a valid size\n",
            "Enter the size of T: 5\n",
            "t t t t t \n",
            "    t     \n",
            "    t     \n",
            "    t     \n",
            "    t     \n",
            "T printed successfully. Exiting the program.\n"
          ]
        }
      ]
    },
    {
      "cell_type": "code",
      "source": [],
      "metadata": {
        "id": "-JcQYHzPRglq"
      },
      "execution_count": null,
      "outputs": []
    }
  ]
}