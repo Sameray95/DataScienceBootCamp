{
  "nbformat": 4,
  "nbformat_minor": 0,
  "metadata": {
    "colab": {
      "provenance": []
    },
    "kernelspec": {
      "name": "python3",
      "display_name": "Python 3"
    },
    "language_info": {
      "name": "python"
    }
  },
  "cells": [
    {
      "cell_type": "code",
      "execution_count": null,
      "metadata": {
        "colab": {
          "base_uri": "https://localhost:8080/"
        },
        "id": "ZXDVScN8DJUE",
        "outputId": "38d5807f-95e1-4904-e60f-0d5f59ef023a"
      },
      "outputs": [
        {
          "output_type": "stream",
          "name": "stdout",
          "text": [
            "<class 'numpy.ndarray'>\n"
          ]
        }
      ],
      "source": [
        "import numpy as np\n",
        "\n",
        "lst1 = [11,22,33,44,55,66,77,88,99,110]\n",
        "\n",
        "arr1 = np.array(lst1)\n",
        "print(type(arr1))"
      ]
    },
    {
      "cell_type": "code",
      "source": [
        "\n",
        "tup1 = (12,33,34,43,56,67,87,)\n",
        "arr2 = np.array(tup1)\n",
        "print(type(arr2))"
      ],
      "metadata": {
        "colab": {
          "base_uri": "https://localhost:8080/"
        },
        "id": "uRoKCyjcEEWR",
        "outputId": "d0e537e1-e380-430f-cd9a-81f76dcaa4d6"
      },
      "execution_count": null,
      "outputs": [
        {
          "output_type": "stream",
          "name": "stdout",
          "text": [
            "<class 'numpy.ndarray'>\n"
          ]
        }
      ]
    },
    {
      "cell_type": "code",
      "source": [
        "set1= {1,22,345,5,66,7,True,False, 'Python'}\n",
        "arr3 = np.array(set1)\n",
        "arr3"
      ],
      "metadata": {
        "colab": {
          "base_uri": "https://localhost:8080/"
        },
        "id": "S4cbHVCUEtyu",
        "outputId": "14bf4d90-bc45-4bb2-b133-f65ab410b8be"
      },
      "execution_count": null,
      "outputs": [
        {
          "output_type": "execute_result",
          "data": {
            "text/plain": [
              "array({False, 1, 66, 5, 7, 'Python', 22, 345}, dtype=object)"
            ]
          },
          "metadata": {},
          "execution_count": 5
        }
      ]
    },
    {
      "cell_type": "code",
      "source": [
        "dict1 = {'a':[1,2,3,4,5,6], 'b':(True,False), 'c':'python', 'd':'programming'}\n",
        "arr4= np.array(dict1)\n",
        "arr4"
      ],
      "metadata": {
        "colab": {
          "base_uri": "https://localhost:8080/"
        },
        "id": "9TleVwi-E9jf",
        "outputId": "681bb580-cd6f-49a0-c3fa-194f559151c2"
      },
      "execution_count": null,
      "outputs": [
        {
          "output_type": "execute_result",
          "data": {
            "text/plain": [
              "array({'a': [1, 2, 3, 4, 5, 6], 'b': (True, False), 'c': 'python', 'd': 'programming'},\n",
              "      dtype=object)"
            ]
          },
          "metadata": {},
          "execution_count": 6
        }
      ]
    },
    {
      "cell_type": "code",
      "source": [
        "str1 = 'python programming'\n",
        "arr5 = np.array(str1)\n",
        "print(arr5)"
      ],
      "metadata": {
        "colab": {
          "base_uri": "https://localhost:8080/"
        },
        "id": "FqeU3MXwFTv8",
        "outputId": "d91b04b0-bbe0-4160-fbef-06a21c73943f"
      },
      "execution_count": null,
      "outputs": [
        {
          "output_type": "stream",
          "name": "stdout",
          "text": [
            "python programming\n"
          ]
        }
      ]
    },
    {
      "cell_type": "code",
      "source": [
        "arr1d = np.array([1,2,3,4,5,6,7,8,9,10])\n",
        "print(arr1d)\n",
        "arr1d.ndim"
      ],
      "metadata": {
        "colab": {
          "base_uri": "https://localhost:8080/"
        },
        "id": "igrBJajrFld1",
        "outputId": "6b917a65-62ed-4c88-da19-3d90043a49d8"
      },
      "execution_count": null,
      "outputs": [
        {
          "output_type": "stream",
          "name": "stdout",
          "text": [
            "[ 1  2  3  4  5  6  7  8  9 10]\n"
          ]
        },
        {
          "output_type": "execute_result",
          "data": {
            "text/plain": [
              "1"
            ]
          },
          "metadata": {},
          "execution_count": 11
        }
      ]
    },
    {
      "cell_type": "code",
      "source": [
        "arr2d = np.array([[1,2,3,4,5],[6,7,8,9,10]])\n",
        "\n",
        "print(arr2d)\n"
      ],
      "metadata": {
        "colab": {
          "base_uri": "https://localhost:8080/"
        },
        "id": "NOyYL7V1HinG",
        "outputId": "be0462df-72a5-43e7-c6ae-1f2fd9e88f5f"
      },
      "execution_count": null,
      "outputs": [
        {
          "output_type": "stream",
          "name": "stdout",
          "text": [
            "[[ 1  2  3  4  5]\n",
            " [ 6  7  8  9 10]]\n"
          ]
        }
      ]
    },
    {
      "cell_type": "code",
      "source": [
        "arr3d= np.array([[[1,2,3],[2,3,4]],[[3,4,5],[4,5,6]]])\n",
        "print(arr3d)\n",
        "arr3d.ndim"
      ],
      "metadata": {
        "colab": {
          "base_uri": "https://localhost:8080/"
        },
        "id": "E7wJmd5RH3-W",
        "outputId": "8596cbdb-1c2a-45e5-ef9e-eeb5806dea92"
      },
      "execution_count": null,
      "outputs": [
        {
          "output_type": "stream",
          "name": "stdout",
          "text": [
            "[[[1 2 3]\n",
            "  [2 3 4]]\n",
            "\n",
            " [[3 4 5]\n",
            "  [4 5 6]]]\n"
          ]
        },
        {
          "output_type": "execute_result",
          "data": {
            "text/plain": [
              "3"
            ]
          },
          "metadata": {},
          "execution_count": 17
        }
      ]
    },
    {
      "cell_type": "code",
      "source": [
        "a = np.array(42)\n",
        "b = np.array([1,2,3,4,5])\n",
        "c = np.array([[1,2,3,4,5],[6,7,8,9,10]])\n",
        "d = np.array([[[1,2,3],[2,3,4]],[[3,4,5],[4,5,6]]])\n",
        "e = np.array([[[[1,2,3],[2,3,4]],[[3,4,5],[4,5,6]]],\n",
        "             [[[1,2,3],[2,3,4]],[[3,4,5],[4,5,6]]]])\n",
        "\n",
        "\n",
        "print(a.ndim)\n",
        "print(b.ndim)\n",
        "print(c.ndim)\n",
        "print(d.ndim)\n",
        "print(e.ndim)"
      ],
      "metadata": {
        "colab": {
          "base_uri": "https://localhost:8080/"
        },
        "id": "pCpy2_K9IqON",
        "outputId": "d9f741f3-f62f-4b97-a7eb-cc67e25a0a85"
      },
      "execution_count": null,
      "outputs": [
        {
          "output_type": "stream",
          "name": "stdout",
          "text": [
            "0\n",
            "1\n",
            "2\n",
            "3\n",
            "4\n"
          ]
        }
      ]
    }
  ]
}