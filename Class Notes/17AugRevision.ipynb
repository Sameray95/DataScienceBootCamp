{
  "nbformat": 4,
  "nbformat_minor": 0,
  "metadata": {
    "colab": {
      "provenance": []
    },
    "kernelspec": {
      "name": "python3",
      "display_name": "Python 3"
    },
    "language_info": {
      "name": "python"
    }
  },
  "cells": [
    {
      "cell_type": "code",
      "execution_count": null,
      "metadata": {
        "colab": {
          "base_uri": "https://localhost:8080/"
        },
        "id": "oUmYu3ZY7ojP",
        "outputId": "68addeb9-8c0a-4ca6-f671-5804cfbf61e1"
      },
      "outputs": [
        {
          "output_type": "stream",
          "name": "stdout",
          "text": [
            "**********\r\n",
            "**********\r\n",
            "**********\r\n",
            "**********\r\n",
            "**********\r\n",
            "**********\r\n",
            "**********\r\n",
            "**********\r\n",
            "**********\r\n",
            "**********\r\n"
          ]
        }
      ],
      "source": [
        "#Print 10* 10 pattern\n",
        "for i in range (0,10,1): #print all rows  #--- for each value of i j will run 10 times\n",
        "  for j in range (0,10,1):  #print all 10 * asteriks\n",
        "      print('*', end='')\n",
        "  print('\\r')"
      ]
    },
    {
      "cell_type": "code",
      "source": [
        "\n",
        "#print reverse triangle\n",
        "\n",
        "for row in range(0,10,1): #print 10 rows\n",
        "  for space in range(0,row):  # print spaces in range of 0, rows\n",
        "    print(' ', end='')\n",
        "  for asttri  in range(10,row,-1):\n",
        "    print(\"*\", end=\" \")\n",
        "  print('\\r')\n"
      ],
      "metadata": {
        "colab": {
          "base_uri": "https://localhost:8080/"
        },
        "id": "0b53ba8YF2Og",
        "outputId": "e59629c6-c3b5-42c5-a7e5-a1b829dd41f1"
      },
      "execution_count": null,
      "outputs": [
        {
          "output_type": "stream",
          "name": "stdout",
          "text": [
            "* * * * * * * * * * \r\n",
            " * * * * * * * * * \r\n",
            "  * * * * * * * * \r\n",
            "   * * * * * * * \r\n",
            "    * * * * * * \r\n",
            "     * * * * * \r\n",
            "      * * * * \r\n",
            "       * * * \r\n",
            "        * * \r\n",
            "         * \r\n"
          ]
        }
      ]
    },
    {
      "cell_type": "code",
      "source": [
        "for row in range(0,10,1): #print 10 rows\n",
        "    for asttri  in range(10,row,-1):\n",
        "      print(\"*\", end=\" \")\n",
        "    for space in range(0,row):  # print spaces in range of 0, rows\n",
        "      print(' ', end='')\n",
        "\n",
        "    print('\\r')"
      ],
      "metadata": {
        "colab": {
          "base_uri": "https://localhost:8080/"
        },
        "id": "xL7NHhFnHQtQ",
        "outputId": "7bfdb373-3c24-48b6-d3ed-1975dffbf498"
      },
      "execution_count": null,
      "outputs": [
        {
          "output_type": "stream",
          "name": "stdout",
          "text": [
            "* * * * * * * * * * \r\n",
            "* * * * * * * * *  \r\n",
            "* * * * * * * *   \r\n",
            "* * * * * * *    \r\n",
            "* * * * * *     \r\n",
            "* * * * *      \r\n",
            "* * * *       \r\n",
            "* * *        \r\n",
            "* *         \r\n",
            "*          \r\n"
          ]
        }
      ]
    },
    {
      "cell_type": "code",
      "source": [
        "\n",
        "\n",
        "\n",
        "row = int(input(\"Enter number of rows\"))\n",
        "\n",
        "for i in range(row):\n",
        "  for j in range(row-i):\n",
        "    print(' ', end='') # printing space required and staing in same line\n",
        "\n",
        "\n",
        "    for j in range (2*i+1):\n",
        "      if j ==0 or j==2*i or"
      ],
      "metadata": {
        "id": "pd6QHt6MLDY0"
      },
      "execution_count": null,
      "outputs": []
    },
    {
      "cell_type": "code",
      "source": [
        "#fibonacci series\n",
        "\n",
        "a=0\n",
        "b=1\n",
        "print(a,b, end='')\n",
        "\n",
        "for i in range(10):\n",
        "  c=a+b\n",
        "  print(c, end=' ')\n",
        "\n",
        "  a=b\n",
        "  b=c\n",
        "\n"
      ],
      "metadata": {
        "colab": {
          "base_uri": "https://localhost:8080/"
        },
        "id": "kYvywgNtL1O8",
        "outputId": "955caf54-9a8a-414e-9ae4-e4e1ca1460ce"
      },
      "execution_count": null,
      "outputs": [
        {
          "output_type": "stream",
          "name": "stdout",
          "text": [
            "0 11 2 3 5 8 13 21 34 55 89 "
          ]
        }
      ]
    },
    {
      "cell_type": "code",
      "source": [
        "#with 2-2 examples and algorithm\n",
        "#supervised learning :\n",
        "#unsupervised learning\n",
        "#reinforcement learning\n",
        "\n",
        "\n"
      ],
      "metadata": {
        "id": "3R1Yr2K1P5-s"
      },
      "execution_count": null,
      "outputs": []
    },
    {
      "cell_type": "code",
      "source": [
        "#pallindrome\n",
        "\n",
        "str1=input(\"Enter any word \")\n",
        "\n",
        "if str1==str1[::-1]:\n",
        "  print(str1, \"is Pallindrome\")\n",
        "else:\n",
        "  print(str1, \"is not a  Pallindrome\")"
      ],
      "metadata": {
        "colab": {
          "base_uri": "https://localhost:8080/"
        },
        "id": "cqFliVJ3TSQ3",
        "outputId": "7302ea1f-66a7-4aa7-ea05-d174b827df40"
      },
      "execution_count": null,
      "outputs": [
        {
          "output_type": "stream",
          "name": "stdout",
          "text": [
            "Enter any word 676\n",
            "676 is Pallindrome\n"
          ]
        }
      ]
    },
    {
      "cell_type": "code",
      "source": [
        "#Write a program in Python to display the Factorial of a number.\n",
        "\n",
        "a=int(input(\"Any number you want to find factorial\"))\n",
        "\n",
        "for i in range(2,a):\n",
        "  fact*=i\n",
        "  print(fact)\n"
      ],
      "metadata": {
        "id": "6qqB74-Qm1Df"
      },
      "execution_count": null,
      "outputs": []
    },
    {
      "cell_type": "code",
      "source": [
        "\n",
        "\n",
        "num = int(input(\"Enter a number: \"))\n",
        "factorial=1\n",
        "for i in range(1, num + 1):\n",
        "    factorial *= i\n",
        "print(\"The factorial of\", num, \"is\", factorial)\n"
      ],
      "metadata": {
        "colab": {
          "base_uri": "https://localhost:8080/"
        },
        "id": "ZfMpPDDEpxWH",
        "outputId": "da283f89-e0f1-4c41-bf94-5a389c6bb25c"
      },
      "execution_count": null,
      "outputs": [
        {
          "output_type": "stream",
          "name": "stdout",
          "text": [
            "Enter a number: 0\n",
            "The factorial of 0 is 1\n"
          ]
        }
      ]
    },
    {
      "cell_type": "code",
      "source": [
        "#WAP to separate positive and negative number from a list.\n",
        "\n",
        "lista=[1,2,3,4-10,-12,6,7,-43,5]\n",
        "listb=[]\n",
        "listc=[]\n",
        "\n",
        "for i in lista:\n",
        "  if i  <0:\n",
        "    listb.append(i)\n",
        "  else:\n",
        "    listc.append(i)\n",
        "print(listb,\" is the negative numbers\")\n",
        "print(listc,\" is the positive numbers\")\n",
        "\n",
        "\n"
      ],
      "metadata": {
        "colab": {
          "base_uri": "https://localhost:8080/"
        },
        "id": "WA-TYMDMrlyJ",
        "outputId": "b1f57ff5-39ba-4baa-fbdf-aeedf3dd213c"
      },
      "execution_count": null,
      "outputs": [
        {
          "output_type": "stream",
          "name": "stdout",
          "text": [
            "[-6, -12, -43]  is the negative numbers\n",
            "[1, 2, 3, 6, 7, 5]  is the positive numbers\n"
          ]
        }
      ]
    },
    {
      "cell_type": "code",
      "source": [
        "#WAP fibonacci series\n",
        "a=0\n",
        "b=1\n",
        "\n",
        "num=int(input(\"enter the terms\"))\n",
        "print(a,b, end=\" \")\n",
        "for i in range(num-2):\n",
        "  c=a+b\n",
        "  print(c, end=' ')\n",
        "  a=b\n",
        "  b=c\n"
      ],
      "metadata": {
        "colab": {
          "base_uri": "https://localhost:8080/"
        },
        "id": "10bXD1l0unDi",
        "outputId": "57529dde-50d0-4bc5-f1cb-86fd1cd89bb0"
      },
      "execution_count": null,
      "outputs": [
        {
          "output_type": "stream",
          "name": "stdout",
          "text": [
            "enter the terms10\n",
            "0 1 1 2 3 5 8 13 21 34 "
          ]
        }
      ]
    }
  ]
}