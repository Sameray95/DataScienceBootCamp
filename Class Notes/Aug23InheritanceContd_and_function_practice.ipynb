{
  "nbformat": 4,
  "nbformat_minor": 0,
  "metadata": {
    "colab": {
      "provenance": []
    },
    "kernelspec": {
      "name": "python3",
      "display_name": "Python 3"
    },
    "language_info": {
      "name": "python"
    }
  },
  "cells": [
    {
      "cell_type": "code",
      "execution_count": null,
      "metadata": {
        "id": "t-Kq2oY9xv6t"
      },
      "outputs": [],
      "source": [
        "class mother:\n",
        "  def __init__(self):\n",
        "    pass\n",
        "class father:\n",
        "    def __init__(self):\n",
        "      pass\n",
        "class daughter:\n",
        "  def __init__(mother, father):\n",
        "    pass\n",
        "class son:\n",
        "    def __init__(mother,father):\n",
        "      pass\n",
        "\n"
      ]
    },
    {
      "cell_type": "code",
      "source": [
        "class father:\n",
        "  def __init__(self,name, address):\n",
        "    self.name=name\n",
        "    self.location=address\n",
        "\n",
        "  def printname(self):\n",
        "    print(\"name  is: \", self.name)\n"
      ],
      "metadata": {
        "id": "10ql5T0Z539z"
      },
      "execution_count": null,
      "outputs": []
    },
    {
      "cell_type": "code",
      "source": [
        "class mother:\n",
        "  def __init__(self, address):\n",
        "    self.location=address\n",
        "\n",
        "  def printaddress(self):\n",
        "    print(\"Address is: \", self.address)\n"
      ],
      "metadata": {
        "id": "tSOgJ6S16qJC"
      },
      "execution_count": null,
      "outputs": []
    },
    {
      "cell_type": "code",
      "source": [
        "class son(father,mother):\n",
        "  def __init__ (self, fname):\n",
        "    self.name=fname\n"
      ],
      "metadata": {
        "id": "KCpYgfZ87POt"
      },
      "execution_count": null,
      "outputs": []
    },
    {
      "cell_type": "code",
      "source": [
        "class daughter(father,mother):\n",
        "  def __init__ (self, lname):\n",
        "    super().__init__(name,address)\n",
        "\n",
        "    self.name=lname\n",
        "\n",
        "\n"
      ],
      "metadata": {
        "id": "5T4Bvjjf8F4W"
      },
      "execution_count": null,
      "outputs": []
    },
    {
      "cell_type": "code",
      "source": [
        "obj1=son('Sameer')\n",
        "obj1.printname()"
      ],
      "metadata": {
        "colab": {
          "base_uri": "https://localhost:8080/"
        },
        "id": "YQabzZV49KL6",
        "outputId": "15ab8ba2-8e0b-4a3f-deeb-b9acfbba77bf"
      },
      "execution_count": null,
      "outputs": [
        {
          "output_type": "stream",
          "name": "stdout",
          "text": [
            "name  is:  Sameer\n"
          ]
        }
      ]
    },
    {
      "cell_type": "code",
      "source": [
        "obj2=daughter('London')\n",
        "obj2.printaddress()"
      ],
      "metadata": {
        "id": "e4A19xMv_cie"
      },
      "execution_count": null,
      "outputs": []
    },
    {
      "cell_type": "code",
      "source": [],
      "metadata": {
        "id": "PVvFBGqtB157"
      },
      "execution_count": null,
      "outputs": []
    },
    {
      "cell_type": "code",
      "source": [
        "class a:\n",
        "  var_a1 = \"This is my first print statement inside class a \"\n",
        "  def __init__(self):\n",
        "    self.var_a2 = \"This my second print statement inside function __init__ of class a\"\n",
        "    self.var_a1 = \"Instance variable in class a\"\n",
        "    self.var_tmp1 = \"This is var_tmp1 inside class a\"\n",
        "#Var_a1 is presented in 2 sides so precedence goes to the instance variables\n",
        "\n",
        "class b(a):\n",
        "  var_b1 = \"this is my third print statement inside class b \"\n",
        "  def __init__(self):\n",
        "\n",
        "    self.var_b2 = \"This is my fouth print statement inside function __init__ of class b\"\n",
        "    self.var_a1 = \"Instances variable in class b\"\n",
        "    self.var_tmp1 = \"This is var_tmp1 inside class b\"\n",
        "   # super().__init__()\n",
        "\n",
        "    #self.var_a1 = \"class variable in class b\"\n",
        "\n",
        "\n",
        "    #instance var always override class var\n",
        "    # any var declared before the super init always overrides child class from parent\n",
        "    # any var declared after the init function has higher precedence"
      ],
      "metadata": {
        "id": "a5g_TBAx6vUz"
      },
      "execution_count": null,
      "outputs": []
    },
    {
      "cell_type": "code",
      "source": [
        "obj_a = a()\n",
        "obj_b = b()\n",
        "\n",
        "# print(obj_a.var_a1)\n",
        "# print(obj_a.var_tmp1)\n",
        "print(obj_b.var_a1)\n",
        "# print(obj_b.var_a2)\n",
        "# print(obj_b.var_b1)\n",
        "# print(obj_b.var_b2)\n",
        "# print(obj_b.var_tmp1)"
      ],
      "metadata": {
        "colab": {
          "base_uri": "https://localhost:8080/"
        },
        "id": "YVFjgP7_60Ep",
        "outputId": "0da57579-36ad-407f-f926-d5768609ce99"
      },
      "execution_count": null,
      "outputs": [
        {
          "output_type": "stream",
          "name": "stdout",
          "text": [
            "Instances variable in class b\n"
          ]
        }
      ]
    },
    {
      "cell_type": "code",
      "source": [
        "class One:\n",
        "  varA1=\"Class One variable\"\n",
        "  def __init__(self):\n",
        "    self.varA1=\"Instance Variable\"\n",
        "    self.VarA2=\"Second Instance Variable\"\n",
        "\n",
        "class Two(One):\n",
        "  varB1=\"Class Two variable\"\n",
        "  def __init__(self):\n",
        "    self.varA1=\"Class Two Instance Variable\"\n",
        "    self.VarB1=\"Second Instance Variable\"\n",
        "    super().__init__(self)\n",
        "\n"
      ],
      "metadata": {
        "id": "6cVjhnpGOcws"
      },
      "execution_count": null,
      "outputs": []
    },
    {
      "cell_type": "code",
      "source": [
        "obj1 = One()\n",
        "obj2 = Two()\n",
        "print(obj1.varA1)\n",
        "print(obj1.VarA2)\n",
        "print(obj2.varA1)\n",
        "print(obj2.varB1)\n",
        "\n",
        "\n",
        "\n"
      ],
      "metadata": {
        "id": "cbEPl_raPOEl"
      },
      "execution_count": null,
      "outputs": []
    },
    {
      "cell_type": "code",
      "source": [
        "#Rock Paper Scissors\n",
        "\n",
        "#rock smashes scissors\n",
        "#paper saves rock\n",
        "#scissors cut paper\n",
        "#same choice tie\n",
        "\n",
        "# rock & scissors -- rock wins\n",
        "# paper & rock -- paper wins\n",
        "# Scissors & paper-- sciccors wins\n",
        "\n"
      ],
      "metadata": {
        "id": "1mqtKb_-V4Gv"
      },
      "execution_count": null,
      "outputs": []
    },
    {
      "cell_type": "code",
      "source": [
        "import random\n",
        "possible_actions=[\"rock\",\"paper\",\"scissors\"]\n",
        "computer_actions=random.choice(possible_actions)\n",
        "computer_actions"
      ],
      "metadata": {
        "colab": {
          "base_uri": "https://localhost:8080/",
          "height": 35
        },
        "id": "tO5WYSXyXOG2",
        "outputId": "9d0cdc2f-2713-4eb7-e11e-90e645ee281e"
      },
      "execution_count": null,
      "outputs": [
        {
          "output_type": "execute_result",
          "data": {
            "text/plain": [
              "'rock'"
            ],
            "application/vnd.google.colaboratory.intrinsic+json": {
              "type": "string"
            }
          },
          "metadata": {},
          "execution_count": 128
        }
      ]
    },
    {
      "cell_type": "code",
      "source": [
        "user_input=input(\"Please make a choice from rock, paper and scissors \").casefold()\n",
        "\n"
      ],
      "metadata": {
        "colab": {
          "base_uri": "https://localhost:8080/"
        },
        "id": "4Oa3IdS-XxdU",
        "outputId": "eea85d05-b891-41fa-87ff-85da4f1dffc2"
      },
      "execution_count": null,
      "outputs": [
        {
          "name": "stdout",
          "output_type": "stream",
          "text": [
            "Please make a choice from rock, paper and scissors Rock\n"
          ]
        }
      ]
    }
  ]
}