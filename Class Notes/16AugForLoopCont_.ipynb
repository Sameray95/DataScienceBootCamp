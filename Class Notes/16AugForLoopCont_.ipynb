{
  "nbformat": 4,
  "nbformat_minor": 0,
  "metadata": {
    "colab": {
      "provenance": []
    },
    "kernelspec": {
      "name": "python3",
      "display_name": "Python 3"
    },
    "language_info": {
      "name": "python"
    }
  },
  "cells": [
    {
      "cell_type": "code",
      "source": [
        "#Fibonacci Series\n",
        "\n",
        "\n",
        "a=0\n",
        "b=1\n",
        "c=a+b\n",
        "\n",
        "print(a,b, end=\" \")\n",
        "for i in range (10):\n",
        "\n",
        "  c=a+b\n",
        "  print(c, end= \" \")\n",
        "  a=b\n",
        "  b=c\n",
        "\n"
      ],
      "metadata": {
        "colab": {
          "base_uri": "https://localhost:8080/"
        },
        "id": "cSQSNr_e5V07",
        "outputId": "ae230c5e-76d0-435a-bb27-ba76944ca4aa"
      },
      "execution_count": null,
      "outputs": [
        {
          "output_type": "stream",
          "name": "stdout",
          "text": [
            "0 1 1 2 3 5 8 13 21 34 55 89 "
          ]
        }
      ]
    },
    {
      "cell_type": "code",
      "source": [
        "from typing import KeysView\n",
        "stu_record ={'sameer':89, 'sabina':87, 'inder':67,'ram':76,'kisto':43,'sam':86}\n",
        "\n",
        "for keys,values in stu_record.items():\n",
        "  if values >=80:\n",
        "    print(keys, \" has passed with distinction \\n\")\n",
        "\n",
        "  elif values>=70 and values<80:\n",
        "    print(keys, \" has passed with first division \\n\")\n",
        "\n",
        "  elif values>=60 and values<70:\n",
        "    print(keys, \" has passed with second division \\n\")\n",
        "\n",
        "  elif values>=40 and values<60:\n",
        "    print(keys, \" has passed with second division \\n\")\n",
        "\n",
        "  else:\n",
        "    print(Keys, \" has failed\")\n",
        "\n",
        "\n",
        "\n",
        "\n"
      ],
      "metadata": {
        "colab": {
          "base_uri": "https://localhost:8080/"
        },
        "id": "4ZQ1vvZH852T",
        "outputId": "4e04d95f-a73b-4fea-b84f-3194946aea00"
      },
      "execution_count": null,
      "outputs": [
        {
          "output_type": "stream",
          "name": "stdout",
          "text": [
            "sameer  has passed with distinction \n",
            "\n",
            "sabina  has passed with distinction \n",
            "\n",
            "inder  has passed with second division \n",
            "\n",
            "ram  has passed with first division \n",
            "\n",
            "kisto  has passed with second division \n",
            "\n",
            "sam  has passed with distinction \n",
            "\n"
          ]
        }
      ]
    }
  ]
}