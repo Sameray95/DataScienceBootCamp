{
  "nbformat": 4,
  "nbformat_minor": 0,
  "metadata": {
    "colab": {
      "provenance": []
    },
    "kernelspec": {
      "name": "python3",
      "display_name": "Python 3"
    },
    "language_info": {
      "name": "python"
    }
  },
  "cells": [
    {
      "cell_type": "markdown",
      "source": [
        "Wednesday August 31 2023\n"
      ],
      "metadata": {
        "id": "JPXvcCYt6ki4"
      }
    },
    {
      "cell_type": "code",
      "execution_count": null,
      "metadata": {
        "colab": {
          "base_uri": "https://localhost:8080/"
        },
        "id": "BE08iV4f4n4Y",
        "outputId": "877e84d8-02d0-41ae-e9b8-d033def06b04"
      },
      "outputs": [
        {
          "output_type": "stream",
          "name": "stdout",
          "text": [
            "Requirement already satisfied: pandas in /usr/local/lib/python3.10/dist-packages (1.5.3)\n",
            "Requirement already satisfied: python-dateutil>=2.8.1 in /usr/local/lib/python3.10/dist-packages (from pandas) (2.8.2)\n",
            "Requirement already satisfied: pytz>=2020.1 in /usr/local/lib/python3.10/dist-packages (from pandas) (2023.3)\n",
            "Requirement already satisfied: numpy>=1.21.0 in /usr/local/lib/python3.10/dist-packages (from pandas) (1.23.5)\n",
            "Requirement already satisfied: six>=1.5 in /usr/local/lib/python3.10/dist-packages (from python-dateutil>=2.8.1->pandas) (1.16.0)\n"
          ]
        }
      ],
      "source": [
        "!pip install pandas\n",
        "\n",
        "# https://pandas.pydata.org/"
      ]
    },
    {
      "cell_type": "code",
      "source": [
        "!pip install pytorch"
      ],
      "metadata": {
        "id": "TXcPPzRp8iw3"
      },
      "execution_count": null,
      "outputs": []
    },
    {
      "cell_type": "code",
      "source": [
        "import pandas as pd\n",
        "path= '/content/Churn_Modelling.csv'\n",
        "df= pd.read_csv(path)\n",
        "print(df)"
      ],
      "metadata": {
        "id": "aTAri4H1Bg7H"
      },
      "execution_count": null,
      "outputs": []
    },
    {
      "cell_type": "code",
      "source": [
        "path= '/content/Churn_Modelling.csv'\n",
        "df_ChurnModelling_csv = pd.read_csv(path)\n",
        "df_ChurnModelling_csv"
      ],
      "metadata": {
        "id": "uaVVzWMyEQAq"
      },
      "execution_count": null,
      "outputs": []
    },
    {
      "cell_type": "code",
      "source": [
        "!pip install xlwt"
      ],
      "metadata": {
        "colab": {
          "base_uri": "https://localhost:8080/"
        },
        "id": "iJAOymHuGYeb",
        "outputId": "85877e64-633b-4fb6-d021-cbe7c18e4536"
      },
      "execution_count": null,
      "outputs": [
        {
          "output_type": "stream",
          "name": "stdout",
          "text": [
            "Collecting xlwt\n",
            "  Downloading xlwt-1.3.0-py2.py3-none-any.whl (99 kB)\n",
            "\u001b[?25l     \u001b[90m━━━━━━━━━━━━━━━━━━━━━━━━━━━━━━━━━━━━━━━━\u001b[0m \u001b[32m0.0/100.0 kB\u001b[0m \u001b[31m?\u001b[0m eta \u001b[36m-:--:--\u001b[0m\r\u001b[2K     \u001b[91m━━━━━━━━━━━━━━━━\u001b[0m\u001b[90m╺\u001b[0m\u001b[90m━━━━━━━━━━━━━━━━━━━━━━━\u001b[0m \u001b[32m41.0/100.0 kB\u001b[0m \u001b[31m1.2 MB/s\u001b[0m eta \u001b[36m0:00:01\u001b[0m\r\u001b[2K     \u001b[90m━━━━━━━━━━━━━━━━━━━━━━━━━━━━━━━━━━━━━━━\u001b[0m \u001b[32m100.0/100.0 kB\u001b[0m \u001b[31m1.6 MB/s\u001b[0m eta \u001b[36m0:00:00\u001b[0m\n",
            "\u001b[?25hInstalling collected packages: xlwt\n",
            "Successfully installed xlwt-1.3.0\n"
          ]
        }
      ]
    },
    {
      "cell_type": "code",
      "source": [
        "import xlwt"
      ],
      "metadata": {
        "id": "9MEXkZXfHAJ1"
      },
      "execution_count": null,
      "outputs": []
    },
    {
      "cell_type": "code",
      "source": [
        "df_ChurnModelling_csv.to_excel(\"df_ChurnModelling_xls.xls\")\n",
        "\n",
        "#df= data frame"
      ],
      "metadata": {
        "colab": {
          "base_uri": "https://localhost:8080/"
        },
        "id": "Ri6CaLnEHD6M",
        "outputId": "28e8cc74-afc5-4f70-ab70-aa7b8461849c"
      },
      "execution_count": null,
      "outputs": [
        {
          "output_type": "stream",
          "name": "stderr",
          "text": [
            "<ipython-input-23-5350fe152f71>:1: FutureWarning: As the xlwt package is no longer maintained, the xlwt engine will be removed in a future version of pandas. This is the only engine in pandas that supports writing in the xls format. Install openpyxl and write to an xlsx file instead. You can set the option io.excel.xls.writer to 'xlwt' to silence this warning. While this option is deprecated and will also raise a warning, it can be globally set and the warning suppressed.\n",
            "  df_ChurnModelling_csv.to_excel(\"df_ChurnModelling_xls.xls\")\n"
          ]
        }
      ]
    },
    {
      "cell_type": "code",
      "source": [
        "df_ChurnModelling_csv.to_excel(\"df_ChurnModelling_xlsx.xlsx\")"
      ],
      "metadata": {
        "id": "Hig9Bjs6HLBe"
      },
      "execution_count": null,
      "outputs": []
    },
    {
      "cell_type": "code",
      "source": [
        "df_ChurnModelling_csv.to_html(\"df_ChurnModelling_html.html\")"
      ],
      "metadata": {
        "id": "FJY6o4fAHNTb"
      },
      "execution_count": null,
      "outputs": []
    },
    {
      "cell_type": "code",
      "source": [
        "df_ChurnModelling_csv.to_json(\"df_ChurnModelling_json.json\")"
      ],
      "metadata": {
        "id": "c3BQVWnJHb--"
      },
      "execution_count": null,
      "outputs": []
    },
    {
      "cell_type": "code",
      "source": [
        "df_ChurnModelling_csv.to_xml(\"df_ChurnModelling_xml.xml\")"
      ],
      "metadata": {
        "id": "kkHGfl7jHg29"
      },
      "execution_count": null,
      "outputs": []
    },
    {
      "cell_type": "code",
      "source": [
        "path_html= '/content/df_ChurnModelling_html.html'\n",
        "Churn_Modelling_html= pd.read_html(path_html)\n",
        "Churn_Modelling_html"
      ],
      "metadata": {
        "colab": {
          "base_uri": "https://localhost:8080/"
        },
        "id": "AQ4V4NGKJhau",
        "outputId": "5c8d6c5c-d12a-4096-dda1-d7c6c61cb122"
      },
      "execution_count": null,
      "outputs": [
        {
          "output_type": "execute_result",
          "data": {
            "text/plain": [
              "[      Unnamed: 0  RowNumber  CustomerId    Surname  CreditScore Geography  \\\n",
              " 0              0          1    15634602   Hargrave          619    France   \n",
              " 1              1          2    15647311       Hill          608     Spain   \n",
              " 2              2          3    15619304       Onio          502    France   \n",
              " 3              3          4    15701354       Boni          699    France   \n",
              " 4              4          5    15737888   Mitchell          850     Spain   \n",
              " ...          ...        ...         ...        ...          ...       ...   \n",
              " 9995        9995       9996    15606229   Obijiaku          771    France   \n",
              " 9996        9996       9997    15569892  Johnstone          516    France   \n",
              " 9997        9997       9998    15584532        Liu          709    France   \n",
              " 9998        9998       9999    15682355  Sabbatini          772   Germany   \n",
              " 9999        9999      10000    15628319     Walker          792    France   \n",
              " \n",
              "       Gender  Age  Tenure    Balance  NumOfProducts  HasCrCard  \\\n",
              " 0     Female   42       2       0.00              1          1   \n",
              " 1     Female   41       1   83807.86              1          0   \n",
              " 2     Female   42       8  159660.80              3          1   \n",
              " 3     Female   39       1       0.00              2          0   \n",
              " 4     Female   43       2  125510.82              1          1   \n",
              " ...      ...  ...     ...        ...            ...        ...   \n",
              " 9995    Male   39       5       0.00              2          1   \n",
              " 9996    Male   35      10   57369.61              1          1   \n",
              " 9997  Female   36       7       0.00              1          0   \n",
              " 9998    Male   42       3   75075.31              2          1   \n",
              " 9999  Female   28       4  130142.79              1          1   \n",
              " \n",
              "       IsActiveMember  EstimatedSalary  Exited  \n",
              " 0                  1        101348.88       1  \n",
              " 1                  1        112542.58       0  \n",
              " 2                  0        113931.57       1  \n",
              " 3                  0         93826.63       0  \n",
              " 4                  1         79084.10       0  \n",
              " ...              ...              ...     ...  \n",
              " 9995               0         96270.64       0  \n",
              " 9996               1        101699.77       0  \n",
              " 9997               1         42085.58       1  \n",
              " 9998               0         92888.52       1  \n",
              " 9999               0         38190.78       0  \n",
              " \n",
              " [10000 rows x 15 columns]]"
            ]
          },
          "metadata": {},
          "execution_count": 25
        }
      ]
    },
    {
      "cell_type": "code",
      "source": [
        "path_xls= '/content/df_ChurnModelling_xls.xls'\n",
        "ChurnModelling_xls= pd.read_excel(path_xls)\n",
        "ChurnModelling_xls"
      ],
      "metadata": {
        "id": "Vfg6CuFGMoHQ"
      },
      "execution_count": null,
      "outputs": []
    },
    {
      "cell_type": "code",
      "source": [
        "path_json= '/content/df_ChurnModelling_json.json'\n",
        "ChurnModelling_json= pd.read_json(path_json)\n",
        "ChurnModelling_json"
      ],
      "metadata": {
        "id": "pugaXjFgNYJh"
      },
      "execution_count": null,
      "outputs": []
    },
    {
      "cell_type": "markdown",
      "source": [
        "\n",
        "**Components of Python Panda**\n",
        "\n",
        "1. series --1D data\n",
        "2. DataFrame -- multidimensional data"
      ],
      "metadata": {
        "id": "fl_C_phAPjQs"
      }
    },
    {
      "cell_type": "code",
      "source": [
        "\n",
        "import pandas as pd\n",
        "\n",
        "lst1 = [ 12,213,234,34343,]\n",
        "sr1 = pd.Series(lst1)\n",
        "sr1, len(sr1), sr1.count(), sr1.ndim, type(sr1), sr1.size, sr1.dtype, sr1.item, sr1.items, sr1.nbytes, sr1.shape,"
      ],
      "metadata": {
        "colab": {
          "base_uri": "https://localhost:8080/"
        },
        "id": "PSrl5ANPPudL",
        "outputId": "237d35ef-636b-4c2d-d673-97090748f84c"
      },
      "execution_count": null,
      "outputs": [
        {
          "output_type": "execute_result",
          "data": {
            "text/plain": [
              "(0       12\n",
              " 1      213\n",
              " 2      234\n",
              " 3    34343\n",
              " dtype: int64,\n",
              " 4,\n",
              " 4,\n",
              " 1,\n",
              " pandas.core.series.Series,\n",
              " 4,\n",
              " dtype('int64'),\n",
              " <bound method IndexOpsMixin.item of 0       12\n",
              " 1      213\n",
              " 2      234\n",
              " 3    34343\n",
              " dtype: int64>,\n",
              " <bound method Series.items of 0       12\n",
              " 1      213\n",
              " 2      234\n",
              " 3    34343\n",
              " dtype: int64>,\n",
              " 32,\n",
              " (4,))"
            ]
          },
          "metadata": {},
          "execution_count": 44
        }
      ]
    },
    {
      "cell_type": "code",
      "source": [
        "\n",
        "#cannot create series from sets\n",
        "import pandas as pd\n",
        "\n",
        "set1 = {1, 2, 3, 4}\n",
        "sr1 = pd.Series(set1)\n",
        "sr1, sr1.ndim"
      ],
      "metadata": {
        "id": "_KCC9JmDQT2W"
      },
      "execution_count": null,
      "outputs": []
    },
    {
      "cell_type": "code",
      "source": [
        "import pandas as pd\n",
        "b_tup=(1,4,5,4,2,3,4)\n",
        "sr1 = pd.Series(b_tup)\n",
        "sr1, sr1.ndim\n"
      ],
      "metadata": {
        "colab": {
          "base_uri": "https://localhost:8080/"
        },
        "id": "U3jaVumhQ2Xt",
        "outputId": "a1eef47e-6765-453d-9369-578e157b946d"
      },
      "execution_count": null,
      "outputs": [
        {
          "output_type": "execute_result",
          "data": {
            "text/plain": [
              "(0    1\n",
              " 1    4\n",
              " 2    5\n",
              " 3    4\n",
              " 4    2\n",
              " 5    3\n",
              " 6    4\n",
              " dtype: int64,\n",
              " 1)"
            ]
          },
          "metadata": {},
          "execution_count": 39
        }
      ]
    },
    {
      "cell_type": "code",
      "source": [
        "str=\"Hello World\"\n",
        "sr1 = pd.Series(str)\n",
        "sr1, sr1.ndim\n"
      ],
      "metadata": {
        "colab": {
          "base_uri": "https://localhost:8080/"
        },
        "id": "IqCBUzZBRyY1",
        "outputId": "ff58edde-83d5-4c73-a18f-a10f7b196772"
      },
      "execution_count": null,
      "outputs": [
        {
          "output_type": "execute_result",
          "data": {
            "text/plain": [
              "(0    Hello World\n",
              " dtype: object,\n",
              " 1)"
            ]
          },
          "metadata": {},
          "execution_count": 41
        }
      ]
    },
    {
      "cell_type": "code",
      "source": [
        "dict1 = {'a':'apple',\n",
        "         'b':'banana',\n",
        "         'c':'cherries'}\n",
        "sr1 = pd.Series(dict1)\n",
        "sr1, sr1.ndim\n",
        "\n"
      ],
      "metadata": {
        "colab": {
          "base_uri": "https://localhost:8080/"
        },
        "id": "271nEpP4R4Yd",
        "outputId": "d57a6298-7c3b-4b5b-f8df-95f886550707"
      },
      "execution_count": null,
      "outputs": [
        {
          "output_type": "execute_result",
          "data": {
            "text/plain": [
              "(a       apple\n",
              " b      banana\n",
              " c    cherries\n",
              " dtype: object,\n",
              " 1)"
            ]
          },
          "metadata": {},
          "execution_count": 42
        }
      ]
    },
    {
      "cell_type": "code",
      "source": [
        "sr1, len(sr1), sr1.count(), sr1.ndim, type(sr1), sr1.size, sr1.dtype, sr1.item, sr1.items, sr1.nbytes, sr1.shape,"
      ],
      "metadata": {
        "colab": {
          "base_uri": "https://localhost:8080/"
        },
        "id": "ithQ4UI2SSC9",
        "outputId": "9517cc94-b8c2-4f9b-b7e4-ed444c16cce9"
      },
      "execution_count": null,
      "outputs": [
        {
          "output_type": "execute_result",
          "data": {
            "text/plain": [
              "(a       apple\n",
              " b      banana\n",
              " c    cherries\n",
              " dtype: object,\n",
              " 3,\n",
              " 3,\n",
              " 1,\n",
              " pandas.core.series.Series,\n",
              " 3,\n",
              " dtype('O'),\n",
              " <bound method IndexOpsMixin.item of a       apple\n",
              " b      banana\n",
              " c    cherries\n",
              " dtype: object>,\n",
              " <bound method Series.items of a       apple\n",
              " b      banana\n",
              " c    cherries\n",
              " dtype: object>,\n",
              " 24,\n",
              " (3,))"
            ]
          },
          "metadata": {},
          "execution_count": 43
        }
      ]
    }
  ]
}