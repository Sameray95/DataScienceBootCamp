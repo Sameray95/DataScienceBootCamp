{
  "nbformat": 4,
  "nbformat_minor": 0,
  "metadata": {
    "colab": {
      "provenance": []
    },
    "kernelspec": {
      "name": "python3",
      "display_name": "Python 3"
    },
    "language_info": {
      "name": "python"
    }
  },
  "cells": [
    {
      "cell_type": "code",
      "source": [],
      "metadata": {
        "id": "yML_GeD3pfD3"
      },
      "execution_count": null,
      "outputs": []
    },
    {
      "cell_type": "code",
      "execution_count": null,
      "metadata": {
        "id": "TgT3WLEpnQUO"
      },
      "outputs": [],
      "source": [
        "#Vehicle Rental System: Build classes for Vehicle, Car, and Bike.\n",
        "#Implement a rental system where customers can rent vehicles and the system can track availability.\n",
        "\n",
        "class Vehicle:\n",
        "    def __init__(self, availability=True):\n",
        "        self.availability = availability\n",
        "\n",
        "    def check_availability(self):\n",
        "        if self.availability:\n",
        "            print(\"This vehicle is available for rent.\")\n",
        "        else:\n",
        "            print(\"This vehicle is not available for rent.\")\n",
        "\n",
        "    def rent(self):\n",
        "        if self.availability:\n",
        "            self.availability = False\n",
        "            print(\"Vehicle rented successfully.\")\n",
        "        else:\n",
        "            print(\"Vehicle is not available for rent.\")\n",
        "\n",
        "    def return_vehicle(self):\n",
        "        self.availability = True\n",
        "        print(\"Vehicle returned successfully.\")\n",
        "\n",
        "class Car(Vehicle):\n",
        "    def __init__(self, model, availability=True):\n",
        "        super().__init__(availability)\n",
        "        self.model = model\n",
        "\n",
        "class Bike(Vehicle):\n",
        "    def __init__(self, model, availability=True):\n",
        "        super().__init__(availability)\n",
        "        self.model = model\n"
      ]
    },
    {
      "cell_type": "code",
      "source": [
        "car1 = Car(\"Toyota Corolla\")\n",
        "bike1 = Bike(\"Aoistormotor\")\n",
        "\n",
        "car1.check_availability()\n",
        "bike1.check_availability()\n",
        "\n",
        "car1.rent()\n",
        "bike1.rent()\n",
        "\n",
        "car1.rent()\n",
        "\n",
        "car1.return_vehicle()\n",
        "bike1.return_vehicle()\n",
        "\n",
        "car1.check_availability()\n",
        "bike1.check_availability()\n"
      ],
      "metadata": {
        "colab": {
          "base_uri": "https://localhost:8080/"
        },
        "id": "ZJ_2Gb3trx0F",
        "outputId": "66d68e3b-46f8-4cc2-86c4-5db4c03da301"
      },
      "execution_count": null,
      "outputs": [
        {
          "output_type": "stream",
          "name": "stdout",
          "text": [
            "This vehicle is available for rent.\n",
            "This vehicle is available for rent.\n",
            "Vehicle rented successfully.\n",
            "Vehicle rented successfully.\n",
            "Vehicle is not available for rent.\n",
            "Vehicle returned successfully.\n",
            "Vehicle returned successfully.\n",
            "This vehicle is available for rent.\n",
            "This vehicle is available for rent.\n"
          ]
        }
      ]
    }
  ]
}