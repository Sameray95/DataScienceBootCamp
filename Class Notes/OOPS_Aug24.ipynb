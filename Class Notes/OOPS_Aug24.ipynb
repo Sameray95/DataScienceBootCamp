{
  "nbformat": 4,
  "nbformat_minor": 0,
  "metadata": {
    "colab": {
      "provenance": []
    },
    "kernelspec": {
      "name": "python3",
      "display_name": "Python 3"
    },
    "language_info": {
      "name": "python"
    }
  },
  "cells": [
    {
      "cell_type": "markdown",
      "source": [
        "Thursday August 24, 2023\n",
        "1. Over Loading\n",
        "2. Over Ridding\n",
        "3. Operator Over Loading\n",
        "4. Polymorphism\n",
        "5. Encapsulation"
      ],
      "metadata": {
        "id": "fjfjrLl6FPwe"
      }
    },
    {
      "cell_type": "code",
      "source": [],
      "metadata": {
        "id": "yPnqlu5jFTcd"
      },
      "execution_count": null,
      "outputs": []
    },
    {
      "cell_type": "code",
      "source": [
        "l = 'Python Programming'\n",
        "\n",
        "print(len(l))\n",
        "\n",
        "l = [12,23,34,45,56,67,78,89,90]\n",
        "\n",
        "print(len(l))\n",
        "\n",
        "l = (11,22,33,44,55,66,77,88,99,110)\n",
        "\n",
        "print(len(l))\n",
        "\n",
        "l = {'a':'apple',\n",
        "     'b':'banana',\n",
        "     'c':'cherries'}\n",
        "\n",
        "print(len(l))"
      ],
      "metadata": {
        "colab": {
          "base_uri": "https://localhost:8080/"
        },
        "id": "tPFrukscC3Kb",
        "outputId": "71eb6552-dc42-42b6-cee7-12c57415517f"
      },
      "execution_count": null,
      "outputs": [
        {
          "output_type": "stream",
          "name": "stdout",
          "text": [
            "18\n",
            "9\n",
            "10\n",
            "3\n"
          ]
        }
      ]
    },
    {
      "cell_type": "code",
      "source": [
        "class person: # parent class\n",
        "  def __init__(self, fname, mname, lname):\n",
        "    pass\n",
        "  def print_details(self):\n",
        "    print(self.fname, self.mname, self.lname)\n",
        "\n",
        "class student(person): # child class\n",
        "  def __init__(self, fname, mname, lname):\n",
        "    pass\n",
        "  def print_details(self):\n",
        "    print(self.fname, self.mname, self.lname)"
      ],
      "metadata": {
        "id": "GPWE3pIgFZ1m"
      },
      "execution_count": null,
      "outputs": []
    },
    {
      "cell_type": "code",
      "source": [
        "class Car:\n",
        "  def __init__(self, brand, model):\n",
        "    self.brand = brand\n",
        "    self.model = model\n",
        "\n",
        "  def move(self):\n",
        "    print(\"Drive!\")\n",
        "\n",
        "class Boat:\n",
        "  def __init__(self, brand, model):\n",
        "    self.brand = brand\n",
        "    self.model = model\n",
        "\n",
        "  def move(self):\n",
        "    print(\"Sail!\")\n",
        "\n",
        "class Plane:\n",
        "  def __init__(self, brand, model):\n",
        "    self.brand = brand\n",
        "    self.model = model\n",
        "\n",
        "  def move(self):\n",
        "    print(\"Fly!\")\n",
        "\n",
        "car1 = Car(\"Ford\", \"Mustang\")       #Create a Car object\n",
        "boat1 = Boat(\"Ibiza\", \"Touring 20\") #Create a Boat object\n",
        "plane1 = Plane(\"Boeing\", \"747\")     #Create a Plane object\n",
        "\n",
        "for x in (car1, boat1, plane1):\n",
        "  x.move()"
      ],
      "metadata": {
        "colab": {
          "base_uri": "https://localhost:8080/"
        },
        "id": "yB4YDU8WFf_W",
        "outputId": "b47b043e-6820-4d45-e656-8a12f7e17128"
      },
      "execution_count": null,
      "outputs": [
        {
          "output_type": "stream",
          "name": "stdout",
          "text": [
            "Drive!\n",
            "Sail!\n",
            "Fly!\n"
          ]
        }
      ]
    },
    {
      "cell_type": "code",
      "source": [
        "class vehicle:\n",
        "  def __init__ (self, brand, model):\n",
        "    self.brand= brand\n",
        "    self.model=model\n",
        "\n",
        "  def move(self):\n",
        "    print('Move!!')\n",
        "\n",
        "class Car(vehicle):\n",
        "  def move(self):\n",
        "    print(\"Drive!\")\n",
        "\n",
        "class Boat(vehicle):\n",
        "  def move(self):\n",
        "    print(\"Sail!\")\n",
        "\n",
        "class Plane(vehicle):\n",
        "  def move(self):\n",
        "    print(\"Fly!\")\n",
        "\n",
        "car1 = Car(\"Ford\", \"Mustang\")       #Create a Car object\n",
        "boat1 = Boat(\"Ibiza\", \"Touring 20\") #Create a Boat object\n",
        "plane1 = Plane(\"Boeing\", \"747\")     #Create a Plane object\n",
        "\n",
        "for i in (car1, boat1, plane1):\n",
        "  print(i.brand)\n",
        "  print(i.model)\n",
        "  i.move()\n",
        "  print(\"\\n\")\n",
        "\n",
        "\n"
      ],
      "metadata": {
        "colab": {
          "base_uri": "https://localhost:8080/"
        },
        "id": "8S5PcN3yIlMm",
        "outputId": "d4dac528-c262-4a0f-c8a3-93d28ce9c31a"
      },
      "execution_count": null,
      "outputs": [
        {
          "output_type": "stream",
          "name": "stdout",
          "text": [
            "Ford\n",
            "Mustang\n",
            "Drive!\n",
            "\n",
            "\n",
            "Ibiza\n",
            "Touring 20\n",
            "Sail!\n",
            "\n",
            "\n",
            "Boeing\n",
            "747\n",
            "Fly!\n",
            "\n",
            "\n"
          ]
        }
      ]
    },
    {
      "cell_type": "code",
      "source": [
        "class ElectronicDevice:\n",
        "  def __init__(self, typee, make):\n",
        "    self.typee = typee\n",
        "    self.make= make\n",
        "  def price(self):\n",
        "    print(\"Price: \", \"Several Hundreds or Several Thousands\")\n",
        "\n",
        "class Computer(ElectronicDevice):\n",
        "    def price (self):\n",
        "      print(\"Price: \", \"$2000 and so on\")\n",
        "\n",
        "class Tv (ElectronicDevice):\n",
        "    def price(self):\n",
        "      print(\"Price: \", \"$500 and so on\")\n",
        "\n",
        "class Speaker(ElectronicDevice):\n",
        "    def price(self):\n",
        "      print(\"Price: \", \"$150 and so on\")\n"
      ],
      "metadata": {
        "id": "yYw4Av66Oo3u"
      },
      "execution_count": null,
      "outputs": []
    },
    {
      "cell_type": "code",
      "source": [
        "pc = Computer(\"Laptop\", \"2023\")\n",
        "tv = Tv(\"Sony\", \"2022\")\n",
        "spkr = Speaker(\"JBL Flip 5\", \"2021\")"
      ],
      "metadata": {
        "id": "it05dqorQHRu"
      },
      "execution_count": null,
      "outputs": []
    },
    {
      "cell_type": "code",
      "source": [
        "for i in (pc,tv,spkr):\n",
        "  print(\"Type : \", i.typee)\n",
        "  print(\"Make : \", i.make)\n",
        "  i.price()\n",
        "  print(\"\\n\")"
      ],
      "metadata": {
        "colab": {
          "base_uri": "https://localhost:8080/"
        },
        "id": "1mZmqNxrRKk3",
        "outputId": "b6b50c50-8b36-44f6-f9a3-b26477fd7854"
      },
      "execution_count": null,
      "outputs": [
        {
          "output_type": "stream",
          "name": "stdout",
          "text": [
            "Type :  Laptop\n",
            "Make :  2023\n",
            "Price:  $2000 and so on\n",
            "\n",
            "\n",
            "Type :  Sony\n",
            "Make :  2022\n",
            "Price:  $500 and so on\n",
            "\n",
            "\n",
            "Type :  JBL Flip 5\n",
            "Make :  2021\n",
            "Price:  $150 and so on\n",
            "\n",
            "\n"
          ]
        }
      ]
    },
    {
      "cell_type": "code",
      "source": [
        "\n",
        "\n",
        "matrix = [\n",
        "    [9, 8, 7],\n",
        "    [6, 5, 4 ],\n",
        "    [3, 2, 1]\n",
        "]\n",
        "\n",
        "for row in matrix:\n",
        "    print(row)\n",
        "\n",
        "user_input=int(input((\"Select the number you want to replace.\" )))\n",
        "\n",
        "for i in range(len(matrix)):\n",
        "  for j in range(len(matrix)):\n",
        "    if user_input== matrix[i][j]:\n",
        "      matrix[i][j]= 'X'\n",
        "\n",
        "print(\"New Matrix: \\n\")\n",
        "\n",
        "for k in matrix:\n",
        "  print(k)\n"
      ],
      "metadata": {
        "colab": {
          "base_uri": "https://localhost:8080/"
        },
        "id": "Y37eC-gghqPX",
        "outputId": "c905655c-3a0a-4cc9-c998-b9c0bd217c25"
      },
      "execution_count": null,
      "outputs": [
        {
          "output_type": "stream",
          "name": "stdout",
          "text": [
            "[9, 8, 7]\n",
            "[6, 5, 4]\n",
            "[3, 2, 1]\n",
            "Select the number you want to replace.6\n",
            "New Matrix: \n",
            "\n",
            "[9, 8, 7]\n",
            "['X', 5, 4]\n",
            "[3, 2, 1]\n"
          ]
        }
      ]
    },
    {
      "cell_type": "code",
      "source": [
        "\n",
        "def display_board(board):\n",
        "  print(\"  \" + \" \"\" {} | {} | {}\")"
      ],
      "metadata": {
        "id": "gw4_oDEcvOaV"
      },
      "execution_count": null,
      "outputs": []
    }
  ]
}