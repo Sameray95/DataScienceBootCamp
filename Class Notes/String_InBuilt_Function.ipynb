{
  "nbformat": 4,
  "nbformat_minor": 0,
  "metadata": {
    "colab": {
      "provenance": []
    },
    "kernelspec": {
      "name": "python3",
      "display_name": "Python 3"
    },
    "language_info": {
      "name": "python"
    }
  },
  "cells": [
    {
      "cell_type": "code",
      "execution_count": 1,
      "metadata": {
        "colab": {
          "base_uri": "https://localhost:8080/"
        },
        "id": "4DRHnz4NSEgI",
        "outputId": "00d64806-1d7e-4e86-e954-4b7ac078e34b"
      },
      "outputs": [
        {
          "output_type": "stream",
          "name": "stdout",
          "text": [
            "HloWrd\n"
          ]
        }
      ],
      "source": [
        "temp_str=\"Hello World\"\n",
        "#String SLicing [start:stop:steps] -- steps means how many chat to take,, if 1 1 by 1, if 2 takes alternatives and so on\n",
        "\n",
        "print(temp_str[::2])"
      ]
    },
    {
      "cell_type": "code",
      "source": [
        "#inbuilt functions are built within python, --common functions, --\n",
        "dir(temp_str)"
      ],
      "metadata": {
        "colab": {
          "base_uri": "https://localhost:8080/"
        },
        "id": "o618NKCXSKNy",
        "outputId": "b1f332bd-ca1c-472f-bb5d-ad556c37d59c"
      },
      "execution_count": 4,
      "outputs": [
        {
          "output_type": "execute_result",
          "data": {
            "text/plain": [
              "['__add__',\n",
              " '__class__',\n",
              " '__contains__',\n",
              " '__delattr__',\n",
              " '__dir__',\n",
              " '__doc__',\n",
              " '__eq__',\n",
              " '__format__',\n",
              " '__ge__',\n",
              " '__getattribute__',\n",
              " '__getitem__',\n",
              " '__getnewargs__',\n",
              " '__gt__',\n",
              " '__hash__',\n",
              " '__init__',\n",
              " '__init_subclass__',\n",
              " '__iter__',\n",
              " '__le__',\n",
              " '__len__',\n",
              " '__lt__',\n",
              " '__mod__',\n",
              " '__mul__',\n",
              " '__ne__',\n",
              " '__new__',\n",
              " '__reduce__',\n",
              " '__reduce_ex__',\n",
              " '__repr__',\n",
              " '__rmod__',\n",
              " '__rmul__',\n",
              " '__setattr__',\n",
              " '__sizeof__',\n",
              " '__str__',\n",
              " '__subclasshook__',\n",
              " 'capitalize',\n",
              " 'casefold',\n",
              " 'center',\n",
              " 'count',\n",
              " 'encode',\n",
              " 'endswith',\n",
              " 'expandtabs',\n",
              " 'find',\n",
              " 'format',\n",
              " 'format_map',\n",
              " 'index',\n",
              " 'isalnum',\n",
              " 'isalpha',\n",
              " 'isascii',\n",
              " 'isdecimal',\n",
              " 'isdigit',\n",
              " 'isidentifier',\n",
              " 'islower',\n",
              " 'isnumeric',\n",
              " 'isprintable',\n",
              " 'isspace',\n",
              " 'istitle',\n",
              " 'isupper',\n",
              " 'join',\n",
              " 'ljust',\n",
              " 'lower',\n",
              " 'lstrip',\n",
              " 'maketrans',\n",
              " 'partition',\n",
              " 'removeprefix',\n",
              " 'removesuffix',\n",
              " 'replace',\n",
              " 'rfind',\n",
              " 'rindex',\n",
              " 'rjust',\n",
              " 'rpartition',\n",
              " 'rsplit',\n",
              " 'rstrip',\n",
              " 'split',\n",
              " 'splitlines',\n",
              " 'startswith',\n",
              " 'strip',\n",
              " 'swapcase',\n",
              " 'title',\n",
              " 'translate',\n",
              " 'upper',\n",
              " 'zfill']"
            ]
          },
          "metadata": {},
          "execution_count": 4
        }
      ]
    },
    {
      "cell_type": "code",
      "source": [
        "\n",
        "#capatilize -- capatalize first char\n",
        "print(temp_str.capitalize())\n"
      ],
      "metadata": {
        "colab": {
          "base_uri": "https://localhost:8080/"
        },
        "id": "Z636-5FWThvo",
        "outputId": "e3ba0119-3dd4-4e9e-9ce4-d4b9d15ea363"
      },
      "execution_count": 10,
      "outputs": [
        {
          "output_type": "stream",
          "name": "stdout",
          "text": [
            "Hello world\n"
          ]
        }
      ]
    },
    {
      "cell_type": "code",
      "source": [
        "#casefold--- lowercases everything\n",
        "temp_str=\"Hello world\"\n",
        "print(temp_str.casefold())"
      ],
      "metadata": {
        "colab": {
          "base_uri": "https://localhost:8080/"
        },
        "id": "XPgIk6jrUVv0",
        "outputId": "171d3b7d-0af8-441f-8ae8-3a6746e8f114"
      },
      "execution_count": 12,
      "outputs": [
        {
          "output_type": "stream",
          "name": "stdout",
          "text": [
            "hello world\n"
          ]
        }
      ]
    },
    {
      "cell_type": "code",
      "source": [
        "#center-- brings string to center,, can add any character like below *, string has 11 characters and we added *\n",
        "#and central function centralizes it,, cenralizes from right side\n",
        "temp_str=\"Hello World\"\n",
        "print(temp_str.center(15,\"*\"))\n"
      ],
      "metadata": {
        "colab": {
          "base_uri": "https://localhost:8080/"
        },
        "id": "ilxXHRwPU6kl",
        "outputId": "9e02f560-9f8b-4b8c-c868-632ee73e9c64"
      },
      "execution_count": 24,
      "outputs": [
        {
          "output_type": "stream",
          "name": "stdout",
          "text": [
            "**Hello World**\n"
          ]
        }
      ]
    },
    {
      "cell_type": "code",
      "source": [
        "#count\n",
        "#returns the count of substring -- below example has 2 how and count is 2\n",
        "#is case sensitive\n",
        "temp_str=\"Hello World, how is it going? and how is your day?\"\n",
        "print(temp_str.count(\"how\"))\n",
        "\n",
        "#how to give range\n",
        "#count(value,start,end) # start and end are optional if not given, it takes full string\n",
        "#index is always start value and length of string is always end value\n",
        "\n",
        "temp_str1=\"Hello World, how is it going? and how is your day?\"\n",
        "print(temp_str1[0:5])\n",
        "print(temp_str1.count(\"Hello\"))\n",
        "print(temp_str1.count(\"how\",1))\n"
      ],
      "metadata": {
        "colab": {
          "base_uri": "https://localhost:8080/"
        },
        "id": "YuFb9JCzWokq",
        "outputId": "89d52386-a45f-4041-fff7-f000fa3cfa7b"
      },
      "execution_count": 43,
      "outputs": [
        {
          "output_type": "stream",
          "name": "stdout",
          "text": [
            "2\n",
            "Hello\n",
            "1\n",
            "2\n"
          ]
        }
      ]
    },
    {
      "cell_type": "code",
      "source": [
        "#endswith\n",
        "#returns true or false\n",
        "\n",
        "tempstr=\"Hello World, how is it going? and how is your day?\"\n",
        "print(tempstr.endswith(\"?\"))\n",
        "print(tempstr.endswith(\".\"))\n",
        "print(tempstr.endswith(\"day\",0,len(tempstr)-1)) #length is reduced by 1 and its true"
      ],
      "metadata": {
        "colab": {
          "base_uri": "https://localhost:8080/"
        },
        "id": "yV2CccbKbYjK",
        "outputId": "47e34b17-15d5-4bc7-abc5-c2bdf0873433"
      },
      "execution_count": 47,
      "outputs": [
        {
          "output_type": "stream",
          "name": "stdout",
          "text": [
            "True\n",
            "False\n",
            "True\n"
          ]
        }
      ]
    },
    {
      "cell_type": "code",
      "source": [
        "#find\n",
        "#returns lowest index of the substring if found else returns -1\n",
        "tempstr=\"Hello World, how is it going? and how is your day?\"\n",
        "print(tempstr.find(\"how\"))\n",
        "print(tempstr.find(\"hows\"))\n"
      ],
      "metadata": {
        "colab": {
          "base_uri": "https://localhost:8080/"
        },
        "id": "H3NePOdbd1RO",
        "outputId": "1eda66b4-1a18-4a64-b0a4-893cb793ca9a"
      },
      "execution_count": 50,
      "outputs": [
        {
          "output_type": "stream",
          "name": "stdout",
          "text": [
            "13\n",
            "-1\n"
          ]
        }
      ]
    },
    {
      "cell_type": "code",
      "source": [
        "#format\n",
        "#substitutes value in a string\n",
        "#oneway--\n",
        "tempstr=\"Hello World, my name is {fname}, I am {Position}?\"\n",
        "print(tempstr.format(fname =\"Sameer\", Position =\"Engineer\"))\n",
        "\n",
        "#other way--\n",
        "tempstr9=\"Hello World, my name is {0}, I am {1}?\"\n",
        "print(tempstr9.format(\"Sameer\",\"Engineer\"))"
      ],
      "metadata": {
        "colab": {
          "base_uri": "https://localhost:8080/"
        },
        "id": "44arw-1ifNKy",
        "outputId": "8061ccee-e7b2-4dfb-9db6-5d871cc895d6"
      },
      "execution_count": 57,
      "outputs": [
        {
          "output_type": "stream",
          "name": "stdout",
          "text": [
            "Hello World, my name is Sameer, I am Engineer?\n",
            "Hello World, my name is Sameer, I am Engineer?\n"
          ]
        }
      ]
    },
    {
      "cell_type": "code",
      "source": [
        "#index\n",
        "#replica of find function\n",
        "tempstr4=\"Hello World, how is it going? and how is your day?\"\n",
        "print(tempstr4.index(\"how\"))\n",
        "\n"
      ],
      "metadata": {
        "colab": {
          "base_uri": "https://localhost:8080/"
        },
        "id": "YpddHPP8hZik",
        "outputId": "0f7833b4-cf32-4756-d8ec-a981a0a1261f"
      },
      "execution_count": 59,
      "outputs": [
        {
          "output_type": "stream",
          "name": "stdout",
          "text": [
            "13\n"
          ]
        }
      ]
    },
    {
      "cell_type": "code",
      "source": [
        "#isalnum\n",
        "#returns true or false based on whether the string is alphanumeric or not\n",
        "#to be alphanumeric there should not be any special characters\n",
        "tempstr4=\"Hello World, how is it going? and how is your day?\"\n",
        "\n",
        "print(tempstr4.isalnum())\n",
        "\n",
        "print(tempstr4[0:5].isalnum())\n",
        "\n",
        "numstr= \"1233sameerram3sh63\"\n",
        "print(numstr.isalnum())\n",
        "\n",
        "\n"
      ],
      "metadata": {
        "colab": {
          "base_uri": "https://localhost:8080/"
        },
        "id": "AHc5SW4ViaD2",
        "outputId": "670c8cba-f57b-4304-92fc-9e0fdd9b8771"
      },
      "execution_count": 64,
      "outputs": [
        {
          "output_type": "stream",
          "name": "stdout",
          "text": [
            "False\n",
            "True\n",
            "True\n"
          ]
        }
      ]
    },
    {
      "cell_type": "code",
      "source": [
        "#isalpha()\n",
        "#returns true if its alpbahets only\n",
        "tempstr=\"HelloWorld\"\n",
        "tempstr1= \"Hello World\"\n",
        "tempstr2= \"HelloWorld11111112\"\n",
        "print(tempstr.isalpha())\n",
        "print(tempstr1.isalpha())\n",
        "print(tempstr2.isalpha())"
      ],
      "metadata": {
        "colab": {
          "base_uri": "https://localhost:8080/"
        },
        "id": "ehr_fYWYjjPA",
        "outputId": "056ec07a-278c-4625-c181-dd80a8337715"
      },
      "execution_count": 66,
      "outputs": [
        {
          "output_type": "stream",
          "name": "stdout",
          "text": [
            "True\n",
            "False\n",
            "False\n"
          ]
        }
      ]
    },
    {
      "cell_type": "code",
      "source": [
        "#isdecimal\n",
        "#returns true if it has decimals only (0-9)\n",
        "#-- also works for unicodes, unicode normally starts with \\u\n",
        "str=\"hello\"\n",
        "str1=\"1233456\"\n",
        "str3=\"12121.32232\"\n",
        "\n",
        "unicode_0=\"\\u0030\"\n",
        "print(str.isdecimal())\n",
        "print(str1.isdecimal())\n",
        "print(str3.isdecimal())\n",
        "print(unicode_0.isdecimal())\n"
      ],
      "metadata": {
        "colab": {
          "base_uri": "https://localhost:8080/"
        },
        "id": "x_godthoktDi",
        "outputId": "9103987a-c4fa-49a2-eb9d-d52778d12b70"
      },
      "execution_count": 69,
      "outputs": [
        {
          "output_type": "stream",
          "name": "stdout",
          "text": [
            "False\n",
            "True\n",
            "False\n",
            "True\n"
          ]
        }
      ]
    },
    {
      "cell_type": "code",
      "source": [
        "#isdigit\n",
        "\n",
        "str=\"012345678990786764\"\n",
        "str2=\"sameer\"\n",
        "unicode_0=\"\\u0030\"\n",
        "\n",
        "print(str.isdigit())\n",
        "print(str2.isdigit())\n",
        "print(unicode_0.isdigit())\n"
      ],
      "metadata": {
        "colab": {
          "base_uri": "https://localhost:8080/"
        },
        "id": "zK0ixOSAlXwi",
        "outputId": "0d5642c8-6738-44f8-a94d-3b9d8eacb0ed"
      },
      "execution_count": 72,
      "outputs": [
        {
          "output_type": "stream",
          "name": "stdout",
          "text": [
            "True\n",
            "False\n",
            "True\n"
          ]
        }
      ]
    }
  ]
}