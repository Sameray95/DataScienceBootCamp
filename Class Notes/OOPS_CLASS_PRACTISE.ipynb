{
  "nbformat": 4,
  "nbformat_minor": 0,
  "metadata": {
    "colab": {
      "provenance": []
    },
    "kernelspec": {
      "name": "python3",
      "display_name": "Python 3"
    },
    "language_info": {
      "name": "python"
    }
  },
  "cells": [
    {
      "cell_type": "code",
      "execution_count": null,
      "metadata": {
        "id": "jAp9vok0Jeux"
      },
      "outputs": [],
      "source": [
        "#Bank Account: Create a BankAccount class with methods to deposit, withdraw, and get the current balance.\n",
        "#Ensure that the balance can't go negative.\n",
        "class BankAccount:\n",
        "  def __init__(self,balance=0):\n",
        "    if balance>0:\n",
        "      self.balance=balance\n",
        "    else:\n",
        "      print(\"Invalid Balance entered Initializing balance with zero\")\n",
        "      self.balance=0\n",
        "\n",
        "  def deposit(self,amount):\n",
        "    if amount>0:\n",
        "      print(\"Deposit Successful\")\n",
        "      self.balance=self.balance+amount\n",
        "      print(\"Your Current Balance is \",self.balance)\n",
        "    else:\n",
        "      print(\"Invalid Amount please enter value greater than 0\")\n",
        "      print(\"Your Current Balance is \",self.balance)\n",
        "\n",
        "  def withdraw(self,amount):\n",
        "    if self.balance>=amount:\n",
        "      self.balance=self.balance-amount\n",
        "      print(\"Withdraw Successful\")\n",
        "      print(\"Your Current Balance is \",self.balance)\n",
        "    else:\n",
        "      print(\"Can not withdraw more than current balance\")\n",
        "      print(\"Your Current Balance is \",self.balance)\n",
        "\n",
        "  def get_current_balance(self):\n",
        "    print(\"Your Current Balance is \",self.balance)\n"
      ]
    },
    {
      "cell_type": "code",
      "source": [
        "newacc = BankAccount(-100)\n",
        "\n",
        "print(newacc.get_current_balance())\n",
        "\n",
        "\n",
        "\n",
        "newacc.deposit(20)\n",
        "\n",
        "print(newacc.get_current_balance())\n",
        "\n",
        "\n",
        "\n",
        "newacc.withdraw(20)\n",
        "\n",
        "print(newacc.get_current_balance())\n",
        "\n",
        "\n",
        "\n",
        "newacc.withdraw(100)\n",
        "\n",
        "print(newacc.get_current_balance())"
      ],
      "metadata": {
        "colab": {
          "base_uri": "https://localhost:8080/"
        },
        "id": "soCPgmqfNI4P",
        "outputId": "fd537775-8c35-4c3a-ac49-17b5d83f0947"
      },
      "execution_count": null,
      "outputs": [
        {
          "output_type": "stream",
          "name": "stdout",
          "text": [
            "Invalid Balance entered Initializing balance with zero\n",
            "Your Current Balance is  0\n",
            "None\n",
            "Deposit Successful\n",
            "Your Current Balance is  20\n",
            "Your Current Balance is  20\n",
            "None\n",
            "Withdraw Successful\n",
            "Your Current Balance is  0\n",
            "Your Current Balance is  0\n",
            "None\n",
            "Can not withdraw more than current balance\n",
            "Your Current Balance is  0\n",
            "Your Current Balance is  0\n",
            "None\n"
          ]
        }
      ]
    },
    {
      "cell_type": "code",
      "source": [
        "#Library Catalog: Implement a Library class with methods to add books, lend books, and return books.\n",
        "#Keep track of available and borrowed books.\n",
        "\n",
        "class Library:\n",
        "  def __init__(self,books=[]):\n",
        "    if type(books) ==list:\n",
        "      if len(books)>0:\n",
        "        self.books=[]+list(books)\n",
        "      else:\n",
        "        self.books=[]\n",
        "    else:\n",
        "      self.books=[]\n",
        "\n",
        "  def add_books(self,bookname):\n",
        "    self.books.append(str(bookname))\n",
        "\n",
        "  def lend_books(self,bookname):\n",
        "    try:\n",
        "      index=self.books.index(str(bookname))\n",
        "      self.books.pop(index)\n",
        "      print(\"Here we Found your book\")\n",
        "    except:\n",
        "      print(\"No Such Book in library catalog Please check available books\")\n",
        "\n",
        "  def return_book(self,bookname):\n",
        "    self.add_books(bookname)\n",
        "\n",
        "  def available_books(self):\n",
        "    print(\"Available books are\")\n",
        "    for k in  self.books:\n",
        "      print(k)\n",
        "    print(\"=============THE END =================\")"
      ],
      "metadata": {
        "id": "U46HbVqJNJG-"
      },
      "execution_count": null,
      "outputs": []
    },
    {
      "cell_type": "code",
      "source": [
        "library=Library(['harry potter','Lord of rings'])\n",
        "library.available_books()\n",
        "library.add_books('harry potter 2')\n",
        "library.add_books('harry potter 3')\n",
        "library.add_books('harry potter 4')\n",
        "library.available_books()\n",
        "library.lend_books(\"harry potter\")\n",
        "library.available_books()\n",
        "library.return_book(\"harry potter\")\n",
        "library.available_books()"
      ],
      "metadata": {
        "colab": {
          "base_uri": "https://localhost:8080/"
        },
        "id": "eMAnN5edNJL2",
        "outputId": "ccc2b7cd-fa21-4518-921c-0f833c17ef7d"
      },
      "execution_count": null,
      "outputs": [
        {
          "output_type": "stream",
          "name": "stdout",
          "text": [
            "Available books are\n",
            "harry potter\n",
            "Lord of rings\n",
            "=============THE END =================\n",
            "Available books are\n",
            "harry potter\n",
            "Lord of rings\n",
            "harry potter 2\n",
            "harry potter 3\n",
            "harry potter 4\n",
            "=============THE END =================\n",
            "Here we Found your book\n",
            "Available books are\n",
            "Lord of rings\n",
            "harry potter 2\n",
            "harry potter 3\n",
            "harry potter 4\n",
            "=============THE END =================\n",
            "Available books are\n",
            "Lord of rings\n",
            "harry potter 2\n",
            "harry potter 3\n",
            "harry potter 4\n",
            "harry potter\n",
            "=============THE END =================\n"
          ]
        }
      ]
    },
    {
      "cell_type": "code",
      "source": [
        "str(['a','b']).isalnum()"
      ],
      "metadata": {
        "colab": {
          "base_uri": "https://localhost:8080/"
        },
        "id": "27GdqMXRNJN-",
        "outputId": "648c47eb-bd36-4bba-94a6-35d2c09c0da3"
      },
      "execution_count": null,
      "outputs": [
        {
          "output_type": "execute_result",
          "data": {
            "text/plain": [
              "False"
            ]
          },
          "metadata": {},
          "execution_count": 43
        }
      ]
    },
    {
      "cell_type": "code",
      "source": [
        "[1,2].index(3)"
      ],
      "metadata": {
        "colab": {
          "base_uri": "https://localhost:8080/",
          "height": 176
        },
        "id": "n6TaHl9qNJQO",
        "outputId": "00eae22b-59fb-407d-8343-ab89916f620e"
      },
      "execution_count": null,
      "outputs": [
        {
          "output_type": "error",
          "ename": "ValueError",
          "evalue": "ignored",
          "traceback": [
            "\u001b[0;31m---------------------------------------------------------------------------\u001b[0m",
            "\u001b[0;31mValueError\u001b[0m                                Traceback (most recent call last)",
            "\u001b[0;32m<ipython-input-44-d3cec5805471>\u001b[0m in \u001b[0;36m<cell line: 1>\u001b[0;34m()\u001b[0m\n\u001b[0;32m----> 1\u001b[0;31m \u001b[0;34m[\u001b[0m\u001b[0;36m1\u001b[0m\u001b[0;34m,\u001b[0m\u001b[0;36m2\u001b[0m\u001b[0;34m]\u001b[0m\u001b[0;34m.\u001b[0m\u001b[0mindex\u001b[0m\u001b[0;34m(\u001b[0m\u001b[0;36m3\u001b[0m\u001b[0;34m)\u001b[0m\u001b[0;34m\u001b[0m\u001b[0;34m\u001b[0m\u001b[0m\n\u001b[0m",
            "\u001b[0;31mValueError\u001b[0m: 3 is not in list"
          ]
        }
      ]
    },
    {
      "cell_type": "code",
      "source": [
        "['a','b']+['c']"
      ],
      "metadata": {
        "id": "-mQkTwLDNJSP",
        "colab": {
          "base_uri": "https://localhost:8080/"
        },
        "outputId": "ccfadca5-948e-411d-e20c-d6167ae56c3f"
      },
      "execution_count": null,
      "outputs": [
        {
          "output_type": "execute_result",
          "data": {
            "text/plain": [
              "['a', 'b', 'c']"
            ]
          },
          "metadata": {},
          "execution_count": 1
        }
      ]
    },
    {
      "cell_type": "code",
      "source": [
        "print(['a','b','c','a'].index(\"a\"))\n",
        "print(['a','b','c','a'].index(\"d\"))"
      ],
      "metadata": {
        "id": "4t90OJ7ONJUZ",
        "colab": {
          "base_uri": "https://localhost:8080/",
          "height": 211
        },
        "outputId": "95fa0281-8fb3-45fb-cfe6-ebf613f1e0a2"
      },
      "execution_count": null,
      "outputs": [
        {
          "output_type": "stream",
          "name": "stdout",
          "text": [
            "0\n"
          ]
        },
        {
          "output_type": "error",
          "ename": "ValueError",
          "evalue": "ignored",
          "traceback": [
            "\u001b[0;31m---------------------------------------------------------------------------\u001b[0m",
            "\u001b[0;31mValueError\u001b[0m                                Traceback (most recent call last)",
            "\u001b[0;32m<ipython-input-4-31dd787010cd>\u001b[0m in \u001b[0;36m<cell line: 2>\u001b[0;34m()\u001b[0m\n\u001b[1;32m      1\u001b[0m \u001b[0mprint\u001b[0m\u001b[0;34m(\u001b[0m\u001b[0;34m[\u001b[0m\u001b[0;34m'a'\u001b[0m\u001b[0;34m,\u001b[0m\u001b[0;34m'b'\u001b[0m\u001b[0;34m,\u001b[0m\u001b[0;34m'c'\u001b[0m\u001b[0;34m,\u001b[0m\u001b[0;34m'a'\u001b[0m\u001b[0;34m]\u001b[0m\u001b[0;34m.\u001b[0m\u001b[0mindex\u001b[0m\u001b[0;34m(\u001b[0m\u001b[0;34m\"a\"\u001b[0m\u001b[0;34m)\u001b[0m\u001b[0;34m)\u001b[0m\u001b[0;34m\u001b[0m\u001b[0;34m\u001b[0m\u001b[0m\n\u001b[0;32m----> 2\u001b[0;31m \u001b[0mprint\u001b[0m\u001b[0;34m(\u001b[0m\u001b[0;34m[\u001b[0m\u001b[0;34m'a'\u001b[0m\u001b[0;34m,\u001b[0m\u001b[0;34m'b'\u001b[0m\u001b[0;34m,\u001b[0m\u001b[0;34m'c'\u001b[0m\u001b[0;34m,\u001b[0m\u001b[0;34m'a'\u001b[0m\u001b[0;34m]\u001b[0m\u001b[0;34m.\u001b[0m\u001b[0mindex\u001b[0m\u001b[0;34m(\u001b[0m\u001b[0;34m\"d\"\u001b[0m\u001b[0;34m)\u001b[0m\u001b[0;34m)\u001b[0m\u001b[0;34m\u001b[0m\u001b[0;34m\u001b[0m\u001b[0m\n\u001b[0m",
            "\u001b[0;31mValueError\u001b[0m: 'd' is not in list"
          ]
        }
      ]
    },
    {
      "cell_type": "code",
      "source": [
        "# 1 bank case study\n",
        "# creating a bank account for users saving balance in text file working like an atm"
      ],
      "metadata": {
        "id": "J5EnGAeLNJY-"
      },
      "execution_count": null,
      "outputs": []
    },
    {
      "cell_type": "code",
      "source": [
        "# 2 more oops practise"
      ],
      "metadata": {
        "id": "Z9hYu8V7NJb2"
      },
      "execution_count": null,
      "outputs": []
    },
    {
      "cell_type": "code",
      "source": [
        "# Create a Shape class with subclasses like Circle, Rectangle, and Triangle.\n",
        "#Implement methods to calculate area and perimeter for each shape.\n",
        "\n",
        "class Shape:\n",
        "  def calculate_area(self):\n",
        "    pass\n",
        "\n",
        "  def calculate_perimeter(self):\n",
        "    pass\n",
        "\n",
        "class Cricle(Shape):\n",
        "  def __init__(self,radius):\n",
        "    self.radius=radius\n",
        "\n",
        "  def calculate_area(self):\n",
        "    return 3.14*self.radius**2\n",
        "\n",
        "  def calculate_perimeter(self):\n",
        "    return 2*3.14*self.radius\n",
        "\n",
        "class Rectangle(Shape):\n",
        "  def __init__(self,length,width):\n",
        "    self.length=length\n",
        "    self.width=width\n",
        "\n",
        "  def calculate_area(self):\n",
        "    return self.length*self.width\n",
        "\n",
        "  def calculate_perimeter(self):\n",
        "    return 2*(self.length+self.width)\n",
        "\n",
        "class Triangle(Shape):\n",
        "  def __init__(self,base,height,side1,side2,side3):\n",
        "    self.base=base\n",
        "    self.height=height\n",
        "    self.side1=side1\n",
        "    self.side2=side2\n",
        "    self.side3=side3\n",
        "\n",
        "  def calculate_area(self):\n",
        "    return .5*self.base*self.height\n",
        "\n",
        "  def calculate_perimeter(self):\n",
        "    return self.side1+self.side2+self.side3"
      ],
      "metadata": {
        "id": "a5V7x4L6dhwy"
      },
      "execution_count": null,
      "outputs": []
    },
    {
      "cell_type": "code",
      "source": [
        "circle=Cricle(5)\n",
        "print(circle.calculate_area())\n",
        "print(circle.calculate_perimeter())"
      ],
      "metadata": {
        "colab": {
          "base_uri": "https://localhost:8080/"
        },
        "id": "C5nR1G3PgfS9",
        "outputId": "fced6a56-ee6d-4698-b615-e3990f3b6dfd"
      },
      "execution_count": null,
      "outputs": [
        {
          "output_type": "stream",
          "name": "stdout",
          "text": [
            "78.5\n"
          ]
        },
        {
          "output_type": "execute_result",
          "data": {
            "text/plain": [
              "31.400000000000002"
            ]
          },
          "metadata": {},
          "execution_count": 14
        }
      ]
    },
    {
      "cell_type": "code",
      "source": [
        "\n",
        "#1) Online Shopping Cart: Develop an Item class and a ShoppingCart class.\n",
        "#The ShoppingCart class should allow adding items, removing items,\n",
        "#calculating the total cost, and applying discounts.\n",
        "\n",
        "\n",
        "class Item:\n",
        "  def __init__(self,name,price):\n",
        "    self.name=name.lower()\n",
        "    self.price=price\n",
        "\n",
        "class ShoppingCart:\n",
        "  def __init__(self):\n",
        "    self.cart_items=[]\n",
        "\n",
        "  def add_items(self,items):\n",
        "    self.cart_items.append(items)\n",
        "\n",
        "  def remove_items(self,item_name):\n",
        "    boolean=False\n",
        "    for cart_item in self.cart_items:\n",
        "      if item_name.lower() == cart_item.name:\n",
        "        self.cart_items.remove(cart_item)\n",
        "        boolean=True\n",
        "        print(\"Item removed from the results\")\n",
        "        break\n",
        "\n",
        "    if not boolean:\n",
        "      print(\"No such Item found\")\n",
        "\n",
        "  def cart_total(self):\n",
        "    sum=0\n",
        "    # sum(i.price for i in self.cart_items)\n",
        "    for cart_item in self.cart_items:\n",
        "      sum=sum+cart_item.price\n",
        "    print(\"Your Total is :- \",sum)\n",
        "    return sum\n",
        "\n",
        "  def discounts(self,discount_percentage):\n",
        "    discount_price=0\n",
        "    if discount_percentage>0 and discount_percentage<100:\n",
        "      total=self.cart_total()\n",
        "      discount_price=total-(total*discount_percentage)/100\n",
        "    else:\n",
        "      discount_price=self.cart_total()\n",
        "    print(\"Total After Discount is\",discount_price)"
      ],
      "metadata": {
        "id": "skSL_cJrhbMa"
      },
      "execution_count": null,
      "outputs": []
    },
    {
      "cell_type": "code",
      "source": [
        "item1=Item(\"Laptop\",1000)\n",
        "item2=Item(\"TV\",200)\n",
        "item3=Item(\"PS5\",10000)\n",
        "my_cart=ShoppingCart()\n",
        "rohit_cart=ShoppingCart()\n",
        "my_cart.add_items(item1)\n",
        "my_cart.add_items(item2)\n",
        "my_cart.add_items(item3)\n",
        "my_cart.cart_total()\n",
        "my_cart.remove_items(\"Laptop\")\n",
        "my_cart.discounts(20)"
      ],
      "metadata": {
        "colab": {
          "base_uri": "https://localhost:8080/"
        },
        "id": "klGSY_NVfSur",
        "outputId": "923ce230-9c09-4a32-95cc-7ab4c72c9cfa"
      },
      "execution_count": null,
      "outputs": [
        {
          "output_type": "stream",
          "name": "stdout",
          "text": [
            "<__main__.Item object at 0x7ad3588d9b70>\n",
            "Your Total is :-  11200\n",
            "Item removed from the results\n",
            "Your Total is :-  10200\n",
            "Total After Discount is 8160.0\n"
          ]
        }
      ]
    },
    {
      "cell_type": "code",
      "source": [
        "class User:\n",
        "    def __init__(self, username):\n",
        "        self.username = username\n",
        "        self.posts = []\n",
        "        self.likes = []\n",
        "        self.comments = []\n",
        "\n",
        "    def create_post(self, text):\n",
        "        post = Post(text, self)\n",
        "        self.posts.append(post)\n",
        "        return post\n",
        "\n",
        "    def like_post(self, post):\n",
        "        self.likes.append(post)\n",
        "\n",
        "    def comment_on_post(self, post, text):\n",
        "        comment = Comment(text, self)\n",
        "        post.add_comment(comment)\n",
        "        self.comments.append(comment)\n",
        "\n",
        "    def view_feed(self):\n",
        "        feed = []\n",
        "        for post in self.posts:\n",
        "            feed.append(post)\n",
        "            for comment in post.comments:\n",
        "                feed.append(comment)\n",
        "        return feed\n",
        "\n",
        "class Post:\n",
        "    def __init__(self, text, author):\n",
        "        self.text = text\n",
        "        self.author = author\n",
        "        self.comments = []\n",
        "\n",
        "    def add_comment(self, comment):\n",
        "        self.comments.append(comment)\n",
        "\n",
        "class Comment:\n",
        "    def __init__(self, text, author):\n",
        "        self.text = text\n",
        "        self.author = author\n",
        "\n",
        "\n",
        "# Creating users\n",
        "user1 = User(\"Alice\")\n",
        "user2 = User(\"Bob\")\n",
        "\n",
        "# Users create posts\n",
        "post1 = user1.create_post(\"Hello, world!\")\n",
        "post2 = user2.create_post(\"Python is awesome!\")\n",
        "\n",
        "# Users like posts\n",
        "user1.like_post(post2)\n",
        "user2.like_post(post1)\n",
        "\n",
        "# Users comment on posts\n",
        "user1.comment_on_post(post2, \"I agree!\")\n",
        "user2.comment_on_post(post1, \"Indeed!\")\n",
        "\n",
        "# Viewing user feeds\n",
        "print(user1.username + \"'s Feed:\")\n",
        "for item in user1.view_feed():\n",
        "    print(item.text)\n",
        "\n",
        "print(user2.username + \"'s Feed:\")\n",
        "for item in user2.view_feed():\n",
        "    print(item.text)\n"
      ],
      "metadata": {
        "id": "fymZu3d3lpTn",
        "colab": {
          "base_uri": "https://localhost:8080/"
        },
        "outputId": "cc21f2a1-278a-4af7-aa11-fcb7dadf3f55"
      },
      "execution_count": null,
      "outputs": [
        {
          "output_type": "stream",
          "name": "stdout",
          "text": [
            "Alice's Feed:\n",
            "Hello, world!\n",
            "Indeed!\n",
            "Bob's Feed:\n",
            "Python is awesome!\n",
            "I agree!\n"
          ]
        }
      ]
    },
    {
      "cell_type": "code",
      "source": [],
      "metadata": {
        "id": "ay43e_vJf0TB"
      },
      "execution_count": null,
      "outputs": []
    },
    {
      "cell_type": "code",
      "source": [],
      "metadata": {
        "id": "8WqjdwZlisaK"
      },
      "execution_count": null,
      "outputs": []
    },
    {
      "cell_type": "code",
      "source": [],
      "metadata": {
        "id": "6zn22O1Zisch"
      },
      "execution_count": null,
      "outputs": []
    },
    {
      "cell_type": "code",
      "source": [],
      "metadata": {
        "id": "P6QkjzThisfp"
      },
      "execution_count": null,
      "outputs": []
    },
    {
      "cell_type": "code",
      "source": [
        "#"
      ],
      "metadata": {
        "id": "rBk3Ek0LmUdi"
      },
      "execution_count": null,
      "outputs": []
    }
  ]
}