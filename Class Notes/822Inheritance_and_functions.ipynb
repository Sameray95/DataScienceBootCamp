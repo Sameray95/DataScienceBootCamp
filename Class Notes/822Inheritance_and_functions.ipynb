{
  "nbformat": 4,
  "nbformat_minor": 0,
  "metadata": {
    "colab": {
      "provenance": []
    },
    "kernelspec": {
      "name": "python3",
      "display_name": "Python 3"
    },
    "language_info": {
      "name": "python"
    }
  },
  "cells": [
    {
      "cell_type": "code",
      "execution_count": null,
      "metadata": {
        "id": "qpfcVnabtYFY"
      },
      "outputs": [],
      "source": [
        "class person:\n",
        "  def __init__ (self, fname , lname):\n",
        "    self.firstname=fname\n",
        "    self.lastname=lname\n",
        "\n",
        "  def printname(self):\n",
        "    print(self.firstname, ' ', self.lastname)\n",
        "\n"
      ]
    },
    {
      "cell_type": "code",
      "source": [
        "obj1= person('sameer', 'neupane')\n",
        "obj1.printname()"
      ],
      "metadata": {
        "colab": {
          "base_uri": "https://localhost:8080/"
        },
        "id": "E4hM5EKXuoGY",
        "outputId": "d4af6007-1e39-4670-8108-7394fc66f4b7"
      },
      "execution_count": null,
      "outputs": [
        {
          "output_type": "stream",
          "name": "stdout",
          "text": [
            "sameer   neupane\n"
          ]
        }
      ]
    },
    {
      "cell_type": "code",
      "source": [
        "class childclass(person):\n",
        "  pass"
      ],
      "metadata": {
        "id": "OKYbllcHuqH_"
      },
      "execution_count": null,
      "outputs": []
    },
    {
      "cell_type": "code",
      "source": [
        "obj2=childclass('sam', 'Eer')\n",
        "obj2.printname()"
      ],
      "metadata": {
        "colab": {
          "base_uri": "https://localhost:8080/"
        },
        "id": "nqMyskDHvbXg",
        "outputId": "f81765a1-4025-4cb1-dffe-b2360875a25f"
      },
      "execution_count": null,
      "outputs": [
        {
          "output_type": "stream",
          "name": "stdout",
          "text": [
            "sam   Eer\n"
          ]
        }
      ]
    },
    {
      "cell_type": "code",
      "source": [
        "class childclass(person):\n",
        "  def __init__ (self, mname ):\n",
        "\n",
        "  def printname(self):\n",
        "    print(\"class childclass person:\" , self.firstname, self.middlename,  self.lastname)\n",
        "\n"
      ],
      "metadata": {
        "id": "SAlEsxciwuOp"
      },
      "execution_count": null,
      "outputs": []
    },
    {
      "cell_type": "code",
      "source": [
        "obj1= childclass('Sameer',)\n"
      ],
      "metadata": {
        "id": "JeOLLsjmyPKf"
      },
      "execution_count": null,
      "outputs": []
    },
    {
      "cell_type": "code",
      "source": [
        "class EmployeeRecord:\n",
        "  def __init__ (self, name, address, ):\n",
        "    self.fullname=name\n",
        "    self.location=address\n",
        "\n",
        "  def printEmpDetails(self):\n",
        "    print(\"Employee Details:\",self.fullname,self.location )\n",
        "\n",
        "\n"
      ],
      "metadata": {
        "id": "NpI-4BST0JoG"
      },
      "execution_count": null,
      "outputs": []
    },
    {
      "cell_type": "code",
      "source": [
        "obj1= EmployeeRecord('Sameer Neupane', ',' '777 Huron Street')\n",
        "obj1.printEmpDetails()"
      ],
      "metadata": {
        "colab": {
          "base_uri": "https://localhost:8080/"
        },
        "id": "05Ugl10H2vwW",
        "outputId": "765ca2b5-2f3e-45a1-b9f7-891723427c44"
      },
      "execution_count": null,
      "outputs": [
        {
          "output_type": "stream",
          "name": "stdout",
          "text": [
            "Employee Details: Sameer Neupane ,777 Huron Street\n"
          ]
        }
      ]
    },
    {
      "cell_type": "code",
      "source": [
        "class ITDept(EmployeeRecord):\n",
        "  def __init__(self, name, address, position):\n",
        "    super().__init__(name, address)\n",
        "\n",
        "\n",
        "\n"
      ],
      "metadata": {
        "id": "b3m4iTjg4cln"
      },
      "execution_count": null,
      "outputs": []
    },
    {
      "cell_type": "code",
      "source": [
        "obj1=ITDept('sam', 'eer','aa')\n",
        "obj1.printEmpDetails()"
      ],
      "metadata": {
        "colab": {
          "base_uri": "https://localhost:8080/"
        },
        "id": "9hGHC2Fq5jxH",
        "outputId": "4589b204-8165-4145-ed60-675d9b9e2b1c"
      },
      "execution_count": null,
      "outputs": [
        {
          "output_type": "stream",
          "name": "stdout",
          "text": [
            "Employee Details: sam eer\n"
          ]
        }
      ]
    },
    {
      "cell_type": "code",
      "source": [
        "class car:\n",
        "  def __init__(self, name, model):\n",
        "    self.name = name\n",
        "    self.model = model\n",
        "  def print_details(self):\n",
        "    print('class car: ', self.name , self.model)"
      ],
      "metadata": {
        "id": "uDr61CKYAZkm"
      },
      "execution_count": null,
      "outputs": []
    },
    {
      "cell_type": "code",
      "source": [
        "class audi(car):\n",
        "  def __init__(self,name,model):\n",
        "    super().__init__(name, model)"
      ],
      "metadata": {
        "id": "EBbLpx2QAxWA"
      },
      "execution_count": null,
      "outputs": []
    },
    {
      "cell_type": "code",
      "source": [
        "obj1 = audi('audi 777', 777)"
      ],
      "metadata": {
        "id": "VkNpWZpABDZl"
      },
      "execution_count": null,
      "outputs": []
    },
    {
      "cell_type": "code",
      "source": [
        "obj1.print_details()"
      ],
      "metadata": {
        "colab": {
          "base_uri": "https://localhost:8080/"
        },
        "id": "LJzUVj6eBMcR",
        "outputId": "a2d9f2de-3b9e-465c-efcb-5920b766bf7e"
      },
      "execution_count": null,
      "outputs": [
        {
          "output_type": "stream",
          "name": "stdout",
          "text": [
            "class car:  audi 777 777\n"
          ]
        }
      ]
    },
    {
      "cell_type": "code",
      "source": [
        "class audi(car):\n",
        "  def __init__(self,name,model,make):\n",
        "    super().__init__(name, model)\n",
        "    self.make = 1978\n",
        "\n",
        "  def print_details(self):\n",
        "    print(self.name,self.model, self.make)"
      ],
      "metadata": {
        "id": "55e5PhfXBxpT"
      },
      "execution_count": null,
      "outputs": []
    },
    {
      "cell_type": "code",
      "source": [
        "obj1 = audi('audi', 777, 1978)"
      ],
      "metadata": {
        "id": "wn4zNLmZB8gb"
      },
      "execution_count": null,
      "outputs": []
    },
    {
      "cell_type": "code",
      "source": [
        "obj1.print_details()"
      ],
      "metadata": {
        "colab": {
          "base_uri": "https://localhost:8080/"
        },
        "id": "UZ2V6dSWCKGT",
        "outputId": "821ac7cf-5fac-466c-dd1e-f4cd9e95121f"
      },
      "execution_count": null,
      "outputs": [
        {
          "output_type": "stream",
          "name": "stdout",
          "text": [
            "audi 777 1978\n"
          ]
        }
      ]
    },
    {
      "cell_type": "code",
      "source": [
        "#1) Write a program to print twin primes less than 1000. If two consecutive odd numbers are both prime then they are known as twin primes\n",
        "# Logical Breaking\n",
        "#first part iterate till 1000\n",
        "#second part check for oddd numbers\n",
        "#third both numbers should be prime\n",
        "\n",
        "input(\"Enter the number\")\n",
        "for i in range (2,1000):\n",
        "\n"
      ],
      "metadata": {
        "id": "_j1R_gdYLcvV"
      },
      "execution_count": null,
      "outputs": []
    }
  ]
}