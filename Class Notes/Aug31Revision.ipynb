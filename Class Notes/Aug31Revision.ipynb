{
  "nbformat": 4,
  "nbformat_minor": 0,
  "metadata": {
    "colab": {
      "provenance": []
    },
    "kernelspec": {
      "name": "python3",
      "display_name": "Python 3"
    },
    "language_info": {
      "name": "python"
    }
  },
  "cells": [
    {
      "cell_type": "code",
      "source": [
        "# Basic data types\n",
        "# list inbuilt functions\n",
        "# string inbuilt functions\n",
        "# slicing/indexing\n",
        "# for loop\n",
        "# while loop\n",
        "# functions ==================== Doubt\n",
        "# set\n",
        "# dictonary\n",
        "# if-else condtions\n",
        "# exception handling ================ Doubt\n",
        "# OOPS concepts"
      ],
      "metadata": {
        "id": "MDWFqdwomvUa"
      },
      "execution_count": null,
      "outputs": []
    },
    {
      "cell_type": "code",
      "source": [
        "# PROGRAM TO SUM USER INPUT UNTIL USER enters ZERO\n",
        "\n",
        "n=int(input(\"Enter the number you want to sum \"))\n",
        "sum=0\n",
        "while n!=0:\n",
        "  sum=sum+n\n",
        "  n=int(input(\"Enter the number you want to sum \"))\n",
        "\n",
        "print(\"total\",sum)"
      ],
      "metadata": {
        "id": "yb5RSaOGmqq5"
      },
      "execution_count": null,
      "outputs": []
    },
    {
      "cell_type": "code",
      "execution_count": null,
      "metadata": {
        "id": "Uc9FkFOTmn6Z"
      },
      "outputs": [],
      "source": [
        "n=int(input(\"Enter the number you want to sum \"))\n",
        "sum=0\n",
        "while True:\n",
        "  if n!=0:\n",
        "    sum=sum+n\n",
        "    n=int(input(\"Enter the number you want to sum \"))\n",
        "  else:\n",
        "    break\n",
        "print(\"total\",sum)"
      ]
    },
    {
      "cell_type": "code",
      "source": [
        "# Functions\n",
        "\n",
        "def calculate_sum(list_marks):\n",
        "  sum_list=sum(list_marks)\n",
        "  average=sum(list_marks)/len(list_marks)\n",
        "  return sum_list,average"
      ],
      "metadata": {
        "id": "B__WH9Q1mxNp"
      },
      "execution_count": null,
      "outputs": []
    },
    {
      "cell_type": "code",
      "source": [
        "performa=calculate_sum([1,5,16,19,20])\n",
        "print(performa[0])\n",
        "print(type(performa))"
      ],
      "metadata": {
        "colab": {
          "base_uri": "https://localhost:8080/"
        },
        "id": "FYYRPosbnnu5",
        "outputId": "fb0ba682-849b-47bd-940c-0db618982d4a"
      },
      "execution_count": null,
      "outputs": [
        {
          "output_type": "stream",
          "name": "stdout",
          "text": [
            "61\n",
            "<class 'tuple'>\n"
          ]
        }
      ]
    },
    {
      "cell_type": "code",
      "source": [
        "b=(1,2)\n",
        "c=1,\n",
        "d=1,2,3,4,5,6"
      ],
      "metadata": {
        "id": "PyHB_0vBnxwx"
      },
      "execution_count": null,
      "outputs": []
    },
    {
      "cell_type": "code",
      "source": [
        "print(c)\n",
        "print(d)"
      ],
      "metadata": {
        "colab": {
          "base_uri": "https://localhost:8080/"
        },
        "id": "izCH9lZ7oHg6",
        "outputId": "08d77485-4922-4cfd-ff3d-cf1fb50f37fb"
      },
      "execution_count": null,
      "outputs": [
        {
          "output_type": "stream",
          "name": "stdout",
          "text": [
            "(1,)\n",
            "(1, 2, 3, 4, 5, 6)\n"
          ]
        }
      ]
    },
    {
      "cell_type": "code",
      "source": [
        "print(type(b))\n",
        "print(type(c))\n",
        "print(type(d))"
      ],
      "metadata": {
        "colab": {
          "base_uri": "https://localhost:8080/"
        },
        "id": "IJWSLylrn6yj",
        "outputId": "fc116c52-83cd-4fa9-a545-4a77fd4e8926"
      },
      "execution_count": null,
      "outputs": [
        {
          "output_type": "stream",
          "name": "stdout",
          "text": [
            "<class 'tuple'>\n",
            "<class 'tuple'>\n",
            "<class 'tuple'>\n"
          ]
        }
      ]
    },
    {
      "cell_type": "code",
      "source": [
        "def calculate_sum(list_marks):\n",
        "  sum_list=sum(list_marks)\n",
        "  average=sum(list_marks)/len(list_marks)\n",
        "  print(sum_list)\n",
        "  print(average)"
      ],
      "metadata": {
        "id": "Yuazoi3_oW4J"
      },
      "execution_count": null,
      "outputs": []
    },
    {
      "cell_type": "code",
      "source": [],
      "metadata": {
        "id": "ovxk8te8pMfT"
      },
      "execution_count": null,
      "outputs": []
    },
    {
      "cell_type": "code",
      "source": [
        "performa=calculate_sum([1,5,16,19,20])"
      ],
      "metadata": {
        "colab": {
          "base_uri": "https://localhost:8080/"
        },
        "id": "3b_vG-Jboa0Z",
        "outputId": "45daf3f7-1ecb-430b-e4c8-3bc592ba80b6"
      },
      "execution_count": null,
      "outputs": [
        {
          "output_type": "stream",
          "name": "stdout",
          "text": [
            "61\n",
            "12.2\n"
          ]
        }
      ]
    },
    {
      "cell_type": "code",
      "source": [
        "print(performa)"
      ],
      "metadata": {
        "colab": {
          "base_uri": "https://localhost:8080/"
        },
        "id": "dk3pr2PFodZR",
        "outputId": "6a9c4aef-2345-4d85-b3d4-f7314648855c"
      },
      "execution_count": null,
      "outputs": [
        {
          "output_type": "stream",
          "name": "stdout",
          "text": [
            "None\n"
          ]
        }
      ]
    },
    {
      "cell_type": "code",
      "source": [
        "def calculate_sum(list_marks,class_average=80):\n",
        "  sum_list=sum(list_marks)\n",
        "  average=sum(list_marks)/len(list_marks)\n",
        "  return average\n",
        "  if average>class_average:\n",
        "    print(\"Pass\")\n",
        "  else:\n",
        "    print(\"Fail\")"
      ],
      "metadata": {
        "id": "j5y-V7TUpM9R"
      },
      "execution_count": null,
      "outputs": []
    },
    {
      "cell_type": "code",
      "source": [
        "calculate_sum([1,5,16,19,20])"
      ],
      "metadata": {
        "colab": {
          "base_uri": "https://localhost:8080/"
        },
        "id": "l7Wux7ilpar6",
        "outputId": "e3f319b5-0e15-4063-f4ff-9836f9a96259"
      },
      "execution_count": null,
      "outputs": [
        {
          "output_type": "stream",
          "name": "stdout",
          "text": [
            "61\n",
            "12.2\n",
            "Fail\n"
          ]
        }
      ]
    },
    {
      "cell_type": "code",
      "source": [
        "calculate_sum([100,5,16,19,20],class_average=30)"
      ],
      "metadata": {
        "colab": {
          "base_uri": "https://localhost:8080/"
        },
        "id": "nZr4JXV-pdd6",
        "outputId": "26a45c96-6b75-4b77-b081-188ade076a61"
      },
      "execution_count": null,
      "outputs": [
        {
          "output_type": "stream",
          "name": "stdout",
          "text": [
            "160\n",
            "32.0\n",
            "Pass\n"
          ]
        }
      ]
    },
    {
      "cell_type": "code",
      "source": [
        "sum_list=[1,2,3,4,5,6,7,8,234,43,43]\n",
        "\n",
        "def calculate_sum(list_marks,class_average=80):\n",
        "  sum_list=sum(list_marks)\n",
        "  average=sum(list_marks)/len(list_marks)\n",
        "  print(sum_list)\n",
        "  if average>class_average:\n",
        "    print(\"Pass\")\n",
        "  else:\n",
        "    print(\"Fail\")\n",
        "  return sum_list\n",
        "\n",
        "\n",
        "print(sum_list)\n",
        "sum_list=calculate_sum(sum_list)\n",
        "print(sum_list)"
      ],
      "metadata": {
        "colab": {
          "base_uri": "https://localhost:8080/"
        },
        "id": "L5bmktW9qRhy",
        "outputId": "a89d2bd3-f5e2-4683-908b-9af8ddb0d990"
      },
      "execution_count": null,
      "outputs": [
        {
          "output_type": "stream",
          "name": "stdout",
          "text": [
            "[1, 2, 3, 4, 5, 6, 7, 8, 234, 43, 43]\n",
            "356\n",
            "Fail\n",
            "356\n"
          ]
        }
      ]
    },
    {
      "cell_type": "code",
      "source": [],
      "metadata": {
        "id": "mP1uM3VJruEi"
      },
      "execution_count": null,
      "outputs": []
    },
    {
      "cell_type": "code",
      "source": [
        "# Exception handling\n",
        "n=int(input(\"Enter the number you want to divide from\"))\n",
        "try:\n",
        "  k=5/n\n",
        "  print(k)\n",
        "except Exception as e:\n",
        "  print(\"Cant Divide by Zero\")\n",
        "finally:\n",
        "  print(\"THIS BLOCK IS ALWAYS EXCECUTED\")"
      ],
      "metadata": {
        "id": "JWDGpqR1ruL6"
      },
      "execution_count": null,
      "outputs": []
    },
    {
      "cell_type": "code",
      "source": [
        "def divide_by_user_input(n):\n",
        "  error=False\n",
        "  try:\n",
        "    k=5/n\n",
        "    print(k)\n",
        "  except ZeroDivisionError:\n",
        "    print(\"Cant Divide by Zero\")\n",
        "    error=True\n",
        "  finally:\n",
        "    if error:\n",
        "      n=int(input(\"Enter the number you want to divide from should be greater than 0\"))\n",
        "      divide_by_user_input(n)"
      ],
      "metadata": {
        "id": "dbiwV6XZuH8D"
      },
      "execution_count": null,
      "outputs": []
    },
    {
      "cell_type": "code",
      "source": [
        "n=int(input(\"Enter the number you want to divide from\"))\n",
        "divide_by_user_input(n)"
      ],
      "metadata": {
        "colab": {
          "base_uri": "https://localhost:8080/"
        },
        "id": "RP-fbaQVubs1",
        "outputId": "5586cbe6-e4c3-4bad-87c0-ec85dbe2f752"
      },
      "execution_count": null,
      "outputs": [
        {
          "output_type": "stream",
          "name": "stdout",
          "text": [
            "Enter the number you want to divide from 0\n",
            "Cant Divide by Zero\n",
            "Enter the number you want to divide from should be greater than 00\n",
            "Cant Divide by Zero\n",
            "Enter the number you want to divide from should be greater than 00\n",
            "Cant Divide by Zero\n",
            "Enter the number you want to divide from should be greater than 02\n",
            "2.5\n"
          ]
        }
      ]
    }
  ]
}