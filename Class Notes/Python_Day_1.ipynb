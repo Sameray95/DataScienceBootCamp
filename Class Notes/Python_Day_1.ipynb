{
  "nbformat": 4,
  "nbformat_minor": 0,
  "metadata": {
    "colab": {
      "provenance": []
    },
    "kernelspec": {
      "name": "python3",
      "display_name": "Python 3"
    },
    "language_info": {
      "name": "python"
    }
  },
  "cells": [
    {
      "cell_type": "code",
      "execution_count": null,
      "metadata": {
        "id": "TvF4j0EyAaGE"
      },
      "outputs": [],
      "source": [
        "#Valid and Invalid Variables\n",
        "# Anything that starts with alphabets (a-Z) and underscore sign _ is valid\n",
        "name = 'Sameer'\n",
        "12Gender= 'M' -- Invalid variables\n",
        "\n",
        "\n"
      ]
    },
    {
      "cell_type": "code",
      "source": [
        "name = 'Sameer'\n",
        "\n",
        "gender='male'\n",
        "\n",
        "print(name, gender)"
      ],
      "metadata": {
        "id": "EbQVAilfA-ws",
        "colab": {
          "base_uri": "https://localhost:8080/"
        },
        "outputId": "840cbc1f-9f3b-46e8-c3d7-36d60dd4930c"
      },
      "execution_count": null,
      "outputs": [
        {
          "output_type": "stream",
          "name": "stdout",
          "text": [
            "Sameer male\n"
          ]
        }
      ]
    }
  ]
}