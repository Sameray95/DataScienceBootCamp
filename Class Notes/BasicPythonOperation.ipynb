{
  "nbformat": 4,
  "nbformat_minor": 0,
  "metadata": {
    "colab": {
      "provenance": []
    },
    "kernelspec": {
      "name": "python3",
      "display_name": "Python 3"
    },
    "language_info": {
      "name": "python"
    }
  },
  "cells": [
    {
      "cell_type": "code",
      "execution_count": null,
      "metadata": {
        "id": "PM75l5liEVf0"
      },
      "outputs": [],
      "source": [
        "#Friday August 11, 2023\n",
        "#Basic Python Operators"
      ]
    },
    {
      "cell_type": "code",
      "source": [
        "#arithmetic Operators\n",
        "a=10\n",
        "b=20\n",
        "print(a+b)\n",
        "print(a-b)\n",
        "print(a*b)\n",
        "print(a/b)\n",
        "print(a%b)   # modolous -- gives remainder\n",
        "print(a//b)  # floor division -- gives quotient\n",
        "print(a**b)  #exponential\n",
        "\n",
        "\n"
      ],
      "metadata": {
        "colab": {
          "base_uri": "https://localhost:8080/"
        },
        "id": "-2f8y-5vErAK",
        "outputId": "9ea89792-8391-426a-8aef-56cd9a67e1e3"
      },
      "execution_count": null,
      "outputs": [
        {
          "output_type": "stream",
          "name": "stdout",
          "text": [
            "30\n",
            "-10\n",
            "200\n",
            "0.5\n",
            "10\n",
            "0\n",
            "100000000000000000000\n"
          ]
        }
      ]
    },
    {
      "cell_type": "code",
      "source": [
        "#comparision Operator\n",
        "a=100\n",
        "b=20\n",
        "\n",
        "print(a==b)\n",
        "print(a!=b)\n",
        "print(a>b)\n",
        "print(a<b)\n",
        "print(a<=b)\n",
        "print(a>=b)\n",
        "\n",
        "\n",
        "\n",
        "\n"
      ],
      "metadata": {
        "colab": {
          "base_uri": "https://localhost:8080/"
        },
        "id": "TRX324BmF4NB",
        "outputId": "0e30ea17-17ec-4373-d13c-9580aefa43b3"
      },
      "execution_count": null,
      "outputs": [
        {
          "output_type": "stream",
          "name": "stdout",
          "text": [
            "False\n",
            "True\n",
            "True\n",
            "False\n",
            "False\n",
            "True\n"
          ]
        }
      ]
    },
    {
      "cell_type": "code",
      "source": [
        "#Assignment Operators\n",
        "\n",
        "a=100\n",
        "b=20\n",
        "\n",
        "a+=b      #a=a+b\n",
        "print(a,b)\n",
        "\n",
        "a=100\n",
        "b=20\n",
        "\n",
        "a-=b\n",
        "print(a,b)\n",
        "\n",
        "a=100\n",
        "b=20\n",
        "\n",
        "a/=b\n",
        "print(a,b)\n",
        "\n",
        "a=100\n",
        "b=20\n",
        "a*=b\n",
        "print(a,b)\n",
        "\n",
        "a=100\n",
        "b=20\n",
        "a%=b\n",
        "print(a,b)\n",
        "\n",
        "a=100\n",
        "b=20\n",
        "a//=b\n",
        "print(a,b)\n",
        "\n",
        "a=100\n",
        "b=2\n",
        "a**=b\n",
        "print(a,b)\n"
      ],
      "metadata": {
        "colab": {
          "base_uri": "https://localhost:8080/"
        },
        "id": "rua7SlntHLW5",
        "outputId": "46c4b810-000e-4cdc-a861-2626ac1e32ef"
      },
      "execution_count": null,
      "outputs": [
        {
          "output_type": "stream",
          "name": "stdout",
          "text": [
            "120 20\n",
            "80 20\n",
            "5.0 20\n",
            "2000 20\n",
            "0 20\n",
            "5 20\n",
            "10000 2\n"
          ]
        }
      ]
    },
    {
      "cell_type": "code",
      "source": [
        "#logical operators\n",
        "#and operator\n",
        "\n",
        "# AND operator-- both condition should be true\n",
        "a=100\n",
        "b=20\n",
        "\n",
        "print(a > 80 and b < 80)\n",
        "print(a == 80 and b < 80)\n",
        "print(a < 80 and b < 80)\n",
        "print(a > 80 and b > 80)\n",
        "\n",
        "\n",
        "# OR operator\n",
        "#any condition is true returns true\n",
        "print(a > 80 or b < 80)\n",
        "print(a == 80 or b < 80)\n",
        "print(a < 80 or b < 80)\n",
        "print(a < 80 or b > 80)\n",
        "\n"
      ],
      "metadata": {
        "colab": {
          "base_uri": "https://localhost:8080/"
        },
        "id": "HyePWuoILWI5",
        "outputId": "efe3b0d8-676d-4157-c8dc-ef4086b4c9f4"
      },
      "execution_count": null,
      "outputs": [
        {
          "output_type": "stream",
          "name": "stdout",
          "text": [
            "True\n",
            "False\n",
            "False\n",
            "False\n",
            "True\n",
            "True\n",
            "True\n",
            "False\n"
          ]
        }
      ]
    },
    {
      "cell_type": "code",
      "source": [
        "# Python Membership Operators\n",
        "\n",
        "a = 100\n",
        "b = [100,200,300,400,500]\n",
        "\n",
        "a in b\n",
        "\n",
        "# Python Membership Operators\n",
        "\n",
        "a = 100\n",
        "b = [100,200,300,400,500]\n",
        "\n",
        "a not in b\n",
        "\n",
        "# Python Membership Operators\n",
        "\n",
        "a = 600\n",
        "b = [100,200,300,400,500]\n",
        "\n",
        "a in b\n",
        "\n",
        "a not in b\n",
        "\n",
        "\n",
        "\n"
      ],
      "metadata": {
        "colab": {
          "base_uri": "https://localhost:8080/"
        },
        "id": "y9DMFxTgM0kJ",
        "outputId": "1b479e08-3e6d-47bd-836e-68ba50ffdebd"
      },
      "execution_count": null,
      "outputs": [
        {
          "output_type": "execute_result",
          "data": {
            "text/plain": [
              "True"
            ]
          },
          "metadata": {},
          "execution_count": 20
        }
      ]
    },
    {
      "cell_type": "code",
      "source": [
        "#python identity operators\n",
        "a=100\n",
        "b=20\n",
        "\n",
        "a is b\n",
        "a is not b\n",
        "\n",
        "a=1000\n",
        "b=200\n",
        "a is b\n",
        "a is not b"
      ],
      "metadata": {
        "colab": {
          "base_uri": "https://localhost:8080/"
        },
        "id": "vKXHTdV1NpUX",
        "outputId": "29b44516-5d9c-4fc1-f778-f945b0fa8e46"
      },
      "execution_count": null,
      "outputs": [
        {
          "output_type": "execute_result",
          "data": {
            "text/plain": [
              "True"
            ]
          },
          "metadata": {},
          "execution_count": 21
        }
      ]
    },
    {
      "cell_type": "code",
      "source": [
        "#if statement\n",
        "\n",
        "a=10\n",
        "b=20\n",
        "\n",
        "if a>b:\n",
        "  print('a is greater  than b')\n",
        "\n",
        "  a=10\n",
        "b=20\n",
        "\n",
        "if a<b:\n",
        "  print('a is less  than b')"
      ],
      "metadata": {
        "colab": {
          "base_uri": "https://localhost:8080/"
        },
        "id": "O9cX8iLAaFUU",
        "outputId": "9cbf18a0-8266-4e4f-d129-fab540e1d4cd"
      },
      "execution_count": null,
      "outputs": [
        {
          "output_type": "stream",
          "name": "stdout",
          "text": [
            "a is less greater than b\n"
          ]
        }
      ]
    },
    {
      "cell_type": "code",
      "source": [
        "\n",
        "a=100\n",
        "b=20\n",
        "\n",
        "if (a>b) and (a!=b):\n",
        "  print('a is greater  than b')"
      ],
      "metadata": {
        "colab": {
          "base_uri": "https://localhost:8080/"
        },
        "id": "YjyFJ8HNakHN",
        "outputId": "65bdd267-243d-4568-92ca-e9f7ee7e455e"
      },
      "execution_count": null,
      "outputs": [
        {
          "output_type": "stream",
          "name": "stdout",
          "text": [
            "a is greater  than b\n"
          ]
        }
      ]
    },
    {
      "cell_type": "code",
      "source": [
        "a=100\n",
        "b=20\n",
        "\n",
        "if (a>b) and (a==b):\n",
        "  print('a is greater  than b')"
      ],
      "metadata": {
        "id": "FSot3ieUatQz"
      },
      "execution_count": null,
      "outputs": []
    },
    {
      "cell_type": "code",
      "source": [
        "a=100\n",
        "b=20\n",
        "\n",
        "if (a<b) and (a==b):\n",
        "  print('a is less  than b')"
      ],
      "metadata": {
        "id": "6TLWeT3Ba18D"
      },
      "execution_count": null,
      "outputs": []
    },
    {
      "cell_type": "code",
      "source": [
        "a=100\n",
        "b=20\n",
        "\n",
        "if (a>b) or (a!=b):\n",
        "  print('a is greater  than b')\n",
        "\n",
        "\n"
      ],
      "metadata": {
        "colab": {
          "base_uri": "https://localhost:8080/"
        },
        "id": "AKfxQclpbE_L",
        "outputId": "1c9c0061-83f5-4c13-b2da-0b6708e1da8d"
      },
      "execution_count": null,
      "outputs": [
        {
          "output_type": "stream",
          "name": "stdout",
          "text": [
            "a is greater  than b\n"
          ]
        }
      ]
    },
    {
      "cell_type": "code",
      "source": [
        "a=100\n",
        "b=20\n",
        "\n",
        "if (a<b) or (a==b):\n",
        "  print('a is greater  than b')\n",
        "else:\n",
        "  print('We are in else section')"
      ],
      "metadata": {
        "colab": {
          "base_uri": "https://localhost:8080/"
        },
        "id": "YdaJEoWMbh0L",
        "outputId": "8892a221-2cf5-46ae-b121-74a25f8cd3ea"
      },
      "execution_count": null,
      "outputs": [
        {
          "output_type": "stream",
          "name": "stdout",
          "text": [
            "We are in else section\n"
          ]
        }
      ]
    },
    {
      "cell_type": "code",
      "source": [
        "\n",
        "percentage= 70\n",
        "if percentage >=75:\n",
        "  print('Distinction')\n",
        "elif percentage>=60:\n",
        "  print('First class')\n",
        "elif percentage >=40:\n",
        "  print('Second class')\n",
        "elif percentage >=35:\n",
        "  print('Third Class')\n",
        "else:\n",
        "  print('Better Luck Next Time')\n"
      ],
      "metadata": {
        "colab": {
          "base_uri": "https://localhost:8080/"
        },
        "id": "_nPz2aJBcF1i",
        "outputId": "125550c3-7589-4f90-df77-566aaf9b2df1"
      },
      "execution_count": null,
      "outputs": [
        {
          "output_type": "stream",
          "name": "stdout",
          "text": [
            "First class\n"
          ]
        }
      ]
    },
    {
      "cell_type": "code",
      "source": [
        "#Nested if condition\n",
        "a=100\n",
        "if a>25:\n",
        "  print('a is greater than 25')\n",
        "  if a>50:\n",
        "    print(\"a is greater than 50\")\n",
        "    if a>75:\n",
        "      print(\"a is greater than 75\")\n",
        "      if a>100:\n",
        "        print(\"a is greater than 100\")\n",
        "        if a>100:\n",
        "         print(\"a is greater than 100\")\n"
      ],
      "metadata": {
        "colab": {
          "base_uri": "https://localhost:8080/"
        },
        "id": "hPJMbxAwdMUr",
        "outputId": "00d20582-571c-4bdc-91da-dc28cefec85b"
      },
      "execution_count": null,
      "outputs": [
        {
          "output_type": "stream",
          "name": "stdout",
          "text": [
            "a is greater than 25\n",
            "a is greater than 50\n",
            "a is greater than 75\n"
          ]
        }
      ]
    }
  ]
}