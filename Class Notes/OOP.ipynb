{
  "nbformat": 4,
  "nbformat_minor": 0,
  "metadata": {
    "colab": {
      "provenance": []
    },
    "kernelspec": {
      "name": "python3",
      "display_name": "Python 3"
    },
    "language_info": {
      "name": "python"
    }
  },
  "cells": [
    {
      "cell_type": "code",
      "source": [
        "class Audi999:\n",
        "  pass\n",
        "obj1 = Audi999()"
      ],
      "metadata": {
        "id": "oXS_Sk5xmt1h"
      },
      "execution_count": null,
      "outputs": []
    },
    {
      "cell_type": "code",
      "source": [
        "print(type(obj1))"
      ],
      "metadata": {
        "colab": {
          "base_uri": "https://localhost:8080/"
        },
        "id": "9kbz9QLhm48W",
        "outputId": "2219200d-47ea-4431-c8da-81a85eb42173"
      },
      "execution_count": null,
      "outputs": [
        {
          "output_type": "stream",
          "name": "stdout",
          "text": [
            "<class '__main__.Audi999'>\n"
          ]
        }
      ]
    },
    {
      "cell_type": "code",
      "source": [
        "class university_student:\n",
        "  def student_info():\n",
        "    pass"
      ],
      "metadata": {
        "id": "JVesqDIwnPVW"
      },
      "execution_count": null,
      "outputs": []
    },
    {
      "cell_type": "code",
      "source": [
        "obj1 = university_student()"
      ],
      "metadata": {
        "id": "KyzZmUytnjD_"
      },
      "execution_count": null,
      "outputs": []
    },
    {
      "cell_type": "code",
      "source": [
        "class university_student:\n",
        "  def __init__(self, fname,mname,lname,gender,email,contact):\n",
        "     self.fname= fname\n",
        "     self.mname= mname\n",
        "     self.lname= lname\n",
        "     self.gender= gender\n",
        "     self.email= email\n",
        "     self.contact=contact\n",
        "\n",
        "     def stud_details(self):\n",
        "      print(self.fname, self.mname, self.lname, self.gender,self.email,self.contact)\n"
      ],
      "metadata": {
        "id": "cpb_5tzYnqJ3"
      },
      "execution_count": null,
      "outputs": []
    },
    {
      "cell_type": "code",
      "source": [
        "obj1=university_student(\"sam\",\"Eer\",\"Npn\",'m',\"sam.eer@gmail.com\", 9849194619)\n"
      ],
      "metadata": {
        "id": "ZmB6OCdrqbb-"
      },
      "execution_count": null,
      "outputs": []
    },
    {
      "cell_type": "code",
      "source": [
        "obj1.stud_details()"
      ],
      "metadata": {
        "colab": {
          "base_uri": "https://localhost:8080/"
        },
        "id": "i0F035Nex3zW",
        "outputId": "a6155a56-4342-4cc9-da40-38093f5f862b"
      },
      "execution_count": null,
      "outputs": [
        {
          "output_type": "stream",
          "name": "stdout",
          "text": [
            "Kin Zen Anto m kin.anto@firstmail.com 9876\n"
          ]
        }
      ]
    },
    {
      "cell_type": "code",
      "source": [],
      "metadata": {
        "id": "iCEqSBoZtqDH"
      },
      "execution_count": null,
      "outputs": []
    },
    {
      "cell_type": "code",
      "source": [
        "print(type(obj1))"
      ],
      "metadata": {
        "colab": {
          "base_uri": "https://localhost:8080/"
        },
        "id": "tdWOXb5-qz47",
        "outputId": "e44ab24d-5a35-4e31-a8fa-c25904ae5a13"
      },
      "execution_count": null,
      "outputs": [
        {
          "output_type": "stream",
          "name": "stdout",
          "text": [
            "<class '__main__.university_student'>\n"
          ]
        }
      ]
    },
    {
      "cell_type": "code",
      "source": [
        "class university_student:\n",
        "  def __init__(self, fname, mname, lname, gender, email, contact):\n",
        "    self.fname = fname\n",
        "    self.mname = mname\n",
        "    self.lname = lname\n",
        "    self.gender = gender\n",
        "    self.email = email\n",
        "    self.contact = contact\n",
        "\n",
        "  def stud_details(self):\n",
        "    print(self.fname, self.mname, self.lname, self.gender, self.email, self.contact)"
      ],
      "metadata": {
        "id": "ersN9Uv4trA1"
      },
      "execution_count": null,
      "outputs": []
    },
    {
      "cell_type": "code",
      "source": [
        "obj1  = university_student('Kin', \"Zen\", \"Anto\", 'm', 'kin.anto@firstmail.com', 9876)"
      ],
      "metadata": {
        "id": "IEg8vY5gzduu"
      },
      "execution_count": null,
      "outputs": []
    },
    {
      "cell_type": "code",
      "source": [
        "obj1.stud_details()"
      ],
      "metadata": {
        "colab": {
          "base_uri": "https://localhost:8080/"
        },
        "id": "kQD51fjpzebN",
        "outputId": "480e7b5b-d285-41c9-c787-a8bf4116e120"
      },
      "execution_count": null,
      "outputs": [
        {
          "output_type": "stream",
          "name": "stdout",
          "text": [
            "Kin Zen Anto m kin.anto@firstmail.com 9876\n"
          ]
        }
      ]
    },
    {
      "cell_type": "code",
      "source": [
        "class emp_record:\n",
        "  def __init__(self, empname,empgender, empaddress):\n",
        "    self.empname=empname\n",
        "    self.empgender=empgender\n",
        "    self.empaddress=empaddress\n",
        "\n",
        "  def emp_details(self):\n",
        "    print()"
      ],
      "metadata": {
        "id": "93-tKvan0RKu"
      },
      "execution_count": null,
      "outputs": []
    },
    {
      "cell_type": "code",
      "source": [
        "class car:\n",
        "  def __init__(self,name,model,fuel,cc,cylinders):\n",
        "    self.name=name\n",
        "    self.model=model\n",
        "    self.fuel=fuel\n",
        "    self.cc= cc\n",
        "    self.cylinders=cylinders\n",
        "\n",
        "  def car_details(self):\n",
        "    print(self.name, self.model,self.fuel,self.cc,self.cylinders  )"
      ],
      "metadata": {
        "id": "zPiWtLxP1hFe"
      },
      "execution_count": null,
      "outputs": []
    },
    {
      "cell_type": "code",
      "source": [
        "obj1= car('Audi777','777','Electric', 3500,12)"
      ],
      "metadata": {
        "id": "egDjjnq92Ohm"
      },
      "execution_count": null,
      "outputs": []
    },
    {
      "cell_type": "code",
      "source": [
        "obj1.car_details()"
      ],
      "metadata": {
        "colab": {
          "base_uri": "https://localhost:8080/"
        },
        "id": "C6CEwhCz2cgV",
        "outputId": "1a986c6d-6381-4851-d4c9-09caaa8ae74f"
      },
      "execution_count": null,
      "outputs": [
        {
          "output_type": "stream",
          "name": "stdout",
          "text": [
            "Audi777 777 Electric 3500 12\n"
          ]
        }
      ]
    },
    {
      "cell_type": "code",
      "source": [
        "#Great Grand Parent\n",
        "class transportation:\n",
        "  pass\n",
        "\n",
        "#grandParent\n",
        "class air (transportation):\n",
        "  pass\n",
        "class water(transportation):\n",
        "  pass\n",
        "class land (transportation):\n",
        "  pass\n",
        "\n",
        "#Parent\n",
        "class wheeler2(land):\n",
        "  pass\n",
        "class wheeler3(land):\n",
        "  pass\n",
        "class wheeler4(land):\n",
        "  pass\n",
        "class wheeler6(land):\n",
        "  pass\n",
        "class wheeler8(land):\n",
        "  pass\n",
        "class wheeler10(land):\n",
        "  pass\n",
        "class wheeler12(land):\n",
        "  pass\n",
        "\n",
        "\n",
        "#Child\n",
        "class gas (wheeler4):\n",
        "  pass\n",
        "class petrol(wheeler4):\n",
        "  pass\n",
        "class disel (wheeler4):\n",
        "  pass\n",
        "class electricity (wheeler4):\n",
        "  pass\n",
        "class battery(wheeler4):\n",
        "  pass\n",
        "class solar (wheeler4):\n",
        "  pass\n",
        "\n"
      ],
      "metadata": {
        "id": "dhX9gtLR3vre"
      },
      "execution_count": null,
      "outputs": []
    },
    {
      "cell_type": "markdown",
      "source": [
        "\n",
        "                                                    house\n",
        "\n",
        "\n",
        "\n"
      ],
      "metadata": {
        "id": "LpbCBiB673WM"
      }
    },
    {
      "cell_type": "code",
      "source": [
        "#Great Grand Parent\n",
        "\n",
        "class house:\n",
        "  pass\n",
        "\n",
        "#grand Parent\n",
        "\n",
        "class onebedroom(house):\n",
        "  pass\n",
        "class twobedroom(house):\n",
        "  pass\n",
        "class threebedroom(house):\n",
        "\n",
        "\n",
        "#parents\n",
        "\n",
        " class onebath(onebedroom):\n",
        "  pass\n",
        " class twobath(onebedroom):\n",
        "  pass\n",
        "\n",
        "#child\n",
        "\n",
        " class withbathtub(onebath):\n",
        "  pass\n",
        " class nobathtub(onebath):\n",
        "  pass\n",
        "\n",
        "\n"
      ],
      "metadata": {
        "id": "_N6YM7Bs8Wh-"
      },
      "execution_count": null,
      "outputs": []
    },
    {
      "cell_type": "code",
      "source": [
        "\n",
        "\n"
      ],
      "metadata": {
        "id": "1hHmn4PdEKNE"
      },
      "execution_count": null,
      "outputs": []
    }
  ]
}