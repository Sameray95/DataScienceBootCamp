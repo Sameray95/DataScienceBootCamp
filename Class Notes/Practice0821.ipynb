{
  "nbformat": 4,
  "nbformat_minor": 0,
  "metadata": {
    "colab": {
      "provenance": []
    },
    "kernelspec": {
      "name": "python3",
      "display_name": "Python 3"
    },
    "language_info": {
      "name": "python"
    }
  },
  "cells": [
    {
      "cell_type": "code",
      "execution_count": null,
      "metadata": {
        "colab": {
          "base_uri": "https://localhost:8080/"
        },
        "id": "7atT__T0E-g0",
        "outputId": "81172991-d63d-4851-f69e-121bcba5da99"
      },
      "outputs": [
        {
          "output_type": "stream",
          "name": "stdout",
          "text": [
            "black-green-red-white-yellow\n"
          ]
        }
      ],
      "source": [
        "#1) Write a Python Function that accepts a hyphen-separated sequence of words as input\n",
        "#and prints the words in a hyphen-separated sequence after sorting them alphabetically.\n",
        "#Sample Items : green-red-yellow-black-white\n",
        "#Expected Result : black-green-red-white-yellow\n",
        "\n",
        "def hyphen_separated_words(words_str):\n",
        "  words_list=words_str.split(\"-\")\n",
        "  sorted_list=sorted(words_list)\n",
        "  print(\"-\".join(sorted_list))\n",
        "\n",
        "hyphen_separated_words(\"green-red-yellow-black-white\")\n",
        "\n",
        "\n"
      ]
    },
    {
      "cell_type": "code",
      "source": [
        "#2)  Write a function that accepts a string and count consonant and vowels in that string\n",
        "\n",
        "def VowelConsonantCounter(input_str):\n",
        "    vowels = \"aeiouAEIOU\"\n",
        "\n",
        "    vowel_count = 0\n",
        "    consonant_count = 0\n",
        "\n",
        "    for char in input_str:\n",
        "        if char in vowels:\n",
        "            vowel_count += 1\n",
        "\n",
        "        else:\n",
        "            consonant_count += 1\n",
        "\n",
        "    return vowel_count, consonant_count\n",
        "\n",
        "# Sample input\n",
        "user_input=input(\"Enter any string: \")\n",
        "\n",
        "\n",
        "vowels, consonants = VowelConsonantCounter(user_input)\n",
        "print(\"Number of vowels:\", vowels)\n",
        "print(\"Number of consonants:\", consonants)\n"
      ],
      "metadata": {
        "colab": {
          "base_uri": "https://localhost:8080/"
        },
        "id": "DV9lmVRpG9Jb",
        "outputId": "404e8b78-e741-4e23-e005-299cf8f54aec"
      },
      "execution_count": null,
      "outputs": [
        {
          "output_type": "stream",
          "name": "stdout",
          "text": [
            "Enter any string: yoiuytrfdcvbnm\n",
            "Number of vowels: 3\n",
            "Number of consonants: 11\n"
          ]
        }
      ]
    },
    {
      "cell_type": "markdown",
      "source": [
        "3) Write a Python function to check whether a number is \"Perfect\" or not.\n",
        "According to Wikipedia : In number theory, a perfect number is a positive integer that is equal to the sum of its proper positive divisors, that is, the sum of its positive divisors excluding the number itself (also known as its aliquot sum). Equivalently, a perfect number is a number that is half the sum of all of its positive divisors (including itself).\n",
        "Example : The first perfect number is 6, because 1, 2, and 3 are its proper positive divisors, and 1 + 2 + 3 = 6. Equivalently, the number 6 is equal to half the sum of all its positive divisors: ( 1 + 2 + 3 + 6 ) / 2 = 6. The next perfect number is 28 = 1 + 2 + 4 + 7 + 14. This is followed by the perfect numbers 496 and 8128."
      ],
      "metadata": {
        "id": "Gzee4ZEqNjN7"
      }
    },
    {
      "cell_type": "code",
      "source": [
        "\n",
        "n= int(input(\"Enter any number: \"))\n",
        "sum1 = 0\n",
        "for i in range (1, n):\n",
        "   if (n%i==0):\n",
        "      sum1=sum1+i\n",
        "if (sum1==n):\n",
        "        print(\"The number is a perfect number !\")\n",
        "else:\n",
        "  print(\"The number is not a perfect number !\")\n"
      ],
      "metadata": {
        "id": "c2_jUkAxODRZ",
        "colab": {
          "base_uri": "https://localhost:8080/"
        },
        "outputId": "606870a9-8075-4d77-dec0-cbe1fcf5ecc9"
      },
      "execution_count": null,
      "outputs": [
        {
          "output_type": "stream",
          "name": "stdout",
          "text": [
            "Enter any number: 5\n",
            "The number is not a perfect number !\n"
          ]
        }
      ]
    },
    {
      "cell_type": "code",
      "source": [
        "#1) Write a program to print twin primes less than 1000. If two consecutive odd numbers are both prime then they are known as twin primes\n",
        "# Logical Breaking\n",
        "#first part iterate till 1000\n",
        "#second part check for oddd numbers\n",
        "#third both numbers should be prime\n",
        "\n",
        "n=int(input(\"Enter the max range: \"))\n",
        "\n",
        "def print_prime_pairs(num):\n",
        "  for i in range (2,num):\n",
        "    if num%i==0:\n",
        "      return False\n",
        "  return True\n",
        "\n",
        "#we start from 3 which is first prime number and jumps 2 places for another odd num\n",
        "\n",
        "for k in range (3,n,2):\n",
        "  if print_prime_pairs(k) and print_prime_pairs(k+2):\n",
        "     print(\"Pair prime numbers\", k , k+2)\n",
        "\n"
      ],
      "metadata": {
        "id": "mobXtS9TTgw7",
        "colab": {
          "base_uri": "https://localhost:8080/"
        },
        "outputId": "977049e4-3132-4475-8b17-9b3049e73c1f"
      },
      "execution_count": null,
      "outputs": [
        {
          "output_type": "stream",
          "name": "stdout",
          "text": [
            "Enter the max range: 100\n",
            "Pair prime numbers 3 5\n",
            "Pair prime numbers 5 7\n",
            "Pair prime numbers 11 13\n",
            "Pair prime numbers 17 19\n",
            "Pair prime numbers 29 31\n",
            "Pair prime numbers 41 43\n",
            "Pair prime numbers 59 61\n",
            "Pair prime numbers 71 73\n"
          ]
        }
      ]
    },
    {
      "cell_type": "code",
      "source": [
        "#2) Write a program to find out the prime factorization of a number. Example: prime factorization  of 56 2 × 2 × 2 × 7\n",
        "\n",
        "#divide the number until it becomes 1\n",
        "\n",
        "n = int(input(\"Enter the number for prime factorization\"))\n",
        "def prime_factors(num):\n",
        "  factors=[]\n",
        "  divisor=2\n",
        "  while num>1:\n",
        "    while num%divisor==0:\n",
        "      num/=divisor\n",
        "      factors.append(str(divisor))\n",
        "    divisor=divisor+1\n",
        "  return factors\n",
        "\n",
        "def show_prime_factorization(n):\n",
        "  factors=prime_factors(n)\n",
        "  return \"x\".join(factors)\n",
        "\n",
        "show_prime_factorization(n)\n"
      ],
      "metadata": {
        "colab": {
          "base_uri": "https://localhost:8080/",
          "height": 53
        },
        "id": "Ljsg37q_SIe5",
        "outputId": "c7ac23b0-1ddf-45eb-cb3b-07204bcad20d"
      },
      "execution_count": null,
      "outputs": [
        {
          "name": "stdout",
          "output_type": "stream",
          "text": [
            "Enter the number for prime factorization8\n"
          ]
        },
        {
          "output_type": "execute_result",
          "data": {
            "text/plain": [
              "'2x2x2'"
            ],
            "application/vnd.google.colaboratory.intrinsic+json": {
              "type": "string"
            }
          },
          "metadata": {},
          "execution_count": 13
        }
      ]
    },
    {
      "cell_type": "code",
      "source": [
        "#3) Two different numbers are called amicable numbers if the sum of the proper divisors of each is equal to the other number. For example 220 and 284 are amicable numbers.\n",
        "x=int(input(\"Enter first number \"))\n",
        "y= int(input(\"Enter second number \"))\n",
        "\n",
        "# x=int(input(\"Enter first number \"))\n",
        "# y=int(input(\"Enter second number \"))\n",
        "\n",
        "def get_proper_divisors_sum(num):\n",
        "  sum=0\n",
        "  for k in range(1,num):\n",
        "    if num%k==0:\n",
        "      sum=sum+k\n",
        "  return sum\n",
        "\n",
        "\n",
        "def check_ambicale_numbers(x,y):\n",
        "  if get_proper_divisors_sum(x)==y and get_proper_divisors_sum(y)==x:\n",
        "    print(\"These are ambicale numbers \",x,y)\n",
        "  else:\n",
        "    print(\"Not ambicale number \")\n",
        "\n",
        "check_ambicale_numbers(x,y)\n"
      ],
      "metadata": {
        "colab": {
          "base_uri": "https://localhost:8080/"
        },
        "id": "YhgqaxjUXXsC",
        "outputId": "e4d36139-41dc-4818-e772-ecb603cd993c"
      },
      "execution_count": null,
      "outputs": [
        {
          "output_type": "stream",
          "name": "stdout",
          "text": [
            "Enter first number220\n",
            "Enter second number284\n",
            "These are ambicale numbers  220 284\n"
          ]
        }
      ]
    },
    {
      "cell_type": "code",
      "source": [
        "#1) Swap first and last element of the list\n",
        "\n",
        "\n",
        "# a=[1,2,5,10,'1']\n",
        "\n",
        "a = [1, 2, 5, 10, '1']\n",
        "\n",
        "print(\"Before Swapping:\")\n",
        "\n",
        "def swap_first_last(lst):\n",
        "    if len(lst) >= 2:\n",
        "        lst[0], lst[-1] = lst[-1], lst[0]\n",
        "    return lst\n",
        "\n",
        "result = swap_first_last(a)\n",
        "print(\"AfterSwapped :\", result)\n",
        "\n"
      ],
      "metadata": {
        "colab": {
          "base_uri": "https://localhost:8080/"
        },
        "id": "E-iW9qFrc8WB",
        "outputId": "bc2ccdf6-7d99-4ff1-be1d-7a5b5137cf79"
      },
      "execution_count": null,
      "outputs": [
        {
          "output_type": "stream",
          "name": "stdout",
          "text": [
            "Before Swapping:\n",
            "AfterSwapped : ['1', 2, 5, 10, 1]\n"
          ]
        }
      ]
    },
    {
      "cell_type": "code",
      "source": [],
      "metadata": {
        "id": "PJ3k1_SVhYHh"
      },
      "execution_count": null,
      "outputs": []
    }
  ]
}