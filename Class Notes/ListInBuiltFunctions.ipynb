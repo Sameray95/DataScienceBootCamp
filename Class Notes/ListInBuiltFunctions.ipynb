{
  "nbformat": 4,
  "nbformat_minor": 0,
  "metadata": {
    "colab": {
      "provenance": []
    },
    "kernelspec": {
      "name": "python3",
      "display_name": "Python 3"
    },
    "language_info": {
      "name": "python"
    }
  },
  "cells": [
    {
      "cell_type": "code",
      "execution_count": null,
      "metadata": {
        "id": "K8D6EiOIZ6f-"
      },
      "outputs": [],
      "source": []
    },
    {
      "cell_type": "code",
      "source": [
        "a=[1,2,3,4,5]\n",
        "dir(a)"
      ],
      "metadata": {
        "id": "qMDXwTfpKpbA"
      },
      "execution_count": null,
      "outputs": []
    },
    {
      "cell_type": "code",
      "source": [
        "#append : add the value at the last index of the list\n",
        "a=[1,2,3,4,5]\n",
        "print(\"Before Append\",a)\n",
        "a.append(8)\n",
        "print(\"After append\", a)\n"
      ],
      "metadata": {
        "colab": {
          "base_uri": "https://localhost:8080/"
        },
        "id": "mJAuHiLKKxgn",
        "outputId": "0279adc3-a6cf-41f2-eaa6-997263a9d78e"
      },
      "execution_count": null,
      "outputs": [
        {
          "output_type": "stream",
          "name": "stdout",
          "text": [
            "Before Append [1, 2, 3, 4, 5]\n",
            "After append [1, 2, 3, 4, 5, 8]\n"
          ]
        }
      ]
    },
    {
      "cell_type": "code",
      "source": [
        "#clear: removes all elements of the list\n",
        "a=[1,2,3,4,5]\n",
        "print(\"Before clear\",a)\n",
        "a.clear()\n",
        "print(\"After clear\", a)\n",
        "print(len(a))\n"
      ],
      "metadata": {
        "colab": {
          "base_uri": "https://localhost:8080/"
        },
        "id": "eo0uLkTHLIyx",
        "outputId": "3f94b507-4331-4605-bdb9-7691d95fde0e"
      },
      "execution_count": null,
      "outputs": [
        {
          "output_type": "stream",
          "name": "stdout",
          "text": [
            "Before clear [1, 2, 3, 4, 5]\n",
            "After clear []\n",
            "0\n"
          ]
        }
      ]
    },
    {
      "cell_type": "code",
      "source": [
        "#copy: copies the actual value\n",
        "a_list=[1,2,3,4,5]\n",
        "b_list=a_list\n",
        "c_list=a_list.copy()\n",
        "print(\"Actual list\", a_list)\n",
        "print(\"Equal to  list\", b_list)\n",
        "print(\"copy list\", c_list)\n",
        "\n",
        "print('====================')\n",
        "\n",
        "a_list.append(8)\n",
        "print(\"After operation Actual list\", a_list)\n",
        "print(\"After operation Equal to  list\", b_list)\n",
        "print(\"After operation copy list\", c_list)\n",
        "\n"
      ],
      "metadata": {
        "colab": {
          "base_uri": "https://localhost:8080/"
        },
        "id": "qp05QhQ1Lhcv",
        "outputId": "1b8bc68e-1c7f-463b-8906-64bb13f7831a"
      },
      "execution_count": null,
      "outputs": [
        {
          "output_type": "stream",
          "name": "stdout",
          "text": [
            "Actual list [1, 2, 3, 4, 5]\n",
            "Equal to  list [1, 2, 3, 4, 5]\n",
            "copy list [1, 2, 3, 4, 5]\n",
            "====================\n",
            "After operation Actual list [1, 2, 3, 4, 5, 8]\n",
            "After operation Equal to  list [1, 2, 3, 4, 5, 8]\n",
            "After operation copy list [1, 2, 3, 4, 5]\n"
          ]
        }
      ]
    },
    {
      "cell_type": "code",
      "source": [
        "#count: counts frequency of whatever is passed to the function\n",
        "a_list=[1,2,3,4,55,6,7,8,9,9,]\n",
        "print(a_list.count(77))\n",
        "print(a_list.count(9))"
      ],
      "metadata": {
        "colab": {
          "base_uri": "https://localhost:8080/"
        },
        "id": "HanjU5aDNsQ_",
        "outputId": "be0b1382-c013-45d9-ebf2-9dd2173819c9"
      },
      "execution_count": null,
      "outputs": [
        {
          "output_type": "stream",
          "name": "stdout",
          "text": [
            "0\n",
            "2\n"
          ]
        }
      ]
    },
    {
      "cell_type": "code",
      "source": [
        "a_list=[1,2,3,4,5,6,7,8,9]\n",
        "\n",
        "a_list.append([10,11,12])\n",
        "print(\"Append Fucntion \", a_list)\n",
        "print(\"Append function len\", len(a_list))\n"
      ],
      "metadata": {
        "colab": {
          "base_uri": "https://localhost:8080/"
        },
        "id": "sW-_GbFdOOZ_",
        "outputId": "60ee4759-d346-4a25-99c5-cea981abe4c8"
      },
      "execution_count": null,
      "outputs": [
        {
          "output_type": "stream",
          "name": "stdout",
          "text": [
            "Append Fucntion  [1, 2, 3, 4, 5, 6, 7, 8, 9, [10, 11, 12]]\n",
            "Append function len 10\n"
          ]
        }
      ]
    },
    {
      "cell_type": "code",
      "source": [
        "#extend: extends the function\n",
        "a_list=[1,2,3,4,5,6,7,8,9]\n",
        "\n",
        "a_list.extend([10,11,12])\n",
        "print(\"Append Fucntion \", a_list)\n",
        "print(\"Append function len\", len(a_list))\n"
      ],
      "metadata": {
        "colab": {
          "base_uri": "https://localhost:8080/"
        },
        "id": "SXDNSZ0AO7Ja",
        "outputId": "f19fa18c-d7b8-4f6b-ed95-d6e620ccdc12"
      },
      "execution_count": null,
      "outputs": [
        {
          "output_type": "stream",
          "name": "stdout",
          "text": [
            "Append Fucntion  [1, 2, 3, 4, 5, 6, 7, 8, 9, 10, 11, 12]\n",
            "Append function len 12\n"
          ]
        }
      ]
    },
    {
      "cell_type": "code",
      "source": [],
      "metadata": {
        "id": "j20xLa_OPZgu"
      },
      "execution_count": null,
      "outputs": []
    },
    {
      "cell_type": "code",
      "source": [
        "#2D list indexing\n",
        "a_list=[1,2,3,4,5,6,7]\n",
        "\n",
        "a_list.append([8,9,10])\n",
        "\n",
        "print( a_list)\n",
        "print(a_list[7])\n",
        "print(a_list[7][1])"
      ],
      "metadata": {
        "colab": {
          "base_uri": "https://localhost:8080/"
        },
        "outputId": "7c5e30f4-562c-4517-929d-1a637e1799af",
        "id": "vCGYceIZPgF3"
      },
      "execution_count": null,
      "outputs": [
        {
          "output_type": "stream",
          "name": "stdout",
          "text": [
            "[1, 2, 3, 4, 5, 6, 7, [8, 9, 10]]\n",
            "[8, 9, 10]\n",
            "9\n"
          ]
        }
      ]
    },
    {
      "cell_type": "code",
      "source": [
        "a_list=[1,2,3,4,5,6,7]\n",
        "\n",
        "a_list.append([8,9,10])\n",
        "\n",
        "print( a_list)\n",
        "print(a_list[7])\n",
        "print(a_list[7][::-1])"
      ],
      "metadata": {
        "colab": {
          "base_uri": "https://localhost:8080/"
        },
        "id": "Mhpr0dcHSWhw",
        "outputId": "41e699a2-a533-4068-d400-5145365a6d03"
      },
      "execution_count": null,
      "outputs": [
        {
          "output_type": "stream",
          "name": "stdout",
          "text": [
            "[1, 2, 3, 4, 5, 6, 7, [8, 9, 10]]\n",
            "[8, 9, 10]\n",
            "[10, 9, 8]\n"
          ]
        }
      ]
    },
    {
      "cell_type": "code",
      "source": [
        "#index: returns index of the value\n",
        "a_list=[11,22,33,44,55,66,77,33]\n",
        "\n",
        "a_list.index(22)"
      ],
      "metadata": {
        "colab": {
          "base_uri": "https://localhost:8080/"
        },
        "id": "SkC0HOvOUeUH",
        "outputId": "234c0bd0-7309-4501-d931-acfe7a5cd8c5"
      },
      "execution_count": null,
      "outputs": [
        {
          "output_type": "execute_result",
          "data": {
            "text/plain": [
              "1"
            ]
          },
          "metadata": {},
          "execution_count": 33
        }
      ]
    },
    {
      "cell_type": "code",
      "source": [
        "#insert: insert anywhere in list\n",
        "#inserts function takes in to values index and object/value/number\n",
        "a_list=[11,22,33,44,55,66,77,33]\n",
        "a_list.insert(5,12)\n",
        "print(a_list)"
      ],
      "metadata": {
        "colab": {
          "base_uri": "https://localhost:8080/"
        },
        "id": "dCWi_PU6VEBW",
        "outputId": "518040ad-1d8e-42cc-92df-5fbcaae83079"
      },
      "execution_count": null,
      "outputs": [
        {
          "output_type": "stream",
          "name": "stdout",
          "text": [
            "[11, 22, 33, 44, 55, 12, 66, 77, 33]\n"
          ]
        }
      ]
    },
    {
      "cell_type": "code",
      "source": [
        "#pop: pops out last value of the list by default or from the provided index\n",
        "\n",
        "a_list=[11,22,33,44,55,66,77,33]\n",
        "\n",
        "#print(a_list.pop())\n",
        "print(a_list.pop(2))\n",
        "\n",
        "#print(a_list)"
      ],
      "metadata": {
        "colab": {
          "base_uri": "https://localhost:8080/"
        },
        "id": "owz1ocVdV54o",
        "outputId": "d3f7d18d-945a-4298-b492-4b18627128c3"
      },
      "execution_count": null,
      "outputs": [
        {
          "output_type": "stream",
          "name": "stdout",
          "text": [
            "33\n"
          ]
        }
      ]
    },
    {
      "cell_type": "code",
      "source": [
        "#remove: removes value from the list\n",
        "\n",
        "a_list=[11,22,33,44,55,66,77,33]\n",
        "\n",
        "a_list.remove(33)\n",
        "\n",
        "print(a_list)"
      ],
      "metadata": {
        "colab": {
          "base_uri": "https://localhost:8080/"
        },
        "id": "IPPoEaCoWbK-",
        "outputId": "4323bc07-1723-486c-db5b-07fd3ccf22ca"
      },
      "execution_count": null,
      "outputs": [
        {
          "output_type": "stream",
          "name": "stdout",
          "text": [
            "[11, 22, 44, 55, 66, 77, 33]\n"
          ]
        }
      ]
    },
    {
      "cell_type": "code",
      "source": [
        "#reverse: reverses the value of the string\n",
        "a_list=[11,22,33,44,55,66,77,33]\n",
        "a_list.reverse()\n",
        "print(a_list)"
      ],
      "metadata": {
        "colab": {
          "base_uri": "https://localhost:8080/"
        },
        "id": "nGOHnJ9cXATp",
        "outputId": "01108566-aefc-481f-8c27-df2bda612c4b"
      },
      "execution_count": null,
      "outputs": [
        {
          "output_type": "stream",
          "name": "stdout",
          "text": [
            "[33, 77, 66, 55, 44, 33, 22, 11]\n"
          ]
        }
      ]
    },
    {
      "cell_type": "code",
      "source": [
        "#sort: sorts in ascending order\n",
        "a_list=[11,226,33,74,55,66,787,303]\n",
        "a_list.sort()\n",
        "print(a_list)"
      ],
      "metadata": {
        "colab": {
          "base_uri": "https://localhost:8080/"
        },
        "id": "mGoMmyROYdhu",
        "outputId": "82454c72-7844-48f1-f0f9-286951aac6fd"
      },
      "execution_count": null,
      "outputs": [
        {
          "output_type": "stream",
          "name": "stdout",
          "text": [
            "[11, 33, 55, 66, 74, 226, 303, 787]\n"
          ]
        }
      ]
    },
    {
      "cell_type": "code",
      "source": [
        "\n",
        "a_list=[11,22,33,44,55,66,77,33]\n",
        "a_list.sort(reverse=True)\n",
        "print(a_list)\n"
      ],
      "metadata": {
        "colab": {
          "base_uri": "https://localhost:8080/"
        },
        "id": "bdt523KmZCU-",
        "outputId": "cad04445-60dd-4e34-fd7d-bc45563d2c5d"
      },
      "execution_count": null,
      "outputs": [
        {
          "output_type": "stream",
          "name": "stdout",
          "text": [
            "[77, 66, 55, 44, 33, 33, 22, 11]\n"
          ]
        }
      ]
    },
    {
      "cell_type": "code",
      "source": [],
      "metadata": {
        "id": "hQjJQvxNaA2V"
      },
      "execution_count": null,
      "outputs": []
    }
  ]
}