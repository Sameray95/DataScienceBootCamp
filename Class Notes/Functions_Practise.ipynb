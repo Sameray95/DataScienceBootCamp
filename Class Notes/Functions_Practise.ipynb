{
  "nbformat": 4,
  "nbformat_minor": 0,
  "metadata": {
    "colab": {
      "provenance": []
    },
    "kernelspec": {
      "name": "python3",
      "display_name": "Python 3"
    },
    "language_info": {
      "name": "python"
    }
  },
  "cells": [
    {
      "cell_type": "code",
      "source": [
        "\"\"\"\n",
        "Write a Python Function that accepts a hyphen-separated sequence of words as input and prints the words in a hyphen-separated sequence after sorting them alphabetically.\n",
        "Sample Items : green-red-yellow-black-white\n",
        "Expected Result : black-green-red-white-yellow\n",
        "\"\"\"\n",
        "\n",
        "def sort_the_string(words_str):\n",
        "  words_list=words_str.split(\"-\")\n",
        "  sorted_list=sorted(words_list)\n",
        "  str_out=\"\"\n",
        "  print(\"Sorted list \",sorted_list)\n",
        "  # for k in sorted_list:\n",
        "  #   if len(str_out)==0:\n",
        "  #     str_out=k\n",
        "  #   else:\n",
        "  #     str_out=str_out+\"-\"+k\n",
        "  #   print(k)\n",
        "  #   print(str_out)\n",
        "  #   print(\"======================\")\n",
        "  print(\"-\".join(sorted_list))\n",
        "\n",
        "sort_the_string(\"green-red-yellow-black-white\")"
      ],
      "metadata": {
        "colab": {
          "base_uri": "https://localhost:8080/"
        },
        "id": "2aC8J5NPFaWO",
        "outputId": "96818704-685b-4fde-b958-14664b8a3232"
      },
      "execution_count": null,
      "outputs": [
        {
          "output_type": "stream",
          "name": "stdout",
          "text": [
            "Sorted list  ['black', 'green', 'red', 'white', 'yellow']\n",
            "black-green-red-white-yellow\n"
          ]
        }
      ]
    },
    {
      "cell_type": "code",
      "source": [
        "# Write a function that accepts a string and count consonant and vowels in that string\n",
        "# Version 1\n",
        "def count_const_vowels(words):\n",
        "  vowels_list=['a','e','i','o','u']\n",
        "  count_vowls=0\n",
        "  count_const=0\n",
        "  for k in words.lower():\n",
        "    if k in vowels_list:\n",
        "      count_vowls=count_vowls+1\n",
        "    else:\n",
        "      count_const=count_const+1\n",
        "  print(\"Count of consonants\",count_const)\n",
        "  print(\"Count of Vowels\",count_vowls)\n",
        "\n",
        "count_const_vowels(\"green-red-yellow-black-white\")"
      ],
      "metadata": {
        "colab": {
          "base_uri": "https://localhost:8080/"
        },
        "id": "KIrhtECMF6Am",
        "outputId": "9507765a-3e22-487b-c4ee-897c7e94191e"
      },
      "execution_count": null,
      "outputs": [
        {
          "output_type": "stream",
          "name": "stdout",
          "text": [
            "g\n",
            "r\n",
            "e\n",
            "e\n",
            "n\n",
            "r\n",
            "e\n",
            "d\n",
            "y\n",
            "e\n",
            "l\n",
            "l\n",
            "o\n",
            "w\n",
            "b\n",
            "l\n",
            "a\n",
            "c\n",
            "k\n",
            "w\n",
            "h\n",
            "i\n",
            "t\n",
            "e\n",
            "Count of consonants 16\n",
            "Count of Vowels 8\n"
          ]
        }
      ]
    },
    {
      "cell_type": "code",
      "source": [
        "# Write a function that accepts a string and count consonant and vowels in that string\n",
        "# Version 2\n",
        "def count_const_vowels(words):\n",
        "  vowels_list=['a','e','i','o','u']\n",
        "  count_vowls=0\n",
        "  count_const=0\n",
        "  for k in words.lower():\n",
        "    if k.isalpha():\n",
        "      print(k)\n",
        "      if k in vowels_list:\n",
        "        count_vowls=count_vowls+1\n",
        "      else:\n",
        "        count_const=count_const+1\n",
        "  print(\"Count of consonants\",count_const)\n",
        "  print(\"Count of Vowels\",count_vowls)\n",
        "\n",
        "count_const_vowels(\"green1212212-red-yellow-black-white\")"
      ],
      "metadata": {
        "colab": {
          "base_uri": "https://localhost:8080/"
        },
        "id": "floqRfFfRW2o",
        "outputId": "36dc13de-f83c-459d-f761-9c02dad30692"
      },
      "execution_count": null,
      "outputs": [
        {
          "output_type": "stream",
          "name": "stdout",
          "text": [
            "g\n",
            "r\n",
            "e\n",
            "e\n",
            "n\n",
            "r\n",
            "e\n",
            "d\n",
            "y\n",
            "e\n",
            "l\n",
            "l\n",
            "o\n",
            "w\n",
            "b\n",
            "l\n",
            "a\n",
            "c\n",
            "k\n",
            "w\n",
            "h\n",
            "i\n",
            "t\n",
            "e\n",
            "Count of consonants 16\n",
            "Count of Vowels 8\n"
          ]
        }
      ]
    },
    {
      "cell_type": "code",
      "source": [
        "dir(\"Abcd\")"
      ],
      "metadata": {
        "colab": {
          "base_uri": "https://localhost:8080/"
        },
        "id": "lpL1eNVAQwvn",
        "outputId": "e8b32939-13da-459a-c973-7647622dc7b7"
      },
      "execution_count": null,
      "outputs": [
        {
          "output_type": "execute_result",
          "data": {
            "text/plain": [
              "['__add__',\n",
              " '__class__',\n",
              " '__contains__',\n",
              " '__delattr__',\n",
              " '__dir__',\n",
              " '__doc__',\n",
              " '__eq__',\n",
              " '__format__',\n",
              " '__ge__',\n",
              " '__getattribute__',\n",
              " '__getitem__',\n",
              " '__getnewargs__',\n",
              " '__gt__',\n",
              " '__hash__',\n",
              " '__init__',\n",
              " '__init_subclass__',\n",
              " '__iter__',\n",
              " '__le__',\n",
              " '__len__',\n",
              " '__lt__',\n",
              " '__mod__',\n",
              " '__mul__',\n",
              " '__ne__',\n",
              " '__new__',\n",
              " '__reduce__',\n",
              " '__reduce_ex__',\n",
              " '__repr__',\n",
              " '__rmod__',\n",
              " '__rmul__',\n",
              " '__setattr__',\n",
              " '__sizeof__',\n",
              " '__str__',\n",
              " '__subclasshook__',\n",
              " 'capitalize',\n",
              " 'casefold',\n",
              " 'center',\n",
              " 'count',\n",
              " 'encode',\n",
              " 'endswith',\n",
              " 'expandtabs',\n",
              " 'find',\n",
              " 'format',\n",
              " 'format_map',\n",
              " 'index',\n",
              " 'isalnum',\n",
              " 'isalpha',\n",
              " 'isascii',\n",
              " 'isdecimal',\n",
              " 'isdigit',\n",
              " 'isidentifier',\n",
              " 'islower',\n",
              " 'isnumeric',\n",
              " 'isprintable',\n",
              " 'isspace',\n",
              " 'istitle',\n",
              " 'isupper',\n",
              " 'join',\n",
              " 'ljust',\n",
              " 'lower',\n",
              " 'lstrip',\n",
              " 'maketrans',\n",
              " 'partition',\n",
              " 'removeprefix',\n",
              " 'removesuffix',\n",
              " 'replace',\n",
              " 'rfind',\n",
              " 'rindex',\n",
              " 'rjust',\n",
              " 'rpartition',\n",
              " 'rsplit',\n",
              " 'rstrip',\n",
              " 'split',\n",
              " 'splitlines',\n",
              " 'startswith',\n",
              " 'strip',\n",
              " 'swapcase',\n",
              " 'title',\n",
              " 'translate',\n",
              " 'upper',\n",
              " 'zfill']"
            ]
          },
          "metadata": {},
          "execution_count": 20
        }
      ]
    },
    {
      "cell_type": "markdown",
      "source": [
        "\"\"\"\n",
        "Write a Python function to check whether a number is \"Perfect\" or not.\n",
        "According to Wikipedia : In number theory, a perfect number is a positive integer that is equal to the sum of its\n",
        "proper positive divisors, that is, the sum of its positive divisors excluding the number itself\n",
        "(also known as its aliquot sum).\n",
        "Equivalently, a perfect number is a number that is half the sum of all of its positive divisors (including itself).\n",
        "Example : The first perfect number is 6, because 1, 2, and 3 are its proper positive divisors, and 1 + 2 + 3 = 6. Equivalently, the number 6 is equal to half the sum of all its positive divisors: ( 1 + 2 + 3 + 6 ) / 2 = 6. The next perfect number is 28 = 1 + 2 + 4 + 7 + 14. This is followed by the perfect numbers 496 and 8128.\n",
        "\"\"\"\n"
      ],
      "metadata": {
        "id": "Cyfr54WdVpg4"
      }
    },
    {
      "cell_type": "code",
      "source": [
        "n = int(input(\"Enter any number: \"))\n",
        "sum1 = 0\n",
        "for i in range(1, n):\n",
        "  if(n % i == 0):\n",
        "    sum1 = sum1 + i\n",
        "if (sum1 == n):\n",
        "    print(\"The number is a Perfect number!\")\n",
        "else:\n",
        "    print(\"The number is not a Perfect number!\")"
      ],
      "metadata": {
        "colab": {
          "base_uri": "https://localhost:8080/"
        },
        "id": "f20A-AQsF6DF",
        "outputId": "111c574a-a37c-4d5d-b0b6-bb427c7aebef"
      },
      "execution_count": null,
      "outputs": [
        {
          "output_type": "stream",
          "name": "stdout",
          "text": [
            "Enter any number: 6\n",
            "1\n",
            "2\n",
            "3\n",
            "The number is a Perfect number!\n"
          ]
        }
      ]
    },
    {
      "cell_type": "code",
      "source": [
        "# 1) Write a program to print twin primes less than 1000. If two consecutive odd numbers are both prime then they are known as twin primes\n",
        "\n",
        "# Logical breaking\n",
        "# first part is we have to iterate till n\n",
        "# 2nd part only check for odd numbers\n",
        "# 3rd both the numbers should be prime"
      ],
      "metadata": {
        "id": "nkgEFqPlF6Fo"
      },
      "execution_count": null,
      "outputs": []
    },
    {
      "cell_type": "code",
      "source": [
        "n=int(input(\"Enter the Max Range :- \"))\n",
        "\n",
        "def check_prime_number(num):\n",
        "  for i in range(2,num):\n",
        "    if num%i==0:\n",
        "      return False\n",
        "  return True\n",
        "\n",
        "\n",
        "def print_prime_pairs(n):\n",
        "  # We start from 3 which is first odd prime number and jump 2 places each for next odd number\n",
        "  for k in range(3,n,2):\n",
        "    if check_prime_number(k) and check_prime_number(k+2):\n",
        "      print(\"Pair Prime Numbers\",k,k+2)\n",
        "\n",
        "print_prime_pairs(n)"
      ],
      "metadata": {
        "id": "PtFDi6LQF6IF",
        "colab": {
          "base_uri": "https://localhost:8080/"
        },
        "outputId": "306565ca-47c1-4819-cd8c-f3b0904ce32c"
      },
      "execution_count": null,
      "outputs": [
        {
          "output_type": "stream",
          "name": "stdout",
          "text": [
            "Enter the Max Range :- 1000\n",
            "Pair Prime Numbers 3 5\n",
            "Pair Prime Numbers 5 7\n",
            "Pair Prime Numbers 11 13\n",
            "Pair Prime Numbers 17 19\n",
            "Pair Prime Numbers 29 31\n",
            "Pair Prime Numbers 41 43\n",
            "Pair Prime Numbers 59 61\n",
            "Pair Prime Numbers 71 73\n",
            "Pair Prime Numbers 101 103\n",
            "Pair Prime Numbers 107 109\n",
            "Pair Prime Numbers 137 139\n",
            "Pair Prime Numbers 149 151\n",
            "Pair Prime Numbers 179 181\n",
            "Pair Prime Numbers 191 193\n",
            "Pair Prime Numbers 197 199\n",
            "Pair Prime Numbers 227 229\n",
            "Pair Prime Numbers 239 241\n",
            "Pair Prime Numbers 269 271\n",
            "Pair Prime Numbers 281 283\n",
            "Pair Prime Numbers 311 313\n",
            "Pair Prime Numbers 347 349\n",
            "Pair Prime Numbers 419 421\n",
            "Pair Prime Numbers 431 433\n",
            "Pair Prime Numbers 461 463\n",
            "Pair Prime Numbers 521 523\n",
            "Pair Prime Numbers 569 571\n",
            "Pair Prime Numbers 599 601\n",
            "Pair Prime Numbers 617 619\n",
            "Pair Prime Numbers 641 643\n",
            "Pair Prime Numbers 659 661\n",
            "Pair Prime Numbers 809 811\n",
            "Pair Prime Numbers 821 823\n",
            "Pair Prime Numbers 827 829\n",
            "Pair Prime Numbers 857 859\n",
            "Pair Prime Numbers 881 883\n"
          ]
        }
      ]
    },
    {
      "cell_type": "code",
      "source": [
        "#2) Write a program to find out the prime factorization of a number. Example: prime factorization  of 56 2 × 2 × 2 × 7\n",
        "#1) We will divide the number until it becomes 1\n"
      ],
      "metadata": {
        "id": "3pjgzuZRR-uV"
      },
      "execution_count": null,
      "outputs": []
    },
    {
      "cell_type": "code",
      "source": [
        "n=int(input(\"Enter the Number for prime factorization\"))\n",
        "\n",
        "def prime_factors(num):\n",
        "  factors=[]\n",
        "  divisor=2\n",
        "  while num>1:\n",
        "    while num%divisor==0:\n",
        "      num=num/divisor\n",
        "      factors.append(str(divisor))\n",
        "    divisor=divisor+1\n",
        "  return factors\n",
        "\n",
        "def show_prime_factorization(n):\n",
        "  factors=prime_factors(n)\n",
        "  return \"x\".join(factors)\n",
        "\n",
        "show_prime_factorization(83)"
      ],
      "metadata": {
        "id": "aOh2zHK5F6KV",
        "colab": {
          "base_uri": "https://localhost:8080/",
          "height": 52
        },
        "outputId": "a229fb4d-45fc-4d0b-c9bd-b59639ae3238"
      },
      "execution_count": null,
      "outputs": [
        {
          "name": "stdout",
          "output_type": "stream",
          "text": [
            "Enter the Number for prime factorization83\n"
          ]
        },
        {
          "output_type": "execute_result",
          "data": {
            "text/plain": [
              "'83'"
            ],
            "application/vnd.google.colaboratory.intrinsic+json": {
              "type": "string"
            }
          },
          "metadata": {},
          "execution_count": 20
        }
      ]
    },
    {
      "cell_type": "code",
      "source": [
        "#two different numbers are called amicable numbers if the sum of the proper divisors of each is equal to the other number. For example 220 and 284 are amicable numbers.\n",
        "# get all divisors of both numbers\n",
        "# check if sum is equal to orginal number"
      ],
      "metadata": {
        "id": "MEbhUTOaXVOP"
      },
      "execution_count": null,
      "outputs": []
    },
    {
      "cell_type": "code",
      "source": [
        "x=int(input(\"Enter first number \"))\n",
        "y=int(input(\"Enter second number \"))\n",
        "\n",
        "def get_proper_divisors_sum(num):\n",
        "  sum=0\n",
        "  for k in range(1,num):\n",
        "    if num%k==0:\n",
        "      sum=sum+k\n",
        "  return sum\n",
        "\n",
        "\n",
        "def check_ambicale_numbers(x,y):\n",
        "  if get_proper_divisors_sum(x)==y and get_proper_divisors_sum(y)==x:\n",
        "    print(\"These are ambicale numbers\",x,y)\n",
        "  else:\n",
        "    print(\"Not ambicale number\")\n",
        "\n",
        "check_ambicale_numbers(x,y)\n",
        "#1184, 1210"
      ],
      "metadata": {
        "id": "uT0JLiD2F6M-",
        "colab": {
          "base_uri": "https://localhost:8080/"
        },
        "outputId": "b3160530-c823-4f6f-fcc6-179cd9c5a549"
      },
      "execution_count": null,
      "outputs": [
        {
          "output_type": "stream",
          "name": "stdout",
          "text": [
            "Enter first number 6\n",
            "Enter second number 9\n",
            "Not ambicale number\n"
          ]
        }
      ]
    },
    {
      "cell_type": "code",
      "execution_count": null,
      "metadata": {
        "id": "YhMtyTq3FK9Y",
        "colab": {
          "base_uri": "https://localhost:8080/"
        },
        "outputId": "2551fa08-2f46-421e-85b7-9ab46f092048"
      },
      "outputs": [
        {
          "output_type": "stream",
          "name": "stdout",
          "text": [
            "['1', 2, 5, 10, 1]\n",
            "[1, 2, 5, 10, '1']\n"
          ]
        }
      ],
      "source": [
        "# swap 1st and last element of list\n",
        "a=[1,2,5,10,'1']\n",
        "# remove functions work on values which we might not know\n",
        "# pop works at indexs more suitable\n",
        "# clear removes everything from list which is not suggested\n",
        "def swap_elements(list_temp):\n",
        "  first=list_temp.pop(0)\n",
        "  last=list_temp.pop(-1)\n",
        "  list_temp.insert(0,last)\n",
        "  list_temp.append(first)\n",
        "  print(list_temp)\n",
        "\n",
        "swap_elements(a.copy())\n",
        "print(a)"
      ]
    },
    {
      "cell_type": "code",
      "source": [
        "# swap 1st and last element of list\n",
        "a=[1,2,5,10,'1']\n",
        "\n",
        "def swap_elements(list_temp):\n",
        "  list_temp[0],list_temp[-1]=list_temp[-1],list_temp[0]\n",
        "  return list_temp\n",
        "\n",
        "swap_elements(a)"
      ],
      "metadata": {
        "colab": {
          "base_uri": "https://localhost:8080/"
        },
        "id": "tTTdCAA7hpq4",
        "outputId": "cb92d3a0-5158-4959-803d-b6ad349f3540"
      },
      "execution_count": null,
      "outputs": [
        {
          "output_type": "execute_result",
          "data": {
            "text/plain": [
              "['1', 2, 5, 10, 1]"
            ]
          },
          "metadata": {},
          "execution_count": 38
        }
      ]
    }
  ]
}