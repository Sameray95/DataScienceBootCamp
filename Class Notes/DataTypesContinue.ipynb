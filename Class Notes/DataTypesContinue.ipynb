{
  "nbformat": 4,
  "nbformat_minor": 0,
  "metadata": {
    "colab": {
      "provenance": []
    },
    "kernelspec": {
      "name": "python3",
      "display_name": "Python 3"
    },
    "language_info": {
      "name": "python"
    }
  },
  "cells": [
    {
      "cell_type": "code",
      "execution_count": null,
      "metadata": {
        "colab": {
          "base_uri": "https://localhost:8080/"
        },
        "id": "ZRaZDD3e5qR9",
        "outputId": "d7e73159-2a0d-4ee1-dd02-457b46d171b1"
      },
      "outputs": [
        {
          "output_type": "stream",
          "name": "stdout",
          "text": [
            "31\n",
            "Peppa\n",
            "prefer\n",
            "python\n",
            "programming\n"
          ]
        }
      ],
      "source": [
        "str1= \"Peppa prefer python programming\"\n",
        "print(len(str1))\n",
        "print(str1[0:5:1])\n",
        "print(str1[6:12:1])\n",
        "print(str1[13:19:1])\n",
        "print(str1[20:31:1])"
      ]
    },
    {
      "cell_type": "code",
      "source": [
        "str1='SrinivasaRamanujanAiyangar'\n",
        "\n",
        "print(str1[::1]) #prints forward\n",
        "print(str1[::-1]) #prints backward\n",
        "\n",
        "str1[-1:-9:-1], str1[-9:-18:-1], str1[-18::-1]\n"
      ],
      "metadata": {
        "colab": {
          "base_uri": "https://localhost:8080/"
        },
        "id": "S-ZHDJDm9FSS",
        "outputId": "478e342c-7896-4293-ea5d-baac1aad83f7"
      },
      "execution_count": null,
      "outputs": [
        {
          "output_type": "stream",
          "name": "stdout",
          "text": [
            "SrinivasaRamanujanAiyangar\n",
            "ragnayiAnajunamaRasavinirS\n"
          ]
        },
        {
          "output_type": "execute_result",
          "data": {
            "text/plain": [
              "('ragnayiA', 'najunamaR', 'asavinirS')"
            ]
          },
          "metadata": {},
          "execution_count": 20
        }
      ]
    },
    {
      "cell_type": "code",
      "source": [
        "str1= \"Peppa prefer python programming\"\n",
        "\n",
        "str1[-1:-12:-1],str1[-12:-19:-1],str1[-19:-26:-1],str1[-26:-33:-1]\n"
      ],
      "metadata": {
        "colab": {
          "base_uri": "https://localhost:8080/"
        },
        "id": "AXvzfkR4AP5z",
        "outputId": "4898416c-bcbf-46d8-ae9a-25f6eeccd852"
      },
      "execution_count": null,
      "outputs": [
        {
          "output_type": "execute_result",
          "data": {
            "text/plain": [
              "('gnimmargorp', ' nohtyp', ' referp', ' appeP')"
            ]
          },
          "metadata": {},
          "execution_count": 53
        }
      ]
    },
    {
      "cell_type": "code",
      "source": [
        "str1 = 'VenkataNarasimhaRajuvaripeta'\n",
        "\n",
        "print(str1)\n",
        "print(type(str1))\n",
        "print(len(str1))\n",
        "\n",
        "print('Negative slicing')\n",
        "\n",
        "str1[-1:-13:-1], str1[-13:-22:-1], str1[-22:-29:-1]\n"
      ],
      "metadata": {
        "colab": {
          "base_uri": "https://localhost:8080/"
        },
        "id": "bt6NIGAXB5jK",
        "outputId": "a6097617-f2c3-4a76-80d8-81479cef2757"
      },
      "execution_count": null,
      "outputs": [
        {
          "output_type": "stream",
          "name": "stdout",
          "text": [
            "VenkataNarasimhaRajuvaripeta\n",
            "<class 'str'>\n",
            "28\n",
            "Negative slicing\n"
          ]
        },
        {
          "output_type": "execute_result",
          "data": {
            "text/plain": [
              "('atepiravujaR', 'ahmisaraN', 'atakneV')"
            ]
          },
          "metadata": {},
          "execution_count": 43
        }
      ]
    },
    {
      "cell_type": "code",
      "source": [
        "#+ve indexing and -ve slicing\n",
        "str1 = 'VenkataNarasimhaRajuvaripeta'\n",
        "\n",
        "str1[6::-1], str1[15:6:-1], str1[27:15:-1]"
      ],
      "metadata": {
        "colab": {
          "base_uri": "https://localhost:8080/"
        },
        "id": "EuqjirggD5I7",
        "outputId": "f1f4f3b8-311d-47f4-9ecd-931165f92942"
      },
      "execution_count": null,
      "outputs": [
        {
          "output_type": "execute_result",
          "data": {
            "text/plain": [
              "('atakneV', 'ahmisaraN', 'atepiravujaR')"
            ]
          },
          "metadata": {},
          "execution_count": 54
        }
      ]
    },
    {
      "cell_type": "code",
      "source": [
        "str1= \"Peppa prefer python programming\"\n",
        "\n",
        "str1[5::-1],str1[12:5:-1],str1[19:12:-1],str1[31:19:-1]\n"
      ],
      "metadata": {
        "colab": {
          "base_uri": "https://localhost:8080/"
        },
        "id": "l5Q3-kMrHuP0",
        "outputId": "9d5862ed-f1db-47e5-a75f-05b7561cd66a"
      },
      "execution_count": null,
      "outputs": [
        {
          "output_type": "execute_result",
          "data": {
            "text/plain": [
              "(' appeP', ' referp', ' nohtyp', 'gnimmargorp')"
            ]
          },
          "metadata": {},
          "execution_count": 58
        }
      ]
    },
    {
      "cell_type": "code",
      "source": [
        "#-ve indexing and +ve slicing\n",
        "str1='SrinivasaRamanujanAiyangar'\n",
        "str1[-26:-17:1],str1[-17:-9:1],str1[-8::1]\n",
        "\n",
        "\n",
        "str1 = 'VenkataNarasimhaRajuvaripeta'\n",
        "str1[-28:-21], str1[-21:-12],str1[-12:]"
      ],
      "metadata": {
        "colab": {
          "base_uri": "https://localhost:8080/"
        },
        "id": "p0wjgaXmJtFL",
        "outputId": "7e0502d1-ae0d-4e83-ebc6-63480729784a"
      },
      "execution_count": null,
      "outputs": [
        {
          "output_type": "execute_result",
          "data": {
            "text/plain": [
              "('Venkata', 'Narasimha', 'Rajuvaripeta')"
            ]
          },
          "metadata": {},
          "execution_count": 76
        }
      ]
    },
    {
      "cell_type": "code",
      "source": [
        "lst1=['mango','apple','starfruit','avocado','banana','honeydew','melon','cantaloupe','grapes','pears']\n",
        "\n",
        "# +ve indexing +ve slicing\n",
        "lst1[0:10:1]\n",
        "\n",
        "#+ve indexing -ve slicing\n",
        "lst1[:-10:-1]\n",
        "\n",
        "#-ve indexing -ve slicing\n",
        "lst1[-1:-10:-1]\n",
        "\n",
        "#+ve indexing -ve slicing\n",
        "lst1[9::-1]"
      ],
      "metadata": {
        "colab": {
          "base_uri": "https://localhost:8080/"
        },
        "id": "41xMJezHNj7E",
        "outputId": "5b725f09-dfc8-4bc4-8d05-06bac6788ffa"
      },
      "execution_count": null,
      "outputs": [
        {
          "output_type": "execute_result",
          "data": {
            "text/plain": [
              "['pears',\n",
              " 'grapes',\n",
              " 'cantaloupe',\n",
              " 'melon',\n",
              " 'honeydew',\n",
              " 'banana',\n",
              " 'avocado',\n",
              " 'starfruit',\n",
              " 'apple',\n",
              " 'mango']"
            ]
          },
          "metadata": {},
          "execution_count": 99
        }
      ]
    },
    {
      "cell_type": "code",
      "source": [
        "\n",
        "tup1=('mango','apple','starfruit','avocado','banana','honeydew','melon','cantaloupe','grapes','pears')\n",
        "\n",
        "print(type(lst1))\n",
        "\n",
        "# +ve indexing +ve slicing\n",
        "tup1[0:10:1]\n",
        "\n",
        "#+ve indexing -ve slicing\n",
        "tup1[:-10:-1]\n",
        "\n",
        "#-ve indexing -ve slicing\n",
        "tup1[-1:-10:-1]\n",
        "\n",
        "#+ve indexing -ve slicing\n",
        "tup1[9::-1]"
      ],
      "metadata": {
        "colab": {
          "base_uri": "https://localhost:8080/"
        },
        "id": "SIJ3cwOjSN9K",
        "outputId": "b7c16fc9-fd03-4d8e-d075-e3a828c048e7"
      },
      "execution_count": null,
      "outputs": [
        {
          "output_type": "stream",
          "name": "stdout",
          "text": [
            "<class 'tuple'>\n"
          ]
        },
        {
          "output_type": "execute_result",
          "data": {
            "text/plain": [
              "('pears',\n",
              " 'grapes',\n",
              " 'cantaloupe',\n",
              " 'melon',\n",
              " 'honeydew',\n",
              " 'banana',\n",
              " 'avocado',\n",
              " 'starfruit',\n",
              " 'apple',\n",
              " 'mango')"
            ]
          },
          "metadata": {},
          "execution_count": 121
        }
      ]
    }
  ]
}