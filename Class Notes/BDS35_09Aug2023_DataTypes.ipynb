{
  "nbformat": 4,
  "nbformat_minor": 0,
  "metadata": {
    "colab": {
      "provenance": []
    },
    "kernelspec": {
      "name": "python3",
      "display_name": "Python 3"
    },
    "language_info": {
      "name": "python"
    }
  },
  "cells": [
    {
      "cell_type": "markdown",
      "source": [
        "  1. Standard Data Type\n",
        "    1. Numbers\n",
        "      1. Integer\n",
        "      2. Float\n",
        "      3. Complex\n",
        "    2. Boolean\n",
        "    3. String\n",
        "  2. Data Structure Data Type\n",
        "    1. List\n",
        "    2. Tuple\n",
        "    3. Set\n",
        "    4. Dictionary"
      ],
      "metadata": {
        "id": "Oe36-aSUwuOY"
      }
    },
    {
      "cell_type": "code",
      "execution_count": null,
      "metadata": {
        "colab": {
          "base_uri": "https://localhost:8080/"
        },
        "id": "eyvsjF82wAGa",
        "outputId": "cdfd3a33-2208-44ed-97bf-5109df8addfd"
      },
      "outputs": [
        {
          "output_type": "stream",
          "name": "stdout",
          "text": [
            "1947\n",
            "<class 'int'>\n",
            "-1947\n",
            "<class 'int'>\n",
            "3.1415\n",
            "<class 'float'>\n",
            "-3.1415\n",
            "<class 'float'>\n",
            "(2+3j)\n",
            "<class 'complex'>\n"
          ]
        }
      ],
      "source": [
        "# integer : Any whole number (+ve or -ve)\n",
        "int1= 1947\n",
        "print(int1)\n",
        "print(type(int1))\n",
        "\n",
        "int1= -1947\n",
        "print(int1)\n",
        "print(type(int1))\n",
        "\n",
        "#float any combination of whole number and fractional number _ve or +ve\n",
        "\n",
        "flt1= 3.1415\n",
        "print(flt1)\n",
        "print(type(flt1))\n",
        "\n",
        "flt1= -3.1415\n",
        "print(flt1)\n",
        "print(type(flt1))\n",
        "\n",
        "#complex: combination of integer or float or imaginary number +ve or -ve\n",
        "\n",
        "complx1= 2 +3j\n",
        "print(complx1)\n",
        "print(type(complx1))\n",
        "\n",
        "complx2= -2 -3j\n",
        "print(complx1)\n",
        "print(type(complx2))"
      ]
    },
    {
      "cell_type": "code",
      "source": [
        "#Boolean : True and False\n",
        "bool1= True\n",
        "print(bool1)\n",
        "print(type(bool1))\n",
        "\n",
        "bool2= False\n",
        "print(bool1)\n",
        "print(type(bool2))"
      ],
      "metadata": {
        "colab": {
          "base_uri": "https://localhost:8080/"
        },
        "id": "nz1gMDSmy1Ov",
        "outputId": "65423864-1432-4a39-a764-fe84c3c36da5"
      },
      "execution_count": null,
      "outputs": [
        {
          "output_type": "stream",
          "name": "stdout",
          "text": [
            "True\n",
            "<class 'bool'>\n"
          ]
        }
      ]
    },
    {
      "cell_type": "code",
      "source": [
        "#String:\n",
        "# any combination inside single or double quotes\n",
        "# any combination inside triple single quotes\n",
        "# any combination inside triple double quotes\n",
        "\n",
        "str1= 'Python Programming'\n",
        "print(str1)\n",
        "print (type(str1))\n",
        "\n",
        "str1= \"Python Programming\"\n",
        "print(str1)\n",
        "print (type(str1))\n",
        "\n",
        "\n",
        "str2= '''Python Programming'''\n",
        "print(str2)\n",
        "print (type(str2))\n",
        "\n",
        "str3= \"\"\"Python Programming\"\"\"\n",
        "print(str3)\n",
        "print (type(str3))\n",
        "\n",
        "#more examples on strings\n",
        "\n",
        "str4= 'Hey there. ' \"Do you mind showing some examples of string data type of Python? \"  \"\"\" I am confused.\"\"\"\n",
        "print(str4)\n",
        "print (type(str4))"
      ],
      "metadata": {
        "colab": {
          "base_uri": "https://localhost:8080/"
        },
        "id": "HPVioKk2zL3o",
        "outputId": "aea9a7aa-6dd9-43ed-b8ba-e717f409085f"
      },
      "execution_count": null,
      "outputs": [
        {
          "output_type": "stream",
          "name": "stdout",
          "text": [
            "Python Programming\n",
            "<class 'str'>\n",
            "Python Programming\n",
            "<class 'str'>\n",
            "Python Programming\n",
            "<class 'str'>\n",
            "Python Programming\n",
            "<class 'str'>\n",
            "Hey there. Do you mind showing some examples of string data type of Python?  I am confused.\n",
            "<class 'str'>\n"
          ]
        }
      ]
    },
    {
      "cell_type": "code",
      "source": [
        "#list: Combination of\n",
        "\n",
        "#1. Represented by square bracket []\n",
        "#2. List is mutable i.e. can be changed or manipulated\n",
        "\n",
        "lst1= [12,23,32,43,56]\n",
        "print(lst1)\n",
        "print(type(lst1))\n"
      ],
      "metadata": {
        "colab": {
          "base_uri": "https://localhost:8080/"
        },
        "id": "XQdVi2oA4hB8",
        "outputId": "51aca4cf-e4d5-428d-e05b-7c3e341af8a8"
      },
      "execution_count": null,
      "outputs": [
        {
          "output_type": "stream",
          "name": "stdout",
          "text": [
            "[12, 23, 32, 43, 56]\n",
            "<class 'list'>\n"
          ]
        }
      ]
    },
    {
      "cell_type": "code",
      "source": [
        "#tuple\n",
        "#1. Represented by circular bracket ()\n",
        "#2. List is inmutable i.e. can't be changed or manipulated\n",
        "\n",
        "tup1= (1,2,3,4,5,6,7)\n",
        "print(tup1)\n",
        "print(type(tup1))\n"
      ],
      "metadata": {
        "colab": {
          "base_uri": "https://localhost:8080/"
        },
        "id": "bB6UkF2Y5faP",
        "outputId": "4c94dbf5-3a2d-452a-ddd6-bb0c90d7bce3"
      },
      "execution_count": null,
      "outputs": [
        {
          "output_type": "stream",
          "name": "stdout",
          "text": [
            "(1, 2, 3, 4, 5, 6, 7)\n",
            "<class 'tuple'>\n"
          ]
        }
      ]
    },
    {
      "cell_type": "code",
      "source": [
        "#set:\n",
        "#1. combination of unique values\n",
        "#2. collection of unordered elements i.e some random values\n",
        "#3. represented by curly brackets { }\n",
        "#4. Mutable\n",
        "set1= {'a', 'b', 'D',  1,2,3,4,'!', 'a', 'b', 'D',  1,2,3,4,'!' ,'#','@'}\n",
        "print(set1)\n",
        "print(type(set1))\n"
      ],
      "metadata": {
        "colab": {
          "base_uri": "https://localhost:8080/"
        },
        "id": "cN4-ETUs58p-",
        "outputId": "4c1545b2-07eb-4534-c75e-be19495bdc09"
      },
      "execution_count": null,
      "outputs": [
        {
          "output_type": "stream",
          "name": "stdout",
          "text": [
            "{1, 2, 3, 4, 'D', 'b', '!', 'a'}\n",
            "<class 'set'>\n"
          ]
        }
      ]
    },
    {
      "cell_type": "code",
      "source": [
        "#dictionary: unordered collections of key value pairs, below a is key and apple is value and so on\n",
        "\n",
        "dict1= { 'a':'apple',\n",
        "         'b': 'ball',\n",
        "         'c':'cat'}\n",
        "print(dict1)\n",
        "print(type(dict1))\n"
      ],
      "metadata": {
        "colab": {
          "base_uri": "https://localhost:8080/"
        },
        "id": "jbo61egr_hik",
        "outputId": "2cd00eb1-8363-4272-c298-70a9b0199a74"
      },
      "execution_count": null,
      "outputs": [
        {
          "output_type": "stream",
          "name": "stdout",
          "text": [
            "{'a': 'apple', 'b': 'ball', 'c': 'cat'}\n",
            "<class 'dict'>\n"
          ]
        }
      ]
    },
    {
      "cell_type": "code",
      "source": [],
      "metadata": {
        "id": "6UBoaHQDEOl8"
      },
      "execution_count": null,
      "outputs": []
    },
    {
      "cell_type": "code",
      "source": [],
      "metadata": {
        "id": "fcVPM40hESjx"
      },
      "execution_count": null,
      "outputs": []
    },
    {
      "cell_type": "code",
      "source": [
        "#creation of list, set & tuple and set using all data types\n",
        "\n",
        "#List\n",
        "lst1= ['ram', 1,2+3j,'D', '#','ram', 1,2,3,'D', '#','me',True, False]\n",
        "print(tup1)\n",
        "print(type(lst1))\n",
        "\n",
        "#tuple\n",
        "tup1= ('hey',1,2.56,3,4+3j,'Hello','hey',1,2,3,4,'Hello',True, False )\n",
        "print(tup1)\n",
        "print(type(tup1) )\n",
        "\n",
        "#set\n",
        "set1= {1.2, 3,2,'hello world',3+5j,1.2, 3,2,'hello world',3+5j, 0 , True, False, } # removes duplicate value,, true or 1 is only displayed\n",
        "print (set1)\n",
        "print(type(set1))"
      ],
      "metadata": {
        "colab": {
          "base_uri": "https://localhost:8080/"
        },
        "id": "p2VUzbNm7QiD",
        "outputId": "5d541681-d00c-45b3-f50e-24a169363083"
      },
      "execution_count": null,
      "outputs": [
        {
          "output_type": "stream",
          "name": "stdout",
          "text": [
            "('hey', 1, 2.56, 3, (4+3j), 'Hello', 'hey', 1, 2, 3, 4, 'Hello', True, False)\n",
            "<class 'list'>\n",
            "('hey', 1, 2.56, 3, (4+3j), 'Hello', 'hey', 1, 2, 3, 4, 'Hello', True, False)\n",
            "<class 'tuple'>\n",
            "{0, 1.2, 2, 3, True, (3+5j), 'hello world'}\n",
            "<class 'set'>\n"
          ]
        }
      ]
    },
    {
      "cell_type": "code",
      "source": [
        "#index of a string\n",
        "str1='sameer neupane'\n",
        "print(str1)\n",
        "print(type(str1))\n",
        "print(len(str1))\n",
        "\n",
        "print(str1[0])\n",
        "print(str1[1])\n",
        "print(str1[2])\n",
        "print(str1[3])\n",
        "print(str1[4])\n",
        "print(str1[5])\n",
        "print(str1[6])\n",
        "print(str1[12])\n",
        "\n",
        "\n",
        "str1[0:6:1],str1[7:14:1]\n"
      ],
      "metadata": {
        "colab": {
          "base_uri": "https://localhost:8080/"
        },
        "id": "lNHpfGDsBh_6",
        "outputId": "ef190b2c-0cd9-4775-b9db-0f7c17d6b616"
      },
      "execution_count": null,
      "outputs": [
        {
          "output_type": "stream",
          "name": "stdout",
          "text": [
            "sameer neupane\n",
            "<class 'str'>\n",
            "14\n",
            "s\n",
            "a\n",
            "m\n",
            "e\n",
            "e\n",
            "r\n",
            " \n",
            "n\n"
          ]
        },
        {
          "output_type": "execute_result",
          "data": {
            "text/plain": [
              "('sameer', 'neupane')"
            ]
          },
          "metadata": {},
          "execution_count": 42
        }
      ]
    },
    {
      "cell_type": "code",
      "source": [
        "str2=\"Hello Sameer, How are you?\"\n",
        "print(len(str2))\n",
        "print(str2[0])\n",
        "print(str2[1])\n",
        "print(str2[2])\n",
        "print(str2[3])\n",
        "print(str2[4])\n",
        "print(str2[5])\n",
        "print(str2[6])\n",
        "print(str2[7])\n",
        "print(str2[8])\n",
        "print(str2[9])\n",
        "print(str2[10])\n",
        "print(str2[11])\n",
        "print(str2[12])\n",
        "print(str2[13])\n",
        "print(str2[14])\n",
        "print(str2[15])\n",
        "print(str2[16])\n",
        "print(str2[17])\n",
        "print(str2[18])\n",
        "print(str2[19])\n",
        "print(str2[20])\n",
        "print(str2[21])\n",
        "print(str2[22])\n",
        "print(str2[23])\n",
        "print(str2[24])\n",
        "print(str2[25])\n",
        "\n",
        "\n",
        "str2[0:5:1], str2[6:12:1],str2[14:17:1],str2[18:21:1]\n",
        "\n",
        "str2[::]\n",
        "str2[0::]\n",
        "str2[:len(str2):]\n",
        "#index:Length:escapevalue\n",
        "\n"
      ],
      "metadata": {
        "colab": {
          "base_uri": "https://localhost:8080/",
          "height": 504
        },
        "id": "eWtbJ9D4F33l",
        "outputId": "9fc86bab-72a4-48e6-abd7-a464da0e7989"
      },
      "execution_count": null,
      "outputs": [
        {
          "output_type": "stream",
          "name": "stdout",
          "text": [
            "26\n",
            "H\n",
            "e\n",
            "l\n",
            "l\n",
            "o\n",
            " \n",
            "S\n",
            "a\n",
            "m\n",
            "e\n",
            "e\n",
            "r\n",
            ",\n",
            " \n",
            "H\n",
            "o\n",
            "w\n",
            " \n",
            "a\n",
            "r\n",
            "e\n",
            " \n",
            "y\n",
            "o\n",
            "u\n",
            "?\n"
          ]
        },
        {
          "output_type": "execute_result",
          "data": {
            "text/plain": [
              "'Hello Sameer, How are you?'"
            ],
            "application/vnd.google.colaboratory.intrinsic+json": {
              "type": "string"
            }
          },
          "metadata": {},
          "execution_count": 1
        }
      ]
    },
    {
      "cell_type": "code",
      "source": [
        "str3='Hello world, How are you?'\n",
        "\n",
        "print(str3[::])\n",
        "print(str3[0::])\n",
        "print(str3[:len(str3):])\n",
        "print(str3[0:5:1])\n",
        "print(str3[6:12:1])\n",
        "print(str3[13:16])\n",
        "print(str3[17:20])\n",
        "print(str3[21:25])"
      ],
      "metadata": {
        "colab": {
          "base_uri": "https://localhost:8080/"
        },
        "id": "r-sPORZbJ9gg",
        "outputId": "147ee817-87b6-4538-df23-6a199db97872"
      },
      "execution_count": null,
      "outputs": [
        {
          "output_type": "stream",
          "name": "stdout",
          "text": [
            "Hello world, How are you?\n",
            "Hello world, How are you?\n",
            "Hello world, How are you?\n",
            "Hello\n",
            "world,\n",
            "How\n",
            "are\n",
            "you?\n"
          ]
        }
      ]
    }
  ]
}