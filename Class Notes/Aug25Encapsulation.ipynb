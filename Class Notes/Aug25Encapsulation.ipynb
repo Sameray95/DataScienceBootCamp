{
  "nbformat": 4,
  "nbformat_minor": 0,
  "metadata": {
    "colab": {
      "provenance": []
    },
    "kernelspec": {
      "name": "python3",
      "display_name": "Python 3"
    },
    "language_info": {
      "name": "python"
    }
  },
  "cells": [
    {
      "cell_type": "markdown",
      "source": [
        "**Friday August 25, 2023**\n",
        "Encapsulation is used to restrict access to methods and variables. In encapsulation, code and data are wrapped together within a single unit from being modified by accident. Encapsulation is a mechanism of wrapping the data (variables) and code acting on the data (methods) together as a single unit."
      ],
      "metadata": {
        "id": "eI0fIZ5TNpL6"
      }
    },
    {
      "cell_type": "code",
      "source": [
        "# Encapsulation\n",
        "\n",
        "class transport:\n",
        "\n",
        "  def __init__(self, brand, model, year):\n",
        "    self.brandofvehicle = brand\n",
        "    self.modelofvehicle = model\n",
        "    self.yearofmfg = year\n",
        "\n",
        "  def print_details(self):\n",
        "    print(self.brandofvehicle,self.modelofvehicle,self.yearofmfg)"
      ],
      "metadata": {
        "id": "yXv6FYfwNxNS"
      },
      "execution_count": null,
      "outputs": []
    },
    {
      "cell_type": "code",
      "source": [
        "obj1 = transport('Toyota', 'Camry', '2023')"
      ],
      "metadata": {
        "id": "wKOcRouZOExq"
      },
      "execution_count": null,
      "outputs": []
    },
    {
      "cell_type": "code",
      "source": [
        "obj1.print_details()"
      ],
      "metadata": {
        "colab": {
          "base_uri": "https://localhost:8080/"
        },
        "id": "C5DqDOubONBS",
        "outputId": "96b5515b-83a7-4e50-8d6a-c6dc6104ece0"
      },
      "execution_count": null,
      "outputs": [
        {
          "output_type": "stream",
          "name": "stdout",
          "text": [
            "Toyota Camry 2023\n"
          ]
        }
      ]
    },
    {
      "cell_type": "code",
      "source": [
        "\n",
        "class Animal:\n",
        "  def __init__(self, name, sound, ):\n",
        "    self.name= name\n",
        "    self.sound= sound\n",
        "  def PrintDetails(self):\n",
        "    print(self.name,self.sound)\n"
      ],
      "metadata": {
        "id": "95jXjvK3Onfi"
      },
      "execution_count": null,
      "outputs": []
    },
    {
      "cell_type": "code",
      "source": [
        "class Mammal(Animal):\n",
        "  def __init__ (self, move):\n",
        "    self.move= move\n",
        "  def PrintMoveDetails(self):\n",
        "    print(self.move)\n"
      ],
      "metadata": {
        "id": "APCkJFSQPUD7"
      },
      "execution_count": null,
      "outputs": []
    },
    {
      "cell_type": "code",
      "source": [
        "obj1= Animal('cow','mooo',)\n",
        "obj2= Mammal('walk')"
      ],
      "metadata": {
        "id": "D_OArL84QNDz"
      },
      "execution_count": null,
      "outputs": []
    },
    {
      "cell_type": "code",
      "source": [
        "obj1.PrintDetails()\n",
        "obj2.PrintMoveDetails()"
      ],
      "metadata": {
        "colab": {
          "base_uri": "https://localhost:8080/"
        },
        "id": "vg20KK3WQ-Dr",
        "outputId": "415af639-4abe-4ed8-8d5f-ab8fb3328521"
      },
      "execution_count": null,
      "outputs": [
        {
          "output_type": "stream",
          "name": "stdout",
          "text": [
            "cow mooo\n",
            "walk\n"
          ]
        }
      ]
    },
    {
      "cell_type": "code",
      "source": [
        "class Students:\n",
        "   def __init__(self, name, rank, points):\n",
        "      self.name = name\n",
        "      self.rank = rank\n",
        "      self.points = points\n",
        "\n",
        "   # custom function\n",
        "   def demofunc(self):\n",
        "      print(\"I am \"+self.name)\n",
        "      print(\"I got Rank \",+self.rank)\n",
        "\n",
        "# create 4 objects\n",
        "st1 = Students(\"Steve\", 1, 100)\n",
        "st2 = Students(\"Chris\", 2, 90)\n",
        "st3 = Students(\"Mark\", 3, 76)\n",
        "st4 = Students(\"Kate\", 4, 60)\n",
        "\n",
        "# call the functions using the objects created above\n",
        "st1.demofunc()\n",
        "st2.demofunc()\n",
        "st3.demofunc()\n",
        "st4.demofunc()"
      ],
      "metadata": {
        "colab": {
          "base_uri": "https://localhost:8080/"
        },
        "id": "-Sjd-hYXRp6r",
        "outputId": "fb5508a6-546f-48d8-d94c-1a07b63c3301"
      },
      "execution_count": null,
      "outputs": [
        {
          "output_type": "stream",
          "name": "stdout",
          "text": [
            "I am Steve\n",
            "I got Rank  1\n",
            "I am Chris\n",
            "I got Rank  2\n",
            "I am Mark\n",
            "I got Rank  3\n",
            "I am Kate\n",
            "I got Rank  4\n"
          ]
        }
      ]
    },
    {
      "cell_type": "markdown",
      "source": [],
      "metadata": {
        "id": "_IPuBcraT4LC"
      }
    },
    {
      "cell_type": "markdown",
      "source": [
        "\n",
        "\n",
        "\n",
        "#**Exception Handling**\n",
        "\n",
        "      1. Build-in Exception\n",
        "      2. User Define Exception"
      ],
      "metadata": {
        "id": "3LzWhhYQSS61"
      }
    },
    {
      "cell_type": "code",
      "source": [
        "f = open('MyTextFile.Txt', 'x')\n"
      ],
      "metadata": {
        "colab": {
          "base_uri": "https://localhost:8080/",
          "height": 175
        },
        "id": "-Hmnj3MjUTRR",
        "outputId": "295b6f27-cacf-4fcc-842f-90605b2732b8"
      },
      "execution_count": null,
      "outputs": [
        {
          "output_type": "error",
          "ename": "FileExistsError",
          "evalue": "ignored",
          "traceback": [
            "\u001b[0;31m---------------------------------------------------------------------------\u001b[0m",
            "\u001b[0;31mFileExistsError\u001b[0m                           Traceback (most recent call last)",
            "\u001b[0;32m<ipython-input-34-4e18acdc8ae7>\u001b[0m in \u001b[0;36m<cell line: 1>\u001b[0;34m()\u001b[0m\n\u001b[0;32m----> 1\u001b[0;31m \u001b[0mf\u001b[0m \u001b[0;34m=\u001b[0m \u001b[0mopen\u001b[0m\u001b[0;34m(\u001b[0m\u001b[0;34m'MyTextFile.Txt'\u001b[0m\u001b[0;34m,\u001b[0m \u001b[0;34m'x'\u001b[0m\u001b[0;34m)\u001b[0m\u001b[0;34m\u001b[0m\u001b[0;34m\u001b[0m\u001b[0m\n\u001b[0m",
            "\u001b[0;31mFileExistsError\u001b[0m: [Errno 17] File exists: 'MyTextFile.Txt'"
          ]
        }
      ]
    },
    {
      "cell_type": "code",
      "source": [
        "f = open('MyTextFile.Txt1', 'r')\n"
      ],
      "metadata": {
        "id": "seLj4bmdUe6a"
      },
      "execution_count": null,
      "outputs": []
    },
    {
      "cell_type": "code",
      "source": [
        "try:\n",
        "  f = open('MyTextFile.Txt1', 'r')\n",
        "except Exception as e:\n",
        "    print('Exception ', e)\n"
      ],
      "metadata": {
        "colab": {
          "base_uri": "https://localhost:8080/"
        },
        "id": "5xDqvZNlUhiL",
        "outputId": "7a9edcaa-07ea-40b0-cfc5-4c420c5050db"
      },
      "execution_count": null,
      "outputs": [
        {
          "output_type": "stream",
          "name": "stdout",
          "text": [
            "Exception  [Errno 2] No such file or directory: 'MyTextFile.Txt1'\n"
          ]
        }
      ]
    },
    {
      "cell_type": "code",
      "source": [
        "ZeroDivisionError"
      ],
      "metadata": {
        "id": "TmZiLjMkVELq"
      },
      "execution_count": null,
      "outputs": []
    },
    {
      "cell_type": "code",
      "source": [
        "try:\n",
        "  # f = open('myTextFile.txt', 'r')\n",
        "  a = 10/0\n",
        "\n",
        "except FileNotFoundError as fnfe:\n",
        "  print('FileNotFoundError ', fnfe)\n",
        "except ZeroDivisionError as zde:\n",
        "  print('ZeroDivisionError ', zde)\n",
        "except ArithmeticError as ae:\n",
        "  print('ArithmeticError ', ae)\n",
        "except Exception as e:\n",
        "  print('Exception ', e)"
      ],
      "metadata": {
        "colab": {
          "base_uri": "https://localhost:8080/"
        },
        "id": "sUqRSUjPXZ6-",
        "outputId": "2bcbd9a5-5f58-458f-e119-b7b122654888"
      },
      "execution_count": null,
      "outputs": [
        {
          "output_type": "stream",
          "name": "stdout",
          "text": [
            "ZeroDivisionError  division by zero\n"
          ]
        }
      ]
    },
    {
      "cell_type": "code",
      "source": [
        "#WAP with differnet exceptions\n",
        "\n",
        "try:\n",
        "  a= 10/0\n",
        "  age= int(input(\"\"))\n",
        "\n",
        "except ZeroDivisionError as zde:\n",
        "  print('ZeroDivisionError ', zde)"
      ],
      "metadata": {
        "colab": {
          "base_uri": "https://localhost:8080/"
        },
        "id": "lirYB8E4XnOS",
        "outputId": "786b2419-7dcf-40f4-ef09-383c9c3c76aa"
      },
      "execution_count": null,
      "outputs": [
        {
          "output_type": "stream",
          "name": "stdout",
          "text": [
            "ZeroDivisionError  division by zero\n"
          ]
        }
      ]
    },
    {
      "cell_type": "code",
      "source": [
        "try:\n",
        "    f= open ('mytext.txt', 'r')\n",
        "except FileNotFoundError as fnfe:\n",
        "  print('FileNotFoundError ', fnfe)"
      ],
      "metadata": {
        "colab": {
          "base_uri": "https://localhost:8080/"
        },
        "id": "mQ5MqQtXZoki",
        "outputId": "b3d35266-c192-4a86-87a9-3961093bb660"
      },
      "execution_count": null,
      "outputs": [
        {
          "output_type": "stream",
          "name": "stdout",
          "text": [
            "FileNotFoundError  [Errno 2] No such file or directory: 'mytext.txt'\n"
          ]
        }
      ]
    },
    {
      "cell_type": "code",
      "source": [
        "try:\n",
        "    age = int(input(\"Enter your age: \"))\n",
        "except ValueError as ve:\n",
        "    print(\"ValueError:\", ve)\n"
      ],
      "metadata": {
        "colab": {
          "base_uri": "https://localhost:8080/"
        },
        "id": "TLIxCMkmZwDa",
        "outputId": "75056f3d-eb31-46f2-8799-e6795c95dd05"
      },
      "execution_count": null,
      "outputs": [
        {
          "output_type": "stream",
          "name": "stdout",
          "text": [
            "Enter your age: g65\n",
            "ValueError: invalid literal for int() with base 10: 'g65'\n"
          ]
        }
      ]
    },
    {
      "cell_type": "code",
      "source": [
        "try:\n",
        "    my_list = [1, 2, 3]\n",
        "    print(my_list[5])\n",
        "except IndexError as ie:\n",
        "    print(\"IndexError:\", ie)\n"
      ],
      "metadata": {
        "colab": {
          "base_uri": "https://localhost:8080/"
        },
        "id": "W7MBC28oZ8Ck",
        "outputId": "f046e619-b155-4571-899e-b3c446f8874e"
      },
      "execution_count": null,
      "outputs": [
        {
          "output_type": "stream",
          "name": "stdout",
          "text": [
            "IndexError: list index out of range\n"
          ]
        }
      ]
    },
    {
      "cell_type": "code",
      "source": [
        "try:\n",
        "    my_dict = {'key1': 'value1'}\n",
        "    print(my_dict['key2'])\n",
        "except KeyError as ke:\n",
        "    print(\"KeyError:\", ke)\n"
      ],
      "metadata": {
        "colab": {
          "base_uri": "https://localhost:8080/"
        },
        "id": "Q17Pk_slZ_66",
        "outputId": "549805e9-b327-42f4-e6de-37bb53887ecc"
      },
      "execution_count": null,
      "outputs": [
        {
          "output_type": "stream",
          "name": "stdout",
          "text": [
            "KeyError: 'key2'\n"
          ]
        }
      ]
    },
    {
      "cell_type": "code",
      "source": [
        "try:\n",
        "    result = \"2\" + 2\n",
        "except TypeError as te:\n",
        "    print(\"TypeError:\", te)\n"
      ],
      "metadata": {
        "colab": {
          "base_uri": "https://localhost:8080/"
        },
        "id": "6vFiTXptaogD",
        "outputId": "8468efac-39ad-483c-ee1b-3bd18f426e4f"
      },
      "execution_count": null,
      "outputs": [
        {
          "output_type": "stream",
          "name": "stdout",
          "text": [
            "TypeError: can only concatenate str (not \"int\") to str\n"
          ]
        }
      ]
    },
    {
      "cell_type": "code",
      "source": [
        "class User_Defined_Exception (Exception):\n",
        "  pass"
      ],
      "metadata": {
        "id": "KarU98n5ezWz"
      },
      "execution_count": null,
      "outputs": []
    },
    {
      "cell_type": "code",
      "source": [
        "try:\n",
        "  print('My first user defined exception ', 12/0)\n",
        "except User_Defined_Exception as ude1:\n",
        "  print(\"User defined exception 1\")\n",
        "except Exception as e:\n",
        "  print('Exception ', e)\n",
        "\n"
      ],
      "metadata": {
        "colab": {
          "base_uri": "https://localhost:8080/"
        },
        "id": "n1ah0nlge5bq",
        "outputId": "0f3bfd95-4464-4786-d2da-74b3afcd86a9"
      },
      "execution_count": null,
      "outputs": [
        {
          "output_type": "stream",
          "name": "stdout",
          "text": [
            "Exception  division by zero\n"
          ]
        }
      ]
    },
    {
      "cell_type": "code",
      "source": [
        "class AgeOfVoting(Exception):\n",
        "  \"Raise when the input is less than 18\"\n",
        "  pass\n",
        "\n",
        "try:\n",
        "  input_num = int(input('Enter Age '))\n",
        "  if input_num < 18:\n",
        "    raise AgeOfVoting\n",
        "  else:\n",
        "    print('Eligible for voting ')\n",
        "\n",
        "except AgeOfVoting as aov:\n",
        "  print('exception as Invalid Age')"
      ],
      "metadata": {
        "colab": {
          "base_uri": "https://localhost:8080/"
        },
        "id": "mot68bqkfg4C",
        "outputId": "2a22a646-65ec-4081-e7a0-24934430772d"
      },
      "execution_count": null,
      "outputs": [
        {
          "output_type": "stream",
          "name": "stdout",
          "text": [
            "Enter Age 78\n",
            "Eligible for voting \n"
          ]
        }
      ]
    },
    {
      "cell_type": "code",
      "source": [
        "class AgeOfDrinking(Exception):\n",
        "  pass\n",
        "\n",
        "try:\n",
        "  input_num = int(input('Enter Age '))\n",
        "  if input_num < 19:\n",
        "    raise AgeOfDrinking\n",
        "  else:\n",
        "    print('Eligible for drinking ')\n",
        "\n",
        "except AgeOfDrinking as AgeOfDrinking:\n",
        "  print('exception as Invalid Age')"
      ],
      "metadata": {
        "colab": {
          "base_uri": "https://localhost:8080/"
        },
        "id": "HLOAEf3F4yRh",
        "outputId": "572a177f-62f0-4d17-deb7-0837f433266d"
      },
      "execution_count": null,
      "outputs": [
        {
          "output_type": "stream",
          "name": "stdout",
          "text": [
            "Enter Age 32\n",
            "Eligible for drinking \n"
          ]
        }
      ]
    }
  ]
}