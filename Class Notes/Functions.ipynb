{
  "nbformat": 4,
  "nbformat_minor": 0,
  "metadata": {
    "colab": {
      "provenance": []
    },
    "kernelspec": {
      "name": "python3",
      "display_name": "Python 3"
    },
    "language_info": {
      "name": "python"
    }
  },
  "cells": [
    {
      "cell_type": "markdown",
      "source": [
        "** functions in python***\n",
        "1. built in functions\n",
        "2. user defined functions\n",
        "\n"
      ],
      "metadata": {
        "id": "lMdkQo5gG2_p"
      }
    },
    {
      "cell_type": "code",
      "execution_count": null,
      "metadata": {
        "id": "WiCriFGMG0zQ"
      },
      "outputs": [],
      "source": [
        "#Type casting functions\n",
        "\n",
        "int(), float(), complex(), bool(), str(), list(), tuple(), set(), dict()"
      ]
    },
    {
      "cell_type": "code",
      "source": [
        "int1=1956\n",
        "\n",
        "print(float(int1))\n",
        "print(complex(int1))\n",
        "print(bool(int1))\n",
        "print(str(int1))\n",
        "\n",
        "#print(list(int1)) TypeError: 'int' object is not iterable\n",
        "#print(tuple(int1)) TypeError: 'int' object is not iterable\n",
        "#print(set(int1))   TypeError: 'int' object is not iterable\n",
        "#print(dict(int1))  TypeError: 'int' object is not iterable\n",
        "\n"
      ],
      "metadata": {
        "colab": {
          "base_uri": "https://localhost:8080/"
        },
        "id": "mQHcjLViHifw",
        "outputId": "fc9a4546-a9ca-4ea1-d8e2-54eb5b05f590"
      },
      "execution_count": null,
      "outputs": [
        {
          "output_type": "stream",
          "name": "stdout",
          "text": [
            "1956.0\n",
            "(1956+0j)\n",
            "True\n",
            "1956\n"
          ]
        }
      ]
    },
    {
      "cell_type": "code",
      "source": [
        "#decimal --> binary, octal and hexagonal\n",
        "\n",
        "for i in range(0,100):\n",
        "  print('Decimal', i)\n",
        "  print('Binary', bin(i))\n",
        "  print('Octal', oct(i))\n",
        "  print('Hexadecimal', hex(i))"
      ],
      "metadata": {
        "id": "xUh29uh9JBZw"
      },
      "execution_count": null,
      "outputs": []
    },
    {
      "cell_type": "code",
      "source": [
        "\n",
        "#user defined functions\n",
        "\n",
        "def sum_of_two( a,b):\n",
        "  return(a+b)\n"
      ],
      "metadata": {
        "id": "4VkFoDkiLYtJ"
      },
      "execution_count": null,
      "outputs": []
    }
  ]
}