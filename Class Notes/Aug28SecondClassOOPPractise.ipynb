{
  "nbformat": 4,
  "nbformat_minor": 0,
  "metadata": {
    "colab": {
      "provenance": []
    },
    "kernelspec": {
      "name": "python3",
      "display_name": "Python 3"
    },
    "language_info": {
      "name": "python"
    }
  },
  "cells": [
    {
      "cell_type": "code",
      "execution_count": null,
      "metadata": {
        "id": "1lPt3Ra0Glt2"
      },
      "outputs": [],
      "source": [
        "#Bank Account: Create a BankAccount class with methods to deposit, withdraw, and get the current balance.\n",
        "# Ensure that the balance can't go negative.\n",
        "\n",
        "class BankAccount:\n",
        "\n",
        "  def __init__ (self,balance=0):\n",
        "    self.balance=balance\n",
        "    input(\"Enter the opening balance\", balance)\n",
        "\n",
        "  def DepositAccoiunt(self,amount):\n",
        "    if amount>0:\n",
        "       self.balance+=amount\n",
        "    else:\n",
        "      print(\"Enter valid amount greater than 0 \")\n",
        "\n",
        "  def WithdrawAccount(self,amount):\n",
        "    if self.balance>amount :\n",
        "      self.balance-=amount\n",
        "      print(\"Withdraw successful\")\n",
        "      print(\"Your current balance is \", self.balance)\n",
        "\n",
        "    else:\n",
        "      print(\"Sorry you donot have sufficient balance\")\n",
        "      print(\"Your current balance is, \", self.balance)\n",
        "\n",
        "    def get_current_balance(self):\n",
        "      print(\"Your current balance is, \", self.balance)\n",
        "\n",
        "\n",
        "\n",
        "\n"
      ]
    },
    {
      "cell_type": "code",
      "source": [
        "#Bank Account: Create a BankAccount class with methods to deposit, withdraw, and get the current balance.\n",
        "#Ensure that the balance can't go negative.\n",
        "class BankAccount:\n",
        "  def __init__(self,balance=0):\n",
        "    self.balance=balance\n",
        "\n",
        "  def deposit(self,amount):\n",
        "    if amount>0:\n",
        "      print(\"Deposit Successful\")\n",
        "      self.balance=self.balance+amount\n",
        "      print(\"Your Current Balance is \",self.balance)\n",
        "    else:\n",
        "      print(\"Invalid Amount please enter value greater than 0\")\n",
        "      print(\"Your Current Balance is \",self.balance)\n",
        "\n",
        "  def withdraw(self,amount):\n",
        "    if self.balance>=amount:\n",
        "      self.balance=self.balance-amount\n",
        "      print(\"Withdraw Successful\")\n",
        "      print(\"Your Current Balance is \",self.balance)\n",
        "    else:\n",
        "      print(\"Can not withdraw more than current balance\")\n",
        "      print(\"Your Current Balance is \",self.balance)\n",
        "\n",
        "  def get_current_balance(self):\n",
        "    print(\"Your Current Balance is \",self.balance)\n"
      ],
      "metadata": {
        "id": "C5KUKF3OQUDG"
      },
      "execution_count": null,
      "outputs": []
    },
    {
      "cell_type": "code",
      "source": [
        "bankaccout=BankAccount(1000)\n",
        "bankaccout.deposit(7000)\n",
        "bankaccout.withdraw(8000)\n",
        "bankaccout.get_current_balance()"
      ],
      "metadata": {
        "colab": {
          "base_uri": "https://localhost:8080/"
        },
        "id": "HldE8hUjRH0j",
        "outputId": "2dabd434-9583-4252-aff5-77f25f919e8a"
      },
      "execution_count": null,
      "outputs": [
        {
          "output_type": "stream",
          "name": "stdout",
          "text": [
            "Deposit Successful\n",
            "Your Current Balance is  8000\n",
            "Withdraw Successful\n",
            "Your Current Balance is  0\n",
            "Your Current Balance is  0\n"
          ]
        }
      ]
    },
    {
      "cell_type": "code",
      "source": [
        "#Library Catalog: Implement a Library class with methods to add books, lend books, and return books.\n",
        "# Keep track of available and borrowed books.\n",
        "\n",
        "class Library:\n",
        "  def __init__(self,totalbooks=0):\n",
        "    self.totalbooks+=totalbooks\n",
        "    print(\"Total number of books is, \", self.totalbooks)\n",
        "\n",
        "  def AddBooks(self,addbook):\n",
        "\n",
        "    if addbook > 0:\n",
        "      totalbooks+=addbook\n",
        "      self.addbook=addbook\n",
        "      print(self.addbook, \" Books added Successfully\")\n",
        "      print(totalbooks, \"Total Books available \")\n",
        "    else:\n",
        "      print(\"Enter valid number of books added \")\n",
        "\n",
        "  def lendboks(self, lendbooks=0):\n",
        "    if lendbooks>0:\n",
        "\n",
        "      lendbooks+=lendbooks\n",
        "      totalbooks-=lendbooks\n",
        "      print(self.totalbooks,\"Available in library\")\n",
        "      print(self.lendboks,\"books lended\")\n",
        "    else:\n",
        "      print(\"No books are lended, Total available books: \", self.totalbooks)\n",
        "\n",
        "  def returnbook(self, retnbooks=0):\n",
        "    if retnbooks>0:\n",
        "      retnbooks+=retnbooks\n",
        "      totalbooks+=retnbooks\n",
        "      print(self.returnbook, \" Books returned\")\n",
        "      print(self.totalbooks,\"books still available\")\n",
        "    else:\n",
        "      print(\"no books were returned, Total books: \", self.totalbooks)\n",
        "\n",
        "\n",
        "\n",
        "\n",
        "\n"
      ],
      "metadata": {
        "id": "eBpSoIj0RRwC"
      },
      "execution_count": null,
      "outputs": []
    },
    {
      "cell_type": "code",
      "source": [
        "#Library Catalog: Implement a Library class with methods to add books, lend books, and return books.\n",
        "#Keep track of available and borrowed books.\n",
        "\n",
        "class Library:\n",
        "  def __init__(self,books=[]):\n",
        "    if type(books) ==list:\n",
        "      if len(books)>0:\n",
        "        self.books=[]+list(books)\n",
        "      else:\n",
        "        self.books=[]\n",
        "    else:\n",
        "      self.books=[]\n",
        "\n",
        "  def add_books(self,bookname):\n",
        "    self.books.append(str(bookname))\n",
        "\n",
        "  def lend_books(self,bookname):\n",
        "    try:\n",
        "      index=self.books.index(bookname)\n",
        "      self.books.pop(index)\n",
        "      print(\"Here we Found your book\")\n",
        "    except:\n",
        "      print(\"No Such Book in library catalog Please check available books\")\n",
        "\n",
        "  def return_book(self,bookname):\n",
        "    self.add_books(bookname)\n",
        "\n",
        "  def available_books(self):\n",
        "    for k in  self.books:\n",
        "      print(k)\n"
      ],
      "metadata": {
        "id": "NKZR5f6Jeu6e"
      },
      "execution_count": null,
      "outputs": []
    },
    {
      "cell_type": "code",
      "source": [
        "library=Library(['harry potter','Lord of rings'])\n",
        "library.available_books()\n",
        "library.add_books('harry potter 2')\n",
        "library.add_books('harry potter 3')\n",
        "library.add_books('harry potter 4')\n",
        "library.available_books()\n",
        "library.lend_books(\"harry potter\")\n",
        "library.available_books()\n",
        "library.return_book(\"harry potter\")\n",
        "library.available_books()"
      ],
      "metadata": {
        "id": "eMAnN5edNJL2",
        "outputId": "d53edc5b-2ba6-4c8a-e38e-5180892280ce",
        "colab": {
          "base_uri": "https://localhost:8080/"
        }
      },
      "execution_count": null,
      "outputs": [
        {
          "output_type": "stream",
          "name": "stdout",
          "text": [
            "harry potter\n",
            "Lord of rings\n",
            "harry potter\n",
            "Lord of rings\n",
            "harry potter 2\n",
            "harry potter 3\n",
            "harry potter 4\n",
            "Here we Found your book\n",
            "Lord of rings\n",
            "harry potter 2\n",
            "harry potter 3\n",
            "harry potter 4\n",
            "Lord of rings\n",
            "harry potter 2\n",
            "harry potter 3\n",
            "harry potter 4\n",
            "harry potter\n"
          ]
        }
      ]
    }
  ]
}