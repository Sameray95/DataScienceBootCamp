{
  "nbformat": 4,
  "nbformat_minor": 0,
  "metadata": {
    "colab": {
      "provenance": []
    },
    "kernelspec": {
      "name": "python3",
      "display_name": "Python 3"
    },
    "language_info": {
      "name": "python"
    }
  },
  "cells": [
    {
      "cell_type": "code",
      "execution_count": null,
      "metadata": {
        "colab": {
          "base_uri": "https://localhost:8080/"
        },
        "id": "qO2-aJzdmcRk",
        "outputId": "be4c3ea7-660c-41e7-f465-af312991988f"
      },
      "outputs": [
        {
          "output_type": "stream",
          "name": "stdout",
          "text": [
            "It is not divisible\n"
          ]
        }
      ],
      "source": [
        "\n",
        "#1) check if a number is divisible by 7 or not\n",
        "a=32\n",
        "if (a%7==0):\n",
        "  print(\"It is divisible\")\n",
        "else:\n",
        "    print(\"It is not divisible\")\n",
        "\n"
      ]
    },
    {
      "cell_type": "code",
      "source": [
        "#2) Write a program to print hello if number is multiple of five or 3 else print bye\n",
        "\n",
        "b = 90\n",
        "if(b%5==0) or (b%3==0):\n",
        "  print(\"hello\")\n",
        "else:\n",
        "    print(\"bye\")"
      ],
      "metadata": {
        "id": "RRjLIkcfm8fn",
        "colab": {
          "base_uri": "https://localhost:8080/"
        },
        "outputId": "0ff29bbd-cb10-4b8c-eca3-d4aef64d45ef"
      },
      "execution_count": null,
      "outputs": [
        {
          "output_type": "stream",
          "name": "stdout",
          "text": [
            "hello\n"
          ]
        }
      ]
    },
    {
      "cell_type": "code",
      "source": [
        "#user input function\n",
        "\n",
        "input_message= input(\"Enter your number\")\n",
        "input_message= int(input_message)\n",
        "input_message= float(input_message)\n",
        "\n",
        "print(type(input_message))"
      ],
      "metadata": {
        "colab": {
          "base_uri": "https://localhost:8080/"
        },
        "id": "gHB2BqEFr_4_",
        "outputId": "ba400aad-f36d-4710-dbe2-367fd9effa87"
      },
      "execution_count": null,
      "outputs": [
        {
          "output_type": "stream",
          "name": "stdout",
          "text": [
            "Enter your number76\n",
            "<class 'float'>\n"
          ]
        }
      ]
    },
    {
      "cell_type": "code",
      "source": [
        "#Write a python program that will check for the following conditions:\n",
        "#If the light is green – Car is allowed to go\n",
        "#If the light is yellow – Car has to wait\n",
        "#If the light is red – Car has to stop\n",
        "#Other signal – unrecognized signal. Example black, blue, etc…\n",
        "\n",
        "\n",
        "light= input(\"Please enter the light\").lower()\n",
        "\n",
        "if (light =='green'):\n",
        "  print(\"Car is allowed to go\")\n",
        "\n",
        "elif(light=='yellow'):\n",
        "  print(\"Car has to wait\")\n",
        "\n",
        "elif(light=='red'):\n",
        "  print(\"Car has to stop\")\n",
        "\n",
        "else:\n",
        "  print(\"unrecognized signal!! Enter again\")\n",
        "\n"
      ],
      "metadata": {
        "colab": {
          "base_uri": "https://localhost:8080/"
        },
        "id": "c8BOAq2YuhEG",
        "outputId": "62812dbd-9a0a-4399-ac6b-f7df487c8146"
      },
      "execution_count": null,
      "outputs": [
        {
          "output_type": "stream",
          "name": "stdout",
          "text": [
            "Please enter the lightGreEn\n",
            "Car is allowed to go\n"
          ]
        }
      ]
    },
    {
      "cell_type": "code",
      "source": [
        "#Write a program to trace your subject mark. Your program should fulfill the following conditions:\n",
        "#If the subject mark is below 0 and above 100, print “error: mark should be between 0 and 100 only”\n",
        "#Students will fail in the subject if their mark is below 50.\n",
        "#Students will pass in the subject if they score 50 and above.\n",
        "#If subject mark is between 50 and 60, grade student as good.\n",
        "#If subject mark is between 60 and 80, grade student as very good.\n",
        "#If subject mark is between 80 and 100, grade student as outstanding.\n",
        "#Make sure to print their mark in every statement to prove that the condition is fulfilled.\n",
        "# Moreover, name, class, and section should be also displayed along with the marks.\n",
        "\n",
        "name= input(\"Enter name of student:\").title()\n",
        "classs= input(\"Enter the class of student\")\n",
        "section=input(\"Enter the section of student\")\n",
        "\n",
        "mark= float(input(\"Enter the marks\"))\n",
        "\n",
        "if mark <=0 or mark>100:\n",
        "  print(\"Enter valid marks\")\n",
        "\n",
        "elif mark<50:\n",
        "  print(\"fail\")\n",
        "\n",
        "elif mark>=50:\n",
        "  print(\"pass\")\n",
        "\n",
        "elif mark>=50 and mark<=60:\n",
        "  print(\"good\")\n",
        "\n",
        "elif mark>=60 and mark<=80:\n",
        "  print(\"Very good\")\n",
        "\n",
        "elif mark>=80 and mark<=100:\n",
        "  print(\"Outstanding\")\n",
        "\n",
        "print(\"Your name is \" + name)\n",
        "print(\"YOur class is \"+ classs)\n",
        "print(\"Your section is \" + section)\n",
        "\n",
        "\n"
      ],
      "metadata": {
        "colab": {
          "base_uri": "https://localhost:8080/"
        },
        "id": "HoYZ1DIvyRjM",
        "outputId": "483d753a-da09-4377-c5af-baaf89e2a666"
      },
      "execution_count": null,
      "outputs": [
        {
          "output_type": "stream",
          "name": "stdout",
          "text": [
            "Enter name of student:ty\n",
            "Enter the class of student8\n",
            "Enter the section of student6\\\n",
            "Enter the marks78\n",
            "pass\n",
            "Your name is Ty\n",
            "YOur class is 8\n",
            "Your section is 6\\\n"
          ]
        }
      ]
    }
  ]
}