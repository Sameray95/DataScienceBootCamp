{
  "nbformat": 4,
  "nbformat_minor": 0,
  "metadata": {
    "colab": {
      "provenance": []
    },
    "kernelspec": {
      "name": "python3",
      "display_name": "Python 3"
    },
    "language_info": {
      "name": "python"
    }
  },
  "cells": [
    {
      "cell_type": "code",
      "execution_count": null,
      "metadata": {
        "colab": {
          "base_uri": "https://localhost:8080/"
        },
        "id": "j7GvsIEXGuMX",
        "outputId": "6f48b89e-bf59-4470-c7d8-40b791b21c83"
      },
      "outputs": [
        {
          "output_type": "stream",
          "name": "stdout",
          "text": [
            "repeated value: 1\n",
            "repeated value: 2\n",
            "repeated value: 1\n",
            "[1, 2, 3, 4, 5, 11, 6, 8]\n"
          ]
        }
      ],
      "source": [
        "#Question 1) Remove all repeated elements from the list Given below using for loop.\n",
        "\n",
        "a_list=[1,2,3,4,5,11,1,2,6,1,8]\n",
        "b_list=[]\n",
        "for i in a_list:\n",
        "  if i in b_list:\n",
        "    print(\"repeated value:\", i)\n",
        "  else:\n",
        "    b_list.append(i)\n",
        "print(b_list)\n",
        "\n"
      ]
    },
    {
      "cell_type": "code",
      "source": [
        "#Question 2) Print all prime numbers below 100 using for loop\n",
        "\n",
        "\n",
        "for Number in range (1, 101):\n",
        "    count = 0\n",
        "    for i in range(2, (Number//2 + 1)):\n",
        "        if(Number % i == 0):\n",
        "            count = count + 1\n",
        "            break\n",
        "\n",
        "    if (count == 0 and Number != 1):\n",
        "        print(\" %d\" %Number, end = '  ')\n"
      ],
      "metadata": {
        "colab": {
          "base_uri": "https://localhost:8080/"
        },
        "id": "Yi5wZF9_OeFf",
        "outputId": "ab35cd20-b69f-468d-fbad-39a9ececf45d"
      },
      "execution_count": null,
      "outputs": [
        {
          "output_type": "stream",
          "name": "stdout",
          "text": [
            " 2   3   5   7   11   13   17   19   23   29   31   37   41   43   47   53   59   61   67   71   73   79   83   89   97  "
          ]
        }
      ]
    },
    {
      "cell_type": "code",
      "source": [
        "#Question 2) Print all prime numbers below 100 using for loop\n",
        "\n",
        "List_Of_Numbers= []\n",
        "for k in range(2,100):\n",
        "  flag=True\n",
        "  for s in range(2,k):\n",
        "    if k%s==0:\n",
        "      flag=False\n",
        "      break\n",
        "  if flag:\n",
        "      List_Of_Numbers.append(k)\n",
        "for primes in List_Of_Numbers:\n",
        "    print(primes, \" is a prime number\")\n"
      ],
      "metadata": {
        "id": "V9CbZuFIZ8pg"
      },
      "execution_count": null,
      "outputs": []
    },
    {
      "cell_type": "code",
      "source": [
        "#Question 3) print list in reverse order using for loop\n",
        "\n",
        "a=[1,2,3,4,5,11,1,2,6,1,8]\n",
        "rev_list=[]\n",
        "\n",
        "for k in range(len(a)-1,-1,-1):\n",
        "  rev_list.append(a[k])\n",
        "print(rev_list)"
      ],
      "metadata": {
        "colab": {
          "base_uri": "https://localhost:8080/"
        },
        "id": "hGBgNtuLOmI3",
        "outputId": "a59090a1-90d8-4fb1-d1e5-6a5883c41571"
      },
      "execution_count": null,
      "outputs": [
        {
          "output_type": "stream",
          "name": "stdout",
          "text": [
            "[8, 1, 6, 2, 1, 11, 5, 4, 3, 2, 1]\n"
          ]
        }
      ]
    },
    {
      "cell_type": "code",
      "source": [
        "#Question 3) print list in reverse order using for loop\n",
        "a=[1,2,3,4,5,11,1,2,6,1,8]\n",
        "\n",
        "for i in a[::-1]:\n",
        "  print(i, end=\" \")"
      ],
      "metadata": {
        "colab": {
          "base_uri": "https://localhost:8080/"
        },
        "id": "nayL9jYJdaDZ",
        "outputId": "8449df04-c506-4aeb-87fd-36eac742aa18"
      },
      "execution_count": null,
      "outputs": [
        {
          "output_type": "stream",
          "name": "stdout",
          "text": [
            "8 1 6 2 1 11 5 4 3 2 1 "
          ]
        }
      ]
    },
    {
      "cell_type": "code",
      "source": [
        "#Question 4)  print multiplication table of 13 using for loop\n",
        "\n",
        "a=13\n",
        "\n",
        "for i in range (1,11):\n",
        "  result=a*i\n",
        "  print(a ,\"* \", i, \"= \", result )\n",
        "\n",
        "\n"
      ],
      "metadata": {
        "colab": {
          "base_uri": "https://localhost:8080/"
        },
        "id": "JGP8TyXIO4rA",
        "outputId": "2b839a23-b1f3-407f-a32b-bbe7eeaec4c9"
      },
      "execution_count": null,
      "outputs": [
        {
          "output_type": "stream",
          "name": "stdout",
          "text": [
            "13 *  1 =  13\n",
            "13 *  2 =  26\n",
            "13 *  3 =  39\n",
            "13 *  4 =  52\n",
            "13 *  5 =  65\n",
            "13 *  6 =  78\n",
            "13 *  7 =  91\n",
            "13 *  8 =  104\n",
            "13 *  9 =  117\n",
            "13 *  10 =  130\n"
          ]
        }
      ]
    },
    {
      "cell_type": "code",
      "source": [
        "#Python program to count the total number of digits in a number.\n",
        "count=0\n",
        "a=input(\"Enter any number \")\n",
        "for i in str (a):\n",
        "  count+=1\n",
        "print(count)\n",
        "\n",
        "\n",
        "\n"
      ],
      "metadata": {
        "colab": {
          "base_uri": "https://localhost:8080/"
        },
        "id": "edEHXjGwiC9Y",
        "outputId": "0ae2673d-4250-4cca-d15f-e89d2243cf75"
      },
      "execution_count": null,
      "outputs": [
        {
          "output_type": "stream",
          "name": "stdout",
          "text": [
            "Enter any number 123\n",
            "3\n"
          ]
        }
      ]
    },
    {
      "cell_type": "code",
      "source": [
        "# Write a program to find greatest common divisor (GCD) or highest common factor (HCF) of given two numbers.\n",
        "\n",
        "a=int(input(\"Enter any number\"))\n",
        "b=int(input(\"Enter any number\"))\n",
        "\n",
        "small=min(a,b)\n",
        "\n",
        "\n",
        "for i in range( small, -1,-1):\n",
        "  if a%i==0  and b%i==0:\n",
        "    print(i)\n",
        "    break\n"
      ],
      "metadata": {
        "colab": {
          "base_uri": "https://localhost:8080/"
        },
        "id": "sXQ5lzothNQB",
        "outputId": "82c418bc-3ad0-4dff-c11c-2860aaff8a9c"
      },
      "execution_count": null,
      "outputs": [
        {
          "output_type": "stream",
          "name": "stdout",
          "text": [
            "Enter any number30\n",
            "Enter any number14\n",
            "2\n"
          ]
        }
      ]
    },
    {
      "cell_type": "code",
      "source": [
        "print(\"hello\"+\"world\")"
      ],
      "metadata": {
        "id": "KK-g3jcosxEB",
        "outputId": "dae97ecf-11da-40fe-f2f3-1fa536d4e1a0",
        "colab": {
          "base_uri": "https://localhost:8080/"
        }
      },
      "execution_count": null,
      "outputs": [
        {
          "output_type": "stream",
          "name": "stdout",
          "text": [
            "helloworld\n"
          ]
        }
      ]
    }
  ]
}