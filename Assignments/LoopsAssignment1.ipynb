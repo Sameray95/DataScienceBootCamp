{
  "nbformat": 4,
  "nbformat_minor": 0,
  "metadata": {
    "colab": {
      "provenance": []
    },
    "kernelspec": {
      "name": "python3",
      "display_name": "Python 3"
    },
    "language_info": {
      "name": "python"
    }
  },
  "cells": [
    {
      "cell_type": "code",
      "execution_count": null,
      "metadata": {
        "colab": {
          "base_uri": "https://localhost:8080/"
        },
        "id": "_NHdvKcfeM_R",
        "outputId": "5f7a94d5-0e74-43a5-f356-4f0ff1a0e675"
      },
      "outputs": [
        {
          "output_type": "stream",
          "name": "stdout",
          "text": [
            "Enter any number21\n",
            "Enter any number32\n",
            "Before swapping 21 32\n",
            "After swapping 32 21\n"
          ]
        }
      ],
      "source": [
        "#1) Swap two numbers using 3rd variable\n",
        "\n",
        "input1= input(\"Enter any number\")\n",
        "input2=input(\"Enter any number\")\n",
        "print(\"Before swapping\", input1,input2)\n",
        "\n",
        "input3=input1\n",
        "input1=input2\n",
        "input2=input3\n",
        "\n",
        "print(\"After swapping\", input1,input2 )"
      ]
    },
    {
      "cell_type": "code",
      "source": [
        "#2) Swap two numbers without using 3rd variable\n",
        "input1= input(\"Enter any number\")\n",
        "input2=input(\"Enter any number\")\n",
        "print(\"Before swapping\", input1,input2)\n",
        "\n",
        "print(\"After swapping\", input2,input1 )"
      ],
      "metadata": {
        "colab": {
          "base_uri": "https://localhost:8080/"
        },
        "id": "2O3Vv0xagp4n",
        "outputId": "ba0cf429-e6d8-4cb9-a425-146442d0062b"
      },
      "execution_count": null,
      "outputs": [
        {
          "output_type": "stream",
          "name": "stdout",
          "text": [
            "Enter any number32\n",
            "Enter any number324\n",
            "Before swapping 32 324\n",
            "After swapping 324 32\n"
          ]
        }
      ]
    },
    {
      "cell_type": "code",
      "source": [
        "#3)Write a program to find greatest common divisor (GCD) or highest common factor (HCF) of given two numbers\n",
        "\n",
        "a=int(input(\"Enter any number\"))\n",
        "b=int(input(\"Enter any number\"))\n",
        "\n",
        "small=min(a,b)\n",
        "\n",
        "\n",
        "for i in range( small, -1,-1):\n",
        "  if a%i==0  and b%i==0:\n",
        "    print(i)\n",
        "    break\n"
      ],
      "metadata": {
        "id": "UgkPdicFzIGc",
        "colab": {
          "base_uri": "https://localhost:8080/"
        },
        "outputId": "f8a524c0-bb3b-4c6d-d70c-f41baef66772"
      },
      "execution_count": null,
      "outputs": [
        {
          "output_type": "stream",
          "name": "stdout",
          "text": [
            "Enter any number56\n",
            "Enter any number67\n",
            "1\n"
          ]
        }
      ]
    },
    {
      "cell_type": "code",
      "source": [
        "#3) Remove duplicate elements from a list without converting to tuple\n",
        "\n",
        "input_list = [1, 2, 2, 3, 4, 4, 5]\n",
        "unique_list = []\n",
        "\n",
        "for item in input_list:\n",
        "    if item not in unique_list:\n",
        "        unique_list.append(item)\n",
        "\n",
        "print(\"Original list:\", input_list)\n",
        "print(\"List with duplicates removed:\", unique_list)\n",
        "\n"
      ],
      "metadata": {
        "colab": {
          "base_uri": "https://localhost:8080/"
        },
        "id": "1f37Iy5zhmyn",
        "outputId": "56e0ecc7-517c-4f85-83ba-491598186146"
      },
      "execution_count": null,
      "outputs": [
        {
          "output_type": "stream",
          "name": "stdout",
          "text": [
            "Original list: [1, 2, 2, 3, 4, 4, 5]\n",
            "List with duplicates removed: [1, 2, 3, 4, 5]\n"
          ]
        }
      ]
    },
    {
      "cell_type": "code",
      "source": [
        "#4) Write a program to find greatest common divisor (GCD) or highest common factor (HCF) of given two numbers\n",
        "\n",
        "\n",
        "a=int(input(\"Enter any number\"))\n",
        "b=int(input(\"Enter any number\"))\n",
        "\n",
        "small=min(a,b)\n",
        "\n",
        "\n",
        "for i in range( small, -1,-1):\n",
        "  if a%i==0  and b%i==0:\n",
        "    print(i)\n",
        "    break"
      ],
      "metadata": {
        "id": "sY2ihiJ0hxff",
        "colab": {
          "base_uri": "https://localhost:8080/"
        },
        "outputId": "65ee6006-0549-4503-9657-e612b8c4ffbf"
      },
      "execution_count": null,
      "outputs": [
        {
          "output_type": "stream",
          "name": "stdout",
          "text": [
            "Enter any number44\n",
            "Enter any number42\n",
            "2\n"
          ]
        }
      ]
    },
    {
      "cell_type": "code",
      "source": [
        "#5) Write a loop to print following series  10, 20, 30,  …………………, 300\n",
        "\n",
        "print(\"Printing the given series: \")\n",
        "\n",
        "for i in range (10,310,10):\n",
        "  print(i, end= \" \")\n",
        "\n"
      ],
      "metadata": {
        "colab": {
          "base_uri": "https://localhost:8080/"
        },
        "id": "gd9zwKTsh3__",
        "outputId": "50590139-070e-4f68-eaec-af954b7a8e1d"
      },
      "execution_count": null,
      "outputs": [
        {
          "output_type": "stream",
          "name": "stdout",
          "text": [
            "Printing the given series: \n",
            "10 20 30 40 50 60 70 80 90 100 110 120 130 140 150 160 170 180 190 200 210 220 230 240 250 260 270 280 290 300 "
          ]
        }
      ]
    },
    {
      "cell_type": "code",
      "source": [
        "#6) Write a loop to print following series 105,98,91,………………………,7\n",
        "\n",
        "print(\"Printing the given series: \")\n",
        "\n",
        "for i in range (105,0,-7):\n",
        "  print(i, end= \" \")"
      ],
      "metadata": {
        "colab": {
          "base_uri": "https://localhost:8080/"
        },
        "id": "juAMpmf3iSt-",
        "outputId": "37806fe4-1e40-4cb9-9c6e-53c8c6e106cd"
      },
      "execution_count": null,
      "outputs": [
        {
          "output_type": "stream",
          "name": "stdout",
          "text": [
            "Printing the given series: \n",
            "105 98 91 84 77 70 63 56 49 42 35 28 21 14 7 "
          ]
        }
      ]
    },
    {
      "cell_type": "code",
      "source": [
        "#7 Write a program to print number names of digits in a number like SAMPLE INPUT 231 \t\tSAMPLE OUTPUT TWO THREE ONE\n",
        "\n",
        "num_str = input(\"Enter a number: \")\n",
        "result = \"\"\n",
        "digit_names = {\n",
        "    '0': 'ZERO', '1': 'ONE', '2': 'TWO', '3': 'THREE', '4': 'FOUR',\n",
        "    '5': 'FIVE', '6': 'SIX', '7': 'SEVEN', '8': 'EIGHT', '9': 'NINE'\n",
        "}\n",
        "\n",
        "for digit in num_str:\n",
        "    if digit in digit_names:\n",
        "        result += digit_names[digit] + \" \"\n",
        "    else:\n",
        "        result += digit + \" \"\n",
        "\n",
        "print(result)\n"
      ],
      "metadata": {
        "colab": {
          "base_uri": "https://localhost:8080/"
        },
        "id": "uQ9cd2o8ixRX",
        "outputId": "6a68937c-7976-486c-c098-fce615c093cc"
      },
      "execution_count": null,
      "outputs": [
        {
          "output_type": "stream",
          "name": "stdout",
          "text": [
            "Enter a number: 324\n",
            "THREE TWO FOUR \n"
          ]
        }
      ]
    },
    {
      "cell_type": "code",
      "source": [
        "#8) Write a program to print Fibonacci series till n terms take n =50\n",
        "\n",
        "print(\"Printing Fibonacci Series till 50 \").title()\n",
        "\n",
        "a=0\n",
        "b=1\n",
        "for i in range (50):\n",
        "  c=a+b\n",
        "  a=b\n",
        "  b=c\n",
        "  print (c, end= \" \")\n"
      ],
      "metadata": {
        "colab": {
          "base_uri": "https://localhost:8080/"
        },
        "id": "FF6wEtjRi-P4",
        "outputId": "a2d77f78-bc67-48ec-a0f0-235ad633db79"
      },
      "execution_count": null,
      "outputs": [
        {
          "output_type": "stream",
          "name": "stdout",
          "text": [
            "Printing Fibonacci Series till 50 \n",
            "1 2 3 5 8 13 21 34 55 89 144 233 377 610 987 1597 2584 4181 6765 10946 17711 28657 46368 75025 121393 196418 317811 514229 832040 1346269 2178309 3524578 5702887 9227465 14930352 24157817 39088169 63245986 102334155 165580141 267914296 433494437 701408733 1134903170 1836311903 2971215073 4807526976 7778742049 12586269025 20365011074 "
          ]
        }
      ]
    },
    {
      "cell_type": "code",
      "source": [
        "#9)Write a program to print factorial of a number\n",
        "\n",
        "print(\"Printing Factorial of a Number\".title())\n",
        "\n",
        "num1 = int(input(\"Enter any number to calculate factorial: \"))\n",
        "\n",
        "# Initialize the factorial to 1\n",
        "factorial = 1\n",
        "\n",
        "print(\"Factorial for\", num1, \" is \")\n",
        "\n",
        "for i in range(num1, 0, -1):\n",
        "    factorial *= i\n",
        "    if i != 1:\n",
        "        print(i, \"*\", end=\" \")\n",
        "    else:\n",
        "        print(i, \"=\", factorial)\n"
      ],
      "metadata": {
        "colab": {
          "base_uri": "https://localhost:8080/"
        },
        "id": "B_aLqzXYkyq7",
        "outputId": "fbb7c7b2-2b82-40aa-d004-6fa35cf68606"
      },
      "execution_count": null,
      "outputs": [
        {
          "output_type": "stream",
          "name": "stdout",
          "text": [
            "Printing Factorial Of A Number\n",
            "Enter any number to calculate factorial: 5\n",
            "Factorial for 5  is \n",
            "5 * 4 * 3 * 2 * 1 = 120\n"
          ]
        }
      ]
    },
    {
      "cell_type": "code",
      "source": [
        "#10 Write a program to check if a number is Armstrong or not\n",
        "\n",
        "print(\"Checking if a number is Armstrong or not\".title())\n",
        "\n",
        "num1 = input(\"Enter any number: \")\n",
        "num = str(num1)\n",
        "num_digits = len(num)\n",
        "sum_of_powers = 0\n",
        "\n",
        "for i in num:\n",
        "    digit = int(i)\n",
        "    sum_of_powers += digit ** num_digits\n",
        "\n",
        "if int(sum_of_powers) == int(num1):\n",
        "    print(num1, \"is an Armstrong number\")\n",
        "else:\n",
        "    print(num1, \"is not an Armstrong number\")"
      ],
      "metadata": {
        "colab": {
          "base_uri": "https://localhost:8080/"
        },
        "id": "Ba9ZAegTr_B4",
        "outputId": "e1933135-d3d3-4242-c2db-ece85890ac24"
      },
      "execution_count": null,
      "outputs": [
        {
          "output_type": "stream",
          "name": "stdout",
          "text": [
            "Checking If A Number Is Armstrong Or Not\n",
            "Enter any number: 153\n",
            "153 is an Armstrong number\n"
          ]
        }
      ]
    },
    {
      "cell_type": "code",
      "source": [
        "#11)  Write a program to convert binary to decimal\n",
        "\n",
        "print(\"Converting binary to decimal\")\n",
        "\n",
        "bin_input_str = input(\"Enter any binary number: \")\n",
        "\n",
        "valid_input = True\n",
        "\n",
        "for bit in bin_input_str:\n",
        "    if bit not in '01':\n",
        "        valid_input = False\n",
        "        break\n",
        "\n",
        "if valid_input:\n",
        "    decimal_value = 0\n",
        "    binary_length = len(bin_input_str)\n",
        "\n",
        "    for i in range(binary_length):\n",
        "        bit = bin_input_str[i]\n",
        "        if bit == '1':\n",
        "            decimal_value += 2**(binary_length - i - 1)\n",
        "\n",
        "    print(bin_input_str + \" in decimal =\", decimal_value)\n",
        "else:\n",
        "    print(\"Invalid binary input.\")\n",
        "\n"
      ],
      "metadata": {
        "colab": {
          "base_uri": "https://localhost:8080/"
        },
        "id": "eg7ck-SFNrbY",
        "outputId": "72abba29-8d9c-4903-921d-99a0f9af2916"
      },
      "execution_count": null,
      "outputs": [
        {
          "output_type": "stream",
          "name": "stdout",
          "text": [
            "Converting binary to decimal\n",
            "Enter any binary number: 4\n",
            "Invalid binary input.\n"
          ]
        }
      ]
    },
    {
      "cell_type": "code",
      "source": [
        "#11)  Write a program to convert  decimal to binary\n",
        "print(\"Converting decimal to binary\".title())\n",
        "\n",
        "dec_input = int(input(\"Enter any decimal number: \"))\n",
        "original_input = dec_input\n",
        "\n",
        "bin_str = \"\"\n",
        "\n",
        "while dec_input > 0:\n",
        "    rem = dec_input % 2\n",
        "    bin_str = str(rem) + bin_str\n",
        "    dec_input = dec_input // 2\n",
        "\n",
        "print(dec_input, \"in binary =\", bin_str)\n",
        "\n"
      ],
      "metadata": {
        "colab": {
          "base_uri": "https://localhost:8080/"
        },
        "id": "10xOK1_lOp2_",
        "outputId": "5395e70b-2f37-4b15-b292-d21f5f55e653"
      },
      "execution_count": null,
      "outputs": [
        {
          "output_type": "stream",
          "name": "stdout",
          "text": [
            "Converting Decimal To Binary\n",
            "Enter any decimal number: 4\n",
            "0 in binary = 100\n"
          ]
        }
      ]
    },
    {
      "cell_type": "code",
      "source": [
        "#12)Write a program to check if number is palindrome on not (Without converting to string)\n",
        "\n",
        "user_input=int(input(\"Enter any number\"))\n",
        "num=user_input\n",
        "pallindrome_num=0\n",
        "\n",
        "while num>0:\n",
        "  digit=num % 10\n",
        "  pallindrome_num= pallindrome_num * 10 + digit\n",
        "  num= num//10\n",
        "\n",
        "if user_input==pallindrome_num:\n",
        " print(user_input, \" is pallindrome\")\n",
        "\n",
        "else:\n",
        " print(user_input, \" is not a  pallindrome\")\n",
        "\n",
        "\n",
        "\n"
      ],
      "metadata": {
        "colab": {
          "base_uri": "https://localhost:8080/"
        },
        "id": "arTC_wBqgeuv",
        "outputId": "13164812-baf9-47a9-b3cc-34d9159966a1"
      },
      "execution_count": null,
      "outputs": [
        {
          "output_type": "stream",
          "name": "stdout",
          "text": [
            "Enter any number21\n",
            "21  is not a  pallindrome\n"
          ]
        }
      ]
    },
    {
      "cell_type": "code",
      "source": [
        "#) Write a program to print all numbers which are divisible by 13 but not by 3 between 100 and 500\n",
        "\n",
        "print(\"printing all numbers which are divisible by 13 but not by 3 between 100 and 500\". title())\n",
        "\n",
        "for i in range(100,501):\n",
        "  if i %13==0 and i%3!=0:\n",
        "    print(i, end= \" \")\n",
        "\n"
      ],
      "metadata": {
        "colab": {
          "base_uri": "https://localhost:8080/"
        },
        "id": "9RrhswYJi43O",
        "outputId": "d21f1b22-cf82-479b-fc1e-542a63bcad59"
      },
      "execution_count": null,
      "outputs": [
        {
          "output_type": "stream",
          "name": "stdout",
          "text": [
            "Printing All Numbers Which Are Divisible By 13 But Not By 3 Between 100 And 500\n",
            "104 130 143 169 182 208 221 247 260 286 299 325 338 364 377 403 416 442 455 481 494 "
          ]
        }
      ]
    },
    {
      "cell_type": "code",
      "source": [
        "#14) Write a Python program to convert temperatures to and from Celsius and Fahrenheit.\n",
        "\n",
        "print(\"Temperature conversion between Celsius and Fahrenheit\")\n",
        "\n",
        "scale = input(\"Enter the temperature scale (C for Celsius, F for Fahrenheit): \").strip().upper()\n",
        "\n",
        "if scale == 'C':\n",
        "    temp_celsius = float(input(\"Enter the temperature in Celsius: \"))\n",
        "    temp_fahrenheit = (temp_celsius * 9/5) + 32\n",
        "    print(str(temp_celsius) + \" degrees Celsius is \" + str(temp_fahrenheit) + \" degrees Fahrenheit.\")\n",
        "elif scale == 'F':\n",
        "    temp_fahrenheit = float(input(\"Enter the temperature in Fahrenheit: \"))\n",
        "    temp_celsius = (temp_fahrenheit - 32) * 5/9\n",
        "    print(str(temp_fahrenheit) + \" degrees Fahrenheit is \" + str(temp_celsius) + \" degrees Celsius.\")\n",
        "else:\n",
        "    print(\"Invalid scale. Please enter 'C' for Celsius or 'F' for Fahrenheit.\")\n",
        "\n"
      ],
      "metadata": {
        "colab": {
          "base_uri": "https://localhost:8080/"
        },
        "id": "cpNV1LHEj3C2",
        "outputId": "3186f3e7-7ede-4f3f-8d9b-06e77367c505"
      },
      "execution_count": null,
      "outputs": [
        {
          "output_type": "stream",
          "name": "stdout",
          "text": [
            "Temperature conversion between Celsius and Fahrenheit\n",
            "Enter the temperature scale (C for Celsius, F for Fahrenheit): f\n",
            "Enter the temperature in Fahrenheit: 96.8\n",
            "96.8 degrees Fahrenheit is 36.0 degrees Celsius.\n"
          ]
        }
      ]
    },
    {
      "cell_type": "code",
      "source": [
        "#15) Write a Python program that takes two digits m (row) and n (column) as input and generates a two-dimensional array.\n",
        "#The element value in the i-th row and j-th column of the array should be i*j. else it will be 0\n",
        "\n",
        "m = int(input(\"Enter the number of rows (m): \"))\n",
        "n = int(input(\"Enter the number of columns (n): \"))\n",
        "\n",
        "two_dimensional_array = []\n",
        "\n",
        "for i in range(m):\n",
        "    row = []\n",
        "    for j in range(n):\n",
        "        if i == 0 or j == 0:\n",
        "            row.append(0)\n",
        "        else:\n",
        "            row.append(i * j)\n",
        "    two_dimensional_array.append(row)\n",
        "\n",
        "for i in range(m):\n",
        "    for j in range(n):\n",
        "        print(two_dimensional_array[i][j], end=\" \")\n",
        "    print()\n",
        "\n"
      ],
      "metadata": {
        "colab": {
          "base_uri": "https://localhost:8080/"
        },
        "id": "_c05rJNgl94v",
        "outputId": "b33fe0be-1a63-4e06-e716-064b4556104b"
      },
      "execution_count": null,
      "outputs": [
        {
          "output_type": "stream",
          "name": "stdout",
          "text": [
            "Enter the number of rows (m): 3\n",
            "Enter the number of columns (n): 4\n",
            "0 0 0 0 \n",
            "0 1 2 3 \n",
            "0 2 4 6 \n"
          ]
        }
      ]
    },
    {
      "cell_type": "code",
      "source": [],
      "metadata": {
        "id": "dQtigP2PogQw"
      },
      "execution_count": null,
      "outputs": []
    },
    {
      "cell_type": "code",
      "source": [
        "#16. Write a Python program that accepts a string and calculates the number of digits and letters.\n",
        "#Sample Data: Python 3.2\n",
        "#Expected Output:\n",
        "#Letters 6\n",
        "#Digits 2\n",
        "\n",
        "user_input= input((\"Enter anything to check the number of digits and letters\"))\n",
        "letter_count=0\n",
        "digit_count=0\n",
        "for char in user_input:\n",
        "    if char.isalpha():\n",
        "        letter_count += 1\n",
        "    elif char.isdigit():\n",
        "        digit_count += 1\n",
        "\n",
        "# Display the counts\n",
        "print(\"Letters\", letter_count)\n",
        "print(\"Digits\", digit_count)\n",
        "\n"
      ],
      "metadata": {
        "colab": {
          "base_uri": "https://localhost:8080/"
        },
        "id": "v63WIILfmAfu",
        "outputId": "432721ec-b1a5-4b08-cb55-358f02768c7c"
      },
      "execution_count": null,
      "outputs": [
        {
          "output_type": "stream",
          "name": "stdout",
          "text": [
            "Enter anything to check the number of digits and lettershey 23 hiwi2-48\n",
            "Letters 7\n",
            "Digits 5\n"
          ]
        }
      ]
    },
    {
      "cell_type": "code",
      "source": [
        "#17) Print all possible combination for a string or a word\n",
        "#Sample input “ABC”\n",
        "#Sample output\n",
        "#BAC\n",
        "#CAB\n",
        "#CBA\n",
        "#ACB\n",
        "#BCA\n",
        "\n"
      ],
      "metadata": {
        "id": "yMirRJKWpxYd"
      },
      "execution_count": null,
      "outputs": []
    },
    {
      "cell_type": "markdown",
      "source": [
        "18) Write a Python program to check if a triangle is equilateral, isosceles or scalene. Take 3 inputs for each side\n",
        "\n",
        "\n",
        "Note :\n",
        "An equilateral triangle is a triangle in which all three sides are equal.\n",
        "A scalene triangle is a triangle that has three unequal sides.\n",
        "An isosceles triangle is a triangle with (at least) two equal sides."
      ],
      "metadata": {
        "id": "DDZ7Yh4uqB6g"
      }
    },
    {
      "cell_type": "code",
      "source": [
        "print(\"Program to check the type of triangle\". title())\n",
        "\n",
        "a=int(input(\"Enter the first side of the triangle: \"))\n",
        "b=int(input(\"Enter the first side of the triangle: \"))\n",
        "c=int(input(\"Enter the first side of the triangle: \"))\n",
        "\n",
        "if a==b==c:\n",
        "  print(\"The triangle is equilateral\")\n",
        "elif a!=b!=c:\n",
        "  print(\"The triangle is scalane\")\n",
        "elif a==b or b==c or c==a:\n",
        "  print(\"The triangle is isoceles\")\n",
        "\n"
      ],
      "metadata": {
        "colab": {
          "base_uri": "https://localhost:8080/"
        },
        "id": "b5oEg-ZRqDD9",
        "outputId": "20281a20-0fb6-4f48-c0b3-6656f72ec909"
      },
      "execution_count": null,
      "outputs": [
        {
          "output_type": "stream",
          "name": "stdout",
          "text": [
            "Program To Check The Type Of Triangle\n",
            "Enter the first side of the triangle: 12\n",
            "Enter the first side of the triangle: 12\n",
            "Enter the first side of the triangle: 13\n",
            "The triangle is isoceles\n"
          ]
        }
      ]
    },
    {
      "cell_type": "markdown",
      "source": [
        "19) Write a Python program to get the next day of a given date.\n",
        "Expected Output:\n",
        "Input a year: 2016                                                      \n",
        "Input a month [1-12]: 08                                                \n",
        "Input a day [1-31]: 23                                                  \n",
        "The next date is [yyyy-mm-dd] 2016-8-24  \n"
      ],
      "metadata": {
        "id": "8ERQ35eOrE9l"
      }
    },
    {
      "cell_type": "code",
      "source": [
        "print(\"Printing the next day of the input date\".title())\n",
        "\n",
        "year = int(input(\"Enter the year: \"))\n",
        "\n",
        "while True:\n",
        "    month = int(input(\"Enter the month [1-12]: \"))\n",
        "    if 1 <= month <= 12:\n",
        "        break\n",
        "\n",
        "while True:\n",
        "    day = int(input(\"Enter the day [1-31]: \"))\n",
        "    if 1 <= day <= 31:\n",
        "        break\n",
        "\n",
        "if day < 30:\n",
        "    next_day = day + 1\n",
        "else:\n",
        "    next_day = 1\n",
        "    if month < 12:\n",
        "        next_month = month + 1\n",
        "    else:\n",
        "        next_month = 1\n",
        "        year += 1\n",
        "\n",
        "print(\"The next date is [yyyy-mm-dd] \" + str(year) + \"-\" + str(next_month).zfill(2) + \"-\" + str(next_day).zfill(2))\n",
        "\n"
      ],
      "metadata": {
        "colab": {
          "base_uri": "https://localhost:8080/"
        },
        "id": "DpcaWu2wrIG-",
        "outputId": "20bc8563-5008-4033-db28-e08f14b52466"
      },
      "execution_count": null,
      "outputs": [
        {
          "output_type": "stream",
          "name": "stdout",
          "text": [
            "Printing The Next Day Of The Input Date\n",
            "Enter the year: 2078\n",
            "Enter the month [1-12]: 23\n",
            "Enter the month [1-12]: 12\n",
            "Enter the day [1-31]: 31\n",
            "The next date is [yyyy-mm-dd] 2079-01-01\n"
          ]
        }
      ]
    }
  ]
}