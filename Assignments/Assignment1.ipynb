{
  "nbformat": 4,
  "nbformat_minor": 0,
  "metadata": {
    "colab": {
      "provenance": []
    },
    "kernelspec": {
      "name": "python3",
      "display_name": "Python 3"
    },
    "language_info": {
      "name": "python"
    }
  },
  "cells": [
    {
      "cell_type": "code",
      "execution_count": 10,
      "metadata": {
        "colab": {
          "base_uri": "https://localhost:8080/"
        },
        "id": "82DDJxhhIp5k",
        "outputId": "85802b00-fc74-4e7a-857d-a44ca56e00e3"
      },
      "outputs": [
        {
          "output_type": "stream",
          "name": "stdout",
          "text": [
            "Enter your names\n",
            "Enter your salary100\n",
            "Enter the year of your service5\n",
            "your bonus amount is : 5.0\n"
          ]
        }
      ],
      "source": [
        "#1.A company decided to give bonus of 5% to employee if his/her year of service is more than 5 years.\n",
        "#Ask user for their salary and year of service and print the net bonus amount.\n",
        "\n",
        "name =input(\"Enter your name\")\n",
        "salary = float( input(\"Enter your salary\"))\n",
        "servofYear = float(input(\"Enter the year of your service\"))\n",
        "if(servofYear<5):\n",
        "  print(\"sorry \" + name + \" you are not qualified for the bonus\")\n",
        "else:\n",
        "  bonus=0.05*salary\n",
        "  print(\"your bonus amount is :\", bonus )\n"
      ]
    },
    {
      "cell_type": "code",
      "source": [
        "#2.Take values of length and breadth of a rectangle from user and check if it is square or not.\n",
        "\n",
        "length=float(input(\"Enter the length:\"))\n",
        "breadth=float(input(\"Enter the breadth:\"))\n",
        "\n",
        "if(length==breadth):\n",
        "  print(\"It is square\")\n",
        "else:\n",
        "  print(\"It is not square\")\n"
      ],
      "metadata": {
        "colab": {
          "base_uri": "https://localhost:8080/"
        },
        "id": "-nKQNoUpMBl2",
        "outputId": "fe9b93b5-faff-4531-f88a-a889f13f6934"
      },
      "execution_count": 14,
      "outputs": [
        {
          "output_type": "stream",
          "name": "stdout",
          "text": [
            "Enter the length:54\n",
            "Enter the breadth:54\n",
            "It is square\n"
          ]
        }
      ]
    },
    {
      "cell_type": "code",
      "source": [
        "#3.Take two int values from user and print greatest among them.\n",
        "\n",
        "a= int(input(\"Enter the first value: \"))\n",
        "b= int(input(\"Enter the second value: \"))\n",
        "\n",
        "if(a>b):\n",
        "  print(\"Greater value is \", a)\n",
        "else:\n",
        "  print(\"Greater value is \", b)\n"
      ],
      "metadata": {
        "colab": {
          "base_uri": "https://localhost:8080/"
        },
        "id": "6-eATZd8MzBm",
        "outputId": "6ad09c95-7739-4abf-8230-59fe7f57a55e"
      },
      "execution_count": 16,
      "outputs": [
        {
          "output_type": "stream",
          "name": "stdout",
          "text": [
            "Enter the first value: 6\n",
            "Enter the second value: 9\n",
            "Greater value is  9\n"
          ]
        }
      ]
    },
    {
      "cell_type": "code",
      "source": [
        "#4.A shop will give discount of 10% if the cost of purchased quantity is more than 1000.\n",
        "#Ask user for quantity\n",
        "#Suppose, one unit will cost 100.\n",
        "#Judge and print total cost for user.\n",
        "\n",
        "\n",
        "quantity=int(input(\"Enter the quantity \"))\n",
        "cost=float(quantity*100)\n",
        "\n",
        "if(cost>1000):\n",
        "  actual_cost=float(cost-0.1*cost)\n",
        "  print(\"Your total cost is\", actual_cost)\n",
        "else:\n",
        "  print(\"Enter the quantity again\")\n"
      ],
      "metadata": {
        "colab": {
          "base_uri": "https://localhost:8080/"
        },
        "id": "p3yPxiZRNfJk",
        "outputId": "6284069f-de6e-49ab-e528-e9855ef424ac"
      },
      "execution_count": 2,
      "outputs": [
        {
          "output_type": "stream",
          "name": "stdout",
          "text": [
            "Enter the quantity 90\n",
            "Your total cost is 8100.0\n"
          ]
        }
      ]
    },
    {
      "cell_type": "code",
      "source": [
        "#5.A school has following rules for grading system:\n",
        "#a. Below 25 - F\n",
        "#b. 25 to 45 - E\n",
        "#c. 45 to 50 - D\n",
        "#d. 50 to 60 - C\n",
        "#e. 60 to 80 - B\n",
        "#f. Above 80 - A\n",
        "#Ask user to enter marks and print the corresponding grade.\n",
        "\n",
        "\n",
        "marks=float(input(\"Enter your marks and I will give your grade \"))\n",
        "\n",
        "if (marks<25):\n",
        "  print(\"Your grade is F\")\n",
        "\n",
        "elif (marks>=25 and marks<45):\n",
        "  print(\"Your grade is E\")\n",
        "\n",
        "elif (marks>=45 and marks<50):\n",
        "  print(\"Your grade is D\")\n",
        "\n",
        "elif (marks>=50 and marks<60):\n",
        "  print(\"Your grade is C\")\n",
        "\n",
        "elif (marks>=60 and marks<=80):\n",
        "  print(\"Your grade is B\")\n",
        "\n",
        "elif (marks>=80 and marks<=100):\n",
        "  print(\"Your grade is A\")\n",
        "\n",
        "else:\n",
        "  print(\"Enter valid marks up to 100\")\n"
      ],
      "metadata": {
        "colab": {
          "base_uri": "https://localhost:8080/"
        },
        "id": "gymCcWV5x0NM",
        "outputId": "dd3d25f0-0222-4e0b-f2f3-e7b0309f1901"
      },
      "execution_count": 9,
      "outputs": [
        {
          "output_type": "stream",
          "name": "stdout",
          "text": [
            "Enter your marks and I will give your grade 567\n",
            "Enter valid marks\n"
          ]
        }
      ]
    },
    {
      "cell_type": "code",
      "source": [
        "#6.Take input of age of 3 people by user and determine oldest and youngest among them.\n",
        "\n",
        "\n",
        "userone =int(input(\"Enter your age\"))\n",
        "usertwo =int(input(\"Enter your age\"))\n",
        "userthree =int(input(\"Enter your age\"))\n",
        "\n",
        "if(userone>usertwo and userone >userthree ):\n",
        "  print(\"First user is oldest\")\n",
        "elif(usertwo>userone and usertwo>userthree ):\n",
        "  print(\"Second user is oldest\")\n",
        "else:\n",
        "  print(\"Third user is oldest\")\n",
        "\n",
        "if(userone<usertwo and userone<userthree ):\n",
        "  print(\"First user is youngest\")\n",
        "elif(usertwo<userone and usertwo<userthree ):\n",
        "  print(\"Second user is Youngest\")\n",
        "else:\n",
        "  print(\"Third user is youngest\")\n"
      ],
      "metadata": {
        "colab": {
          "base_uri": "https://localhost:8080/"
        },
        "id": "nM1Iq0oWz5r2",
        "outputId": "345b3ce2-3635-46c4-e9ee-f75a60ab1dca"
      },
      "execution_count": 11,
      "outputs": [
        {
          "output_type": "stream",
          "name": "stdout",
          "text": [
            "Enter your age10\n",
            "Enter your age5\n",
            "Enter your age1\n",
            "First user is oldest\n",
            "Third user is youngest\n"
          ]
        }
      ]
    },
    {
      "cell_type": "code",
      "source": [
        "#7.Write a program to print absolute vlaue of a number entered by user. E.g.-\n",
        "#INPUT: 1        OUTPUT: 1\n",
        "#INPUT: -1        OUTPUT: 1\n",
        "\n",
        "number=float(input(\"Enter the number you want to find the absolute value of: \"))\n",
        "\n",
        "if (number > 0):\n",
        "  print(\"The absolute value of number you entered is \", number)\n",
        "else:\n",
        "  value=number*-1\n",
        "  print(\"The absolute value of number you entered is \", value)\n",
        "\n",
        "\n",
        "\n"
      ],
      "metadata": {
        "colab": {
          "base_uri": "https://localhost:8080/"
        },
        "id": "gCRva7Jr363W",
        "outputId": "1c1b3989-95c7-4dc1-d048-4d9345178559"
      },
      "execution_count": 22,
      "outputs": [
        {
          "output_type": "stream",
          "name": "stdout",
          "text": [
            "Enter the number you want to find the absolute value of: -90\n",
            "The absolute value of number you entered is  90.0\n"
          ]
        }
      ]
    },
    {
      "cell_type": "code",
      "source": [
        "#8.A student will not be allowed to sit in exam if his/her attendence is less than 75%.\n",
        "#Take following input from user\n",
        "#Number of classes held\n",
        "#Number of classes attended.\n",
        "#And print\n",
        "#percentage of class attended\n",
        "#Is student is allowed to sit in exam or not.\n",
        "\n",
        "name=input(\"Enter your name: \")\n",
        "totalclass= int(input(\"Enter toal number of classes held \"))\n",
        "attendedclass= int(input(\"Enter the number of classes you attended \"))\n",
        "\n",
        "percentcalss=float(attendedclass/totalclass)*100\n",
        "\n",
        "if(percentcalss<75):\n",
        "  print(\"Sorry,\" ,  name ,  \"your attendance is\", percentcalss, \"%\" ,\" and You are not allowed to sit in exam.\")\n",
        "\n",
        "else:\n",
        "  print(\"You have \", percentcalss, \"% of attendance,\" ,\"All the best for your exam.\")"
      ],
      "metadata": {
        "colab": {
          "base_uri": "https://localhost:8080/"
        },
        "id": "bIeOb2XQ8IDl",
        "outputId": "28c71b0a-b366-4605-d86a-3ffb18659746"
      },
      "execution_count": 32,
      "outputs": [
        {
          "output_type": "stream",
          "name": "stdout",
          "text": [
            "Enter your name: sameer\n",
            "Enter toal number of classes held 10\n",
            "Enter the number of classes you attended 3\n",
            "Sorry sameer your attendance is 30.0 %  and You are not allowed to sit in exam\n"
          ]
        }
      ]
    },
    {
      "cell_type": "code",
      "source": [
        "#9.Modify the above question to allow student to sit if he/she has medical cause.\n",
        "#Ask user if he/she has medical cause or not ( 'Y' or 'N' ) and print accordingly.\n",
        "\n",
        "name=input(\"Enter your name: \")\n",
        "totalclass= int(input(\"Enter toal number of classes held \"))\n",
        "attendedclass= int(input(\"Enter the number of classes you attended \"))\n",
        "\n",
        "percentcalss=float(attendedclass/totalclass)*100\n",
        "\n",
        "if(percentcalss<75):\n",
        "  print(\"Sorry,\" ,  name ,  \"your attendance is\", percentcalss, \"%\" ,\" and You are not allowed to sit in exam.\")\n",
        "\n",
        "  userreply= input(\"Do you have any medical cause? Y or N ?\" )\n",
        "\n",
        "  if (userreply == 'y' or userreply == 'Y'):\n",
        "    print(\"Contact your program coordinator with medical proof\")\n",
        "\n",
        "  elif (userreply== 'n' or userreply== 'N'):\n",
        "    print(\"Sorry,\" ,  name ,  \"your attendance is\", percentcalss, \"%\" ,\" and You are not allowed to sit in exam.\")\n",
        "  else:\n",
        "    print(\"Enter Valid response \")\n",
        "else:\n",
        "  print(\"You have \", percentcalss, \"% of attendance,\" ,\"All the best for your exam.\")"
      ],
      "metadata": {
        "colab": {
          "base_uri": "https://localhost:8080/"
        },
        "id": "uDCiV4jl-jeK",
        "outputId": "fc1e98c2-6fad-4199-e2fa-36094d5182cf"
      },
      "execution_count": 40,
      "outputs": [
        {
          "output_type": "stream",
          "name": "stdout",
          "text": [
            "Enter your name: sam\n",
            "Enter toal number of classes held 10\n",
            "Enter the number of classes you attended 5\n",
            "Sorry, sam your attendance is 50.0 %  and You are not allowed to sit in exam.\n",
            "Do you have any medical cause? Y or N ?y\n",
            "Contact your program coordinator with medical proof\n"
          ]
        }
      ]
    }
  ]
}