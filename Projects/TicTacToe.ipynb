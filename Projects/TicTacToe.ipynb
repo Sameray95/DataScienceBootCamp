{
  "nbformat": 4,
  "nbformat_minor": 0,
  "metadata": {
    "colab": {
      "provenance": []
    },
    "kernelspec": {
      "name": "python3",
      "display_name": "Python 3"
    },
    "language_info": {
      "name": "python"
    }
  },
  "cells": [
    {
      "cell_type": "code",
      "execution_count": 2,
      "metadata": {
        "colab": {
          "base_uri": "https://localhost:8080/"
        },
        "id": "gziOB1LYzWl0",
        "outputId": "62d2addf-002b-41a1-b706-11de9d83cf39"
      },
      "outputs": [
        {
          "output_type": "stream",
          "name": "stdout",
          "text": [
            " 1 | 2 | 3 \n",
            "-----------\n",
            " 4 | 5 | 6 \n",
            "-----------\n",
            " 7 | 8 | 9 \n",
            "Please choose between 1 and 9 :- 8\n",
            " 1 | 2 | 3 \n",
            "-----------\n",
            " 4 | 5 | 6 \n",
            "-----------\n",
            " 7 | X | 9 \n"
          ]
        }
      ],
      "source": [
        "def display_board(board_list):\n",
        "    print(\" {} | {} | {} \".format(board_list[0],board_list[1],board_list[2]))\n",
        "    print(\"-----------\")\n",
        "    print(\" {} | {} | {} \".format(board_list[3],board_list[4],board_list[5]))\n",
        "    print(\"-----------\")\n",
        "    print(\" {} | {} | {} \".format(board_list[6],board_list[7],board_list[8]))\n",
        "\n",
        "available = [num for num in range(1,10)]\n",
        "display_board(available)\n",
        "\n",
        "position_to_replace=int(input(\"Please choose between 1 and 9 :- \"))\n",
        "position_to_replace=available.index(position_to_replace)\n",
        "while True:\n",
        "  if position_to_replace<0 or position_to_replace>8:\n",
        "    print(\"Invalid Input\")\n",
        "    position_to_replace=int(input(\"Please choose between 1 and 9 :- \"))\n",
        "  else:\n",
        "    available[position_to_replace]=\"X\"\n",
        "    break\n",
        "\n",
        "display_board(available)\n",
        "\n"
      ]
    }
  ]
}