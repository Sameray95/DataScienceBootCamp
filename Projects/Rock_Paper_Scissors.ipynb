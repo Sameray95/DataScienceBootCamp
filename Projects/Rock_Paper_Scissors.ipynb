{
  "nbformat": 4,
  "nbformat_minor": 0,
  "metadata": {
    "colab": {
      "provenance": []
    },
    "kernelspec": {
      "name": "python3",
      "display_name": "Python 3"
    },
    "language_info": {
      "name": "python"
    }
  },
  "cells": [
    {
      "cell_type": "code",
      "execution_count": null,
      "metadata": {
        "id": "ZEvuuq5PYjff"
      },
      "outputs": [],
      "source": []
    },
    {
      "cell_type": "code",
      "source": [
        "#Rock Paper Scissors\n",
        "\n",
        "#rock smashes scissors\n",
        "#paper saves rock\n",
        "#scissors cut paper\n",
        "#same choice tie\n",
        "\n",
        "# rock & scissors -- rock wins\n",
        "# paper & rock -- paper wins\n",
        "# Scissors & paper-- sciccors wins\n",
        "\n"
      ],
      "metadata": {
        "id": "1mqtKb_-V4Gv"
      },
      "execution_count": null,
      "outputs": []
    },
    {
      "cell_type": "code",
      "source": [
        "import random\n",
        "\n",
        "\n",
        "possible_actions=[\"rock\",\"paper\",\"scissors\"]\n",
        "\n",
        "while(True):\n",
        "\n",
        "  user_input=input(\"Please make a choice from rock, paper and scissors \").casefold()\n",
        "  computer_actions=random.choice(possible_actions)\n",
        "\n",
        "  print(\"Computer chose\", computer_actions)\n",
        "\n",
        "  if (user_input== 'rock' and computer_actions == 'paper'):\n",
        "      print(\"Sorry You lost, Winner is computer, Lets play again\")\n",
        "\n",
        "  elif (user_input== 'paper' and computer_actions == 'scissors'):\n",
        "      print(\"Sorry You lost, Winner is computer, Lets play again\")\n",
        "\n",
        "  elif (user_input== 'Scissors' and computer_actions == 'rock'):\n",
        "      print(\"Sorry You lost, Winner is computer, Lets play again\")\n",
        "\n",
        "  elif  user_input==computer_actions:\n",
        "    print(\"Game Draw, Lets play again\")\n",
        "\n",
        "  else:\n",
        "    print(\"Congratulations!!! You Won\")\n",
        "    break\n",
        "\n",
        "\n",
        "\n"
      ],
      "metadata": {
        "colab": {
          "base_uri": "https://localhost:8080/"
        },
        "id": "4i1S_sZHiZ5M",
        "outputId": "daa02538-e854-4e9b-84f1-0de295d5b526"
      },
      "execution_count": 48,
      "outputs": [
        {
          "output_type": "stream",
          "name": "stdout",
          "text": [
            "Please make a choice from rock, paper and scissors paper\n",
            "Computer chose paper\n",
            "Game Draw, Lets play again\n",
            "Please make a choice from rock, paper and scissors paper\n",
            "Computer chose scissors\n",
            "Sorry You lost, Winner is computer, Lets play again\n",
            "Please make a choice from rock, paper and scissors ROCK\n",
            "Computer chose scissors\n",
            "Congratulations!!! You Won\n"
          ]
        }
      ]
    },
    {
      "cell_type": "code",
      "source": [],
      "metadata": {
        "id": "tGTnsl1YidlL"
      },
      "execution_count": null,
      "outputs": []
    }
  ]
}